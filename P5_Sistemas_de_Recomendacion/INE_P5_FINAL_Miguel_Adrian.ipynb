{
  "nbformat": 4,
  "nbformat_minor": 0,
  "metadata": {
    "colab": {
      "name": "INE_P5_FINAL",
      "provenance": [],
      "collapsed_sections": [],
      "toc_visible": true
    },
    "kernelspec": {
      "name": "python3",
      "display_name": "Python 3"
    },
    "language_info": {
      "name": "python"
    }
  },
  "cells": [
    {
      "cell_type": "markdown",
      "source": [
        "# **Práctica 5 - Sistemas de recomendación**\n",
        "### **Miguel Carreras Lahoz y Adrián Rubio Pintado**"
      ],
      "metadata": {
        "id": "dwrnys0266mr"
      }
    },
    {
      "cell_type": "markdown",
      "source": [
        "# **Exploración y Lectura del Dataset**"
      ],
      "metadata": {
        "id": "7S-C5UHm6-b6"
      }
    },
    {
      "cell_type": "code",
      "execution_count": 1,
      "metadata": {
        "id": "435vhe_q61FC"
      },
      "outputs": [],
      "source": [
        "import numpy as np\n",
        "import pandas as pd\n",
        "import matplotlib.pyplot as plt"
      ]
    },
    {
      "cell_type": "code",
      "source": [
        "from google.colab import drive\n",
        "drive.mount('/content/drive')"
      ],
      "metadata": {
        "colab": {
          "base_uri": "https://localhost:8080/"
        },
        "id": "M9fbCc0H7DqX",
        "outputId": "2632e005-494f-4f23-dabc-e0db0f93d4e8"
      },
      "execution_count": 2,
      "outputs": [
        {
          "output_type": "stream",
          "name": "stdout",
          "text": [
            "Mounted at /content/drive\n"
          ]
        }
      ]
    },
    {
      "cell_type": "code",
      "source": [
        "%cd \"drive/MyDrive/cf-dataset\""
      ],
      "metadata": {
        "colab": {
          "base_uri": "https://localhost:8080/"
        },
        "id": "tY_HCvDA7Dvn",
        "outputId": "f43b7eb7-8441-451e-a17a-5362b3cb967b"
      },
      "execution_count": 3,
      "outputs": [
        {
          "output_type": "stream",
          "name": "stdout",
          "text": [
            "/content/drive/MyDrive/cf-dataset\n"
          ]
        }
      ]
    },
    {
      "cell_type": "markdown",
      "source": [
        "#### **Cálculo de valores nulos por usuario**"
      ],
      "metadata": {
        "id": "qz-Tq4vt7GN_"
      }
    },
    {
      "cell_type": "markdown",
      "source": [
        "En el conjunto de train/test ya están eliminados los usuarios sin ninguna valoración. Aún así vamos a ver que porcentaje de valores nulos tenemos por usuario en los conjuntos de train/test."
      ],
      "metadata": {
        "id": "cyv-g-pj7Mx0"
      }
    },
    {
      "cell_type": "code",
      "source": [
        "# Usaremos la matriz de entrenamiento para entrenar\n",
        "mat_train = pd.read_csv('training-matrix.dat',sep='\\t')\n",
        "print('Porcentaje de ratings no calificados del conjunto total por usuario:')\n",
        "mat_train.isna().sum()/150 #Para obtener el porcentaje de NO VALORACIONES"
      ],
      "metadata": {
        "colab": {
          "base_uri": "https://localhost:8080/"
        },
        "id": "EYAUnBV-7DyJ",
        "outputId": "2b646d30-1a98-4a09-ae45-ac155e4638cf"
      },
      "execution_count": 4,
      "outputs": [
        {
          "output_type": "stream",
          "name": "stdout",
          "text": [
            "Porcentaje de ratings no calificados del conjunto total por usuario:\n"
          ]
        },
        {
          "output_type": "execute_result",
          "data": {
            "text/plain": [
              "item    0.000000\n",
              "0       0.360000\n",
              "1       0.200000\n",
              "2       0.540000\n",
              "3       0.473333\n",
              "4       0.573333\n",
              "5       0.746667\n",
              "6       0.653333\n",
              "7       0.620000\n",
              "8       0.600000\n",
              "11      0.726667\n",
              "12      0.620000\n",
              "13      0.646667\n",
              "14      0.600000\n",
              "15      0.713333\n",
              "17      0.613333\n",
              "18      0.733333\n",
              "19      0.686667\n",
              "21      0.553333\n",
              "dtype: float64"
            ]
          },
          "metadata": {},
          "execution_count": 4
        }
      ]
    },
    {
      "cell_type": "code",
      "source": [
        "# Usaremos la matriz de entrenamiento para entrenar\n",
        "mat_test = pd.read_csv('test-matrix.dat',sep='\\t')\n",
        "print('Porcentaje de ratings no calificados del conjunto total por usuario:')\n",
        "mat_test.isna().sum()/150 #Para obtener el porcentaje de NO VALORACIONES"
      ],
      "metadata": {
        "colab": {
          "base_uri": "https://localhost:8080/"
        },
        "id": "OpvmlC847D0Z",
        "outputId": "fb3c8e90-50ab-4756-f59a-2d4ba059109a"
      },
      "execution_count": 5,
      "outputs": [
        {
          "output_type": "stream",
          "name": "stdout",
          "text": [
            "Porcentaje de ratings no calificados del conjunto total por usuario:\n"
          ]
        },
        {
          "output_type": "execute_result",
          "data": {
            "text/plain": [
              "item    0.000000\n",
              "0       0.620000\n",
              "1       0.580000\n",
              "2       0.660000\n",
              "3       0.646667\n",
              "4       0.673333\n",
              "5       0.713333\n",
              "6       0.693333\n",
              "7       0.680000\n",
              "8       0.673333\n",
              "11      0.706667\n",
              "12      0.680000\n",
              "13      0.686667\n",
              "14      0.680000\n",
              "15      0.706667\n",
              "17      0.680000\n",
              "18      0.713333\n",
              "19      0.700000\n",
              "21      0.666667\n",
              "dtype: float64"
            ]
          },
          "metadata": {},
          "execution_count": 5
        }
      ]
    },
    {
      "cell_type": "markdown",
      "source": [
        "## **EJERCICIO 1:**\n",
        "**Aplicar un algoritmo de filtrado colaborativo basado en memoria para generar recomendaciones de películas para cada estudiante. Aplicarlo utilizando las puntuaciones de entrenamiento como base para recomendar películas del conjunto de test, y observar el nivel de acierto.** \n"
      ],
      "metadata": {
        "id": "zMceuhVM7VZD"
      }
    },
    {
      "cell_type": "markdown",
      "source": [
        "EL filtrado colaborativo  KNN basado en memoria presenta dos variantes principales: basado en usuario y basado en item. Elegimos el algoritmo de KNN basado en usuarios para poder ver la afinidad de gustos entre películas con nuestros compañeros.\n",
        "\n",
        "\n",
        "### **KNN Basado en usuario:** \n",
        "Deseamos recomendar a un usuario $u$ los ítems  puntuados por usuarios vecinos $v$ \"similares\" a $u$. Tenemos dos opciones principales de formualización en este caso:\n",
        "\n",
        "  $$\\hat{r}(u,x) =\\bar{r}(u)+c \\sum_{v \\in \\eta_k(u)} sim(u,v)(r(v,x)-\\bar{r}(v))$$ \n",
        "\n",
        "**Escogemos esta variante,** de modo que cuando para un item, ninguno del top k vecinos del usuario lo haya puntuado, se devuelva **la media del propio usuario.** **También para cuando solo hay un único vecino que lo haya puntuado,** de este modo  le damos estabilidad a la recomendación, y no \"falseamos\" de algún modo las métricas.\n",
        "Además cabe destacar que **estamos centrando los ratings de cada vecino con su media, para que la desviacíon de la recomenación sea de nuevo más estable**  y no depende de los sesgos de puntuación de los vecinos, especialmente cuando son pocos.\n",
        "  \n",
        "Siendo $c$ una constante de normalización tal que \n",
        "$$ c = \\frac{1}{\\sum_{v \\in \\eta_k(u)}|sim(u,v)|} $$\n",
        "I(v) el conjunto de items puntuados por un usuario $v$:\n",
        "$$ I(v) = \\{y \\in I | r(v,y) \\neq ∅\\} $$\n",
        "\n",
        "y $η_{k}(u)$ el top K vecinos más parecidos al usuario u:\n",
        "\n",
        "$$η_{k}(u) = top(k, sim(u,.), U)$$\n",
        "\n",
        "\n",
        "### **Función de Similitud**\n",
        "La similitud entre dos usuarios u,v la podemos formalizar de dos modos: con la función coseno o con la correlación de Pearson.\n",
        "\n",
        "   siendo $r(u),r(v)$ funciones de   ratings de los usuarios u y v.\n",
        "   **Vamos a implementar ambas**\n",
        "1. **Similitud Coseno.**\n",
        "  Cuya formalización matemática queda tal que así:\n",
        "  ![image.png](data:image/png;base64,iVBORw0KGgoAAAANSUhEUgAAAv4AAACsCAYAAAADvKhsAAAgAElEQVR4nOzdd3xP1//A8df9jCCRRRIEETOIvVeIHdQqalYV1X61SpUqpbU6lB+qRY3WqtpKxYhVI1at2KOoUISQvfP53PP74xMziex8PuI8H488Hu1n3Hvu+5zr877nnnuOIoQQSJIkSZIkSZKUp2nMXQBJkiRJkiRJknKeTPwlSZIkSZIk6TUgE39JkiRJkiRJeg3IxF+SJEmSJEmSXgMy8ZckSZIkSZKk14BM/CVJkiRJkiTpNSATf0mSJEmSJEl6DcjEX5IkSZIkSZJeAzpzF0CSJEmS8qIVK1Zw7do1s+2/Xbt2NGjQwGz7lyTJ8sjEX5IkSZJywNGjR5k3b57Z9q/Vai0v8TcYMOh0eS75MBgM6HSvylEZMBh0vDLFTUsebVM5RcZJkiRJknLA9OnTOXbsGCdPnkz2Xps2bahdu3aW9yGEID4+nitXrrBz504MBsOT94KDg7O8/exj5N6eb/jfjwoT1o+ndp7KPuI5MKE7v5f/mtkDq1HQ3MV5CeO9PXzzvx9RJqxnfB6phPgDE+j+e3m+nj2QapYcfAuRN2pdkiRJkiyMtbU1mzZtom7dugQFBT33XkBAAIsWLcLNzS3b9hcSEsIPP/zA5MmTAXj48GG2bTtr4riw+B26zxR8smZJHkv6AfLhPXwovh070fbaYv6Y2goXC3yCMu7CYt7pPhPxyRqW5KFKyOc9nKG+HenU9hqL/5hKK0sMvgWR0ZEkSZKkHFKiRAn++OMP8uXL99zrDx48oHPnzkRHR2fbvgoVKsSkSZOYPXs2YCk9/gauLX2bDl+G87+1yxlS1cbcBcoRmqLtmL7+W9xX9+SN8fsIVc1doucZri3l7Q5fEv6/tSwfUpU8VQuaorSbvp5v3VfT843x7LO04FsYRQghzF0ISZIkScrLli9fzjvvvJPs9R49erBmzRoURcm2famqSrly5bCzsyMgICDbtpsZkf5j8W6/grLzj7C6b8k839sYvmc4Dd9YR/mfDrJxUFm05i4QQKQ/Y73bs6LsfI6s7kvJvFoJ4XsY3vAN1pX/iYMbB1HWIoJvefJq9UuSJEmSxejfvz+jRo1K9vq6deuYOnVqtu5Lo9Hw3nvvmb/HP2wXYwfN5EaDsXzbK+8n/QD2LSfzf/3zs33UIGaeTzB3cYAwdo0dxMwbDRj7ba+8m/QD2Ldk8v/1J//2UQyaeR5LiL4lkj3+kiRJkpQLjEYjHTt2ZPv27cne27hxI127ds22fV27dg1PT0/i4uKy9W5C+sXgP7oeLWfHMGj7Oea1ylODS15KvTmPdtWH8XftmRzdNRwPM/Y8x/iPpl7L2cQM2s65ea3y1hCflKg3mdeuOsP+rs3Mo7sYbs7gW6i8fO0nSZIkSRZDq9WyatUqKlasmOy9t99+m7Nnz2bbvkqXLo2joyNRUVHZts2MMF5ZwIQFFxGe/RjinefTzedo3HszpKMLEQemMXH9A8w24tx4hQUTFnBReNJviHfeT/oBNO70HtIRl4gDTJu4ngdyuH8yMvGXJEmSpFxib2/Pn3/+iYODw3OvR0dH06lTp2wbnqPVagkKCsLW1jZbtpcxUeyeNYeDkTqqdO5OlbwzgUw6OeLzlg9FRBAbv5/HWUPa38gJUbtnMedgJLoqnen+GlWCo89b+BQRBG38nnnmCr4Fk4m/JEmSJOWi8uXLs3btWrTa54chBAYG0r17dxISXu3Ryeq9tcxdcwujrjQt2lZ8LecNt2neHm9HhYQzv/CTnxnuuqj3WDt3DbeMOkq3aEvF16kSbJrT3tsRJeEMv/zkh3nueVkumfhLkiRJUi5r3bo1M2fOTPb6gQMHGDZsGK/u43dG/l21jF3hKprCDWlaw8rcBTIPm8Y0qWmFYrzLH79uIjiXh5wY/13Fsl3hqJrCNGxag9erFmxo3KQmVoqRu3/8yqbcDr6Fk4m/JEmSJJnBsGHDGDRoULLXFy5cyLx588xQomxgvMa69UeJFwq6yjWpmd/cBTITjQt16pRFi0ronnX4PszN5NPItXXrORovUHSVqfnaVYIGlzp1KKsFNXQP63wfmu85CwskE39JkiRJMgNFUZg3bx5NmjRJ9t7w4cPZs2ePGUqVNcZb29hxKhGBBtfK1SxyBdvcocOjSgUKKCAiDuC7Mzz3dm28xbYdp0gUoHGtTLXXsBJ0HlWoYAo+B3x3kovRt3ivX2uQJEmSJAthZWXFhg0bcHNze+51o9FIjx49uH79uplKljkhf+3lZIIAtLiXK4ve3AUyowLlylNCC4gIDu3xJya3dhzyF3tPJiAArXs5yr6OlVCgHOVNwSfi0B78cy34lk8m/pIkSZJkRi4uLmzevBlra+vnXg8NDaVjx45ERESYqWQZFc+Jw6eIFYDGHrfSLq91kqFzd6e4BkDl0fHD5NZ6XvEnDnPKVAnYu5V+Pe+66NxxNwUf9dFxDlvEYmqW4XVsDpIkSZJkUWrUqMHy5cuTvX7p0iX69OmD0WjMoT0LEsICOXvQl5XzvmXs0L684VWdaoM3Evb4+WJDEPtm9KOuqx1O9SdxLD6VTRlvEnA+GCOAxplixdKbYgjCApbzaYcqFLUvTNX3/+BeioOyY/Ed4IRWUdB7fsHJbJmpURAXfIXDfy5hxufv8WZTT0pW7s+6Oy8UQA3Gf2YfarrYYFe2Ez+dTS0IT2nsXXG1N8XAeD2AMy8bbyISCAs8y0Hflcz7dixD+76BV/VqDN4YxtNq2MeMfnVxtXOi/qRjpFwCIzcDzhNsqgScixVLO9FTY3lw+TBbV/zAV8P60b6BB2W6LSUopefLEy+xsFt5HJ2q0GvhBeLS2nYaRFwwVw7/yZIZn/Pem03xLFmZ/uvuvDAmXyXYfyZ9arpgY1eWTj+dTeXYn6Gxx9XV3nTsxusEvDT4rxkhSZIkSZJFmDhxogCS/Y0ZMyZndmg4K6Y2LCpKlHQW1hrFtD+loOi4LFioQggRdVbM7+Im9EpSWfK1FgvuqSlvK3aT6O+sMX3OqpmYedOYjgIkiBur3xXVihUSBZP2rzi+I3zjUvho4jExxkMnQCtKfbxfxGf+qJ/Z5t/icw/dC/HWCJceq8T9x4eZeFOsfddD5H8cA3SiyvhTaW87/pD4tELStnXlxYgDqZfYcHaqaFi0hCjpbC00SftRCnYUy4JNhYg6O190cdMLJamM+VovEClXQ6zY1N9ZaECAlWg286ZIqxYSDo0UZbXPtzelQBux8G7yHRhv/Si8rZI+49hXbIpOOwypSxR/f+4hdC+0dY1LD7HqafDFzbXvCo/8ypP3dVXGi1OJaW07Xhz6tELStnWi/IgD2dNe8gDZ4y9JkiRJFmLChAl079492evTpk1j5cqV2b9DbVW+OHyP27fucmZaQ6wApUBjOrYujBJ/iV/G/4b91/tZ0s0BBdC516KGk5LiptRHgdwON/XVKootDg5ppRiC0L3jGLajBRuv+TOulmmyeV2pMrilMO+84cI2tl83gMaJlj51s2eKSl0dpp6PwxAbzOXtX+PjqkVBJdj3FzbeVUFEcHDCO/xcZBYX7xzn57er4FSkDp1alU1729pCFHJMipXxHoG3Uh9uoq36BYfv3ebW3TNMa2gFKBRo3JHWhRXiL/3C+N/s+Xr/Ero5KIAO91o1SLEa1EcE3g439ZgrCrYODmn2+OvrTuJkeDwxd/Ywtr4NCiDijuK3P/kQM02JPkwc05jCGiDRQNZuuuioM/U8cYZYgi9v52sfV7QKqMG+/LLxLiqCiIMTeOfnIsy6eIfjP79NFaci1OnUirLatLatpVAhR0whMnIv8BZysE8Sc195SJIkSZL0VFRUlKhRo0ayXv98+fKJq1ev5tBeE8WZr6oJHYrI3/wncSvxvtg29kOx4FK8EEIVQWv7CTeH8uLt1bdT7UFOPD5OVNEn9QY79Bbr0uoNNt4Qv372vTgWJYQIXyveslcEaESxIX4ieYe/QZydVF3oQSgOb4m1YVk83BSp4sGansJZY7rr0Wl5sAjfP0q0G7L5ae9/Rhj/E3OaWyXVn140mX497e8knhFfVdMJlPyi+U+3ROL9bWLshwuEqRqCxNp+bsKh/Nti9e1UaiHxuBhXRZ9058ZB9E6zEp4XvrGvcNIgQCvKjDwkElL6kPpQLO9cUORvOlvcSM9NnXRSH6wRPZ01AhRRsNNyERy+X4xqN0RszlzwxX9zmgurpHNH32S6uG7IvrK+ymSPvyRJkiRZEBsbGzZv3oyLi8tzr7dq1YoyZcrkzE7Vexw8cAWjoqd2xzYkrpqMX60vGFzR1PtcpMcKAkOvsrxniVR7kI1hIUQkDc5WrKywSivD0JTm3WmjqWcDcUd3czBSgGKLV6v65Hvxs4mnWbX6AokoWDf2oZldlo42FQrOHfrR3kkDIobDW2bx1YxYhn3XEZeUb3K8nMYGG+unXwwPDUnzK+q9gxy4YkTR16Zjm0RWTfaj1heDMVVDEXqsCCT06nJ6lkgluMYwQp5WAlZpVsLzbL3b0cRaAYzcOXOG4JTG+YtIQkJt6fBBb9yzMYtUnDvQr70TGgQxh7cw66sZxA77jo6ZCz42NtY8+WZ4KCGv6pp42Uwm/pIkSZJkYdzc3Ni4cSMajeln2sPDg5UrV6LVpjnGIVNE8E62HktA6KrjU2Y7U061ZXy3dDwY+uw24uKJf5xc6XTo0p2vJXJ65x4eqKBYN6Gdd/KsPvqvxfx21QCKFXV9WqY8zCU72HjRwdsOBZVHGxZxu9d4fBwzuzM9ep2SlHwK4uPSeiRVELxzK8cSBLrqPpTZPoVTbcfTLd0PSQMijvinlYAu/ZUAgGJXm3oVTeOsDDf+4UYKY3niTy5ipRjBpO4uZG812ODVwRs7BdRHG1h0uxfjfRwzvQ+9XoeS9GURH0e8XMULkIm/JEmSJFmkM2fOoKoq9vb2bN68GXt7+xzakyBkly/+sQK9R0XurrtK53FvZDy5NhqfzsaiCtT09rAaLrFzdyBGFPLVb0+rwi/sWL3J8um/858R0FWjbaviOZi82NG8gxc2CgitGzVrOGchuVWeu1BT05qZSYSwy9efWKHHo+Jd1l3tzLg3nDK4fyPGp5WASHclJNGWorKHaZy/GnSDwBfnv084z5xxh3hj1sd45sD6AHbNO+BlCj5uNWvgnIUrC0Wr5Un0VSM5NS/Wq0Ym/pIkSZJkYQ4cOMDw4cNRFIVVq1bh4eGRg3uLYO+WfUQJBatHp4hsO5ZOmci4FL0e/eOvGQ3pTrTUW7vZeckA6KjZrg2uz2Umggcbp7Dggsb0cHH51rQulzN3PUwUHKrXoowWMFzk0NFHZGWEiCqedjPrrNJ4HDliL1v2RSEUKx6diqTt2E4ZT3wVPfqnlYAhw9muHvdybmgBYbjHf/ef3UAMx7/5mN1t5jCmdv6MbjhdFIfq1DIFn4uHjvIoa8F/eiGqs8qeh8HzAJn4S5IkSZIFuXXrFt27d8dgMDBt2jTatWuXszuM2seWvREIQC3Vn3G9M9ejrtjaYvN4aEVCeodWCB7s2cnpREDviU/b0s/tW9zfxITfrahTKg6BlhKt2lI1hRl/so14yNYfNnC3oAZEPCcOHs/CXPVGDAY16cJBwaZgwZd+OmrfFvZGCEClVP9x9C6eiVpQbLF9WgnEZXh8i5bibsVNPeVqKI9CHn9fELZ3PGOvDmThyGrJn8HIFoKHW39gw92CaBDEnzjI8SwsFGA0GJ7cdVJsClJQZryATPwlSZIkyWLExMTQpUsXgoOD6dOnD6NGjcrxfcb6+7IrRAWNM93GvE+lTCbW2sJOODzOOeOiiUrX/Inh7N95hDgButJt8Kn0TG++8RYrRy2l5Hue/HcmAaFxokV2TeOZIsFD38+Zrkzgh27OaFAJPerP+czOWalGExPzuMtawcHJ6SUfjsXfdxemaujGmPcrkalq0BbG6WklEJ2+SniGgl2RIqYLOBFOaLip/OL+Zsb+WICv5velVA7dcBEPffl8usKEH7rhrAE19Cj+mQ8+0TExT+7WKA5OOMmMF5CJvyRJkiRZBCEEgwcP5vTp09SqVYvFixejKDn1FOtj8RzZ4kewCtqSbzHQJ/PPEWiLl8T18TATEUV4eDp6m2OPsutgFAItRVv5UP1JthvHmVkfsb7Ot7wX+hdH4gSKbVPaNiqQ6fKlRb23nhGTo/loajdaN65NPgUMNw5x+MVVfNNLhBMelZR6auwpXtwh9c/GH2GLXzAqWkq+NZBMV4O2OCVd9U8eKI4KDyejpdc4F8FZC4hIwiKMEHeOnz73w2vWJLzsc6g9qvdYP2Iy0R9NpVvrxtQ2BZ9Dh19cxTe9BOHhUUmJvwb74sVJc1mJ14QMgyRJkiRZgBkzZrBq1SpcXFzYtGkTBQrkXJL7ROIJfHfcxYgW9269aJyVodsFylK2RFJ3sHjEw+C0UzbDxYMceaSCYkuTFnWThpAYubPxI0YE9GLOR+4c33WQKKGQr15LvOzAeHsjM1deTfYMQdyl5QxuUByHwmXw+mAZF6IzUPaEy8wf9DV8NouexbQUqteQijog8Qz+RyOTPhTPuYXfsSG9FwLGR4SEJSX+WjfKlk29Dz/xhC877hpB6063Xo3JfDUUoGzZEkkPtQoePQzOcOKsOBQy3bkRKpEhl1g/bg7qxzPo4/6yexBxXFo+mAbFHShcxosPll0g/eFP4PL8QXzNZ8zqWQxtoXo0NAWfM/5HeRL9cwv5bkN6LwSMPAoJS0r8tbiVLZu5Oyh5kEz8JUmSJMnM/Pz8+Pzzz9Hr9WzYsIGSJUvmyn4NAb5sv2UEbSk6dc3iMBqrSlTxyGfqbTY+4v79tIZpCCIvnOWGEdC5U6lCARARnFs6mJ4LyjLt5z64qWfY5x+Cihb32rVwijnB98M34NCwDM+NOBFBrPx0KL8eu0t4yL/4LxxE+xHbCU/l4dDowxNpXMwZz15zOHr7PMsGdWOB+3fM7l4UBdCWb0yjoloQUezbspdwkUjgxpFMuFSdZq7pTJ3U+wQlXfxobD3wLJNa6mkgwHc7pmroRNe6WakFKypV8SCfqRJ4dP9+hlfX1dg7Yq9JKteCmdzu+X98XNPmpd8RQSv5dOivHLsbTsi//iwc1J4R28NTfjA6+jATGxfD2bMXc47e5vyyQXRb4M53s7tT1BR8GjcqihZheu4hXJAYuJGREy5RvZlrOhNXlftBSRc9Gls8PMvIxD+JTPwlSZIkyYyuXbtGr169UFWVuXPn0qRJk1zas4ELW7dxzQCawt60rp3V0fN21K1T0ZRgiRBu3U5rmIkg7FGY6QFMw3nm9W9L86qV6bapBrPXfU69giCCAwi4bQRU7u/6hj5dvsYwci7vvphEi2jCwhKfJprCyO21y9iVYrezgX/8NvJ30EMurhlOw1I1+PzRUH6f6fN0ClOrOrTwSprPf+2HtPBuxFt/1OP779qle5pTNeQ/7kSpgIK+Wj3qpNaNb7jA1m3XMKChsHdrsloNdnXrmO5WIAi5dZv0jLh6lmJrR0FFQePYkKFz5zKivl2aU4qK6DDCEp+m+cJ4m7XLdqXY62/4x4+Nfwfx8OIahjcsRY3PHzH095n4PA0+dVp4Jc3nv5YPW3jT6K0/qPf9d7RLf/D5704UKqDoq1Ev1eC/fmTiL0mSJElmEhkZSefOnQkLC+PDDz/kvffey72dG/9h29ZLGFCwbtic+lnOjXSUb9qIklpMifeNf9PobdZQ6s3hDKrvik1+G/JbOdJwrC/HNg6njp0pwVPsq9G4VhGsbYtQqqQnveauZEITh+SJqKY0vcYMoV5RO5wq+9CnTRl0cfcJCk0p69Xh2WckPasUxq5IVTqNXceBDR9S5bnjt6X1R6No6VYQG2c3qnabje+yd6iQgelsDNevc1s17a9C48akNkmP8Z9tbL1kAMWahs3rZ2GYj4mufFMamSoB4+0b/JvRLn+tDXbFGjNhyxYmNLRP1zoCmtK9GDOkHkXtnKjs04c2ZXTE3Q8ipfDrPPswsmcVCtsVoWqnsaw7sIEPnw8+tq0/YlRLNwraOONWtRuzfZfxTsaCz3VT8NFVaEzjzMyQlEcpQgi5iLEkSZIk5TJVVXnzzTfZvHkzzZo1Y9euXej1ObAqUm6K2crgCp355Y6K9RuLub1lIIXMUIz4rQNwfTuBxbd/p+vLR6nkmODF7Sk1ZDux2nIM33OB2U1zayb5GLYOrkDnX+6gWr/B4ttbGJirlRDP1gGuvJ2wmNu/d8Us4Q9eTPtSQ9geq6Xc8D1cmN1UzuOfRF4CSZIkSZIZTJ48mc2bN1OqVCnWrVv36if9ANbedPUxjc+OvxjA2XhzFCKe0/uPkb99d7ytzbF/UxnOB1wiQYDOvQNv1s/NtNMa764+FNWCiL9IQG5XQvxp9h/LT/vu3pgr/PHnA7hkCj4d3qwvk/5nyMRfkiRJknLZH3/8waRJk7C2tmbTpk04OzvnyH4OHDiAl5dXjmw7ZTa0fLsbpXVgvH2MwzcyvHRslsUEzGLMxgpMmdIZx5yeDTU1xpscPXkHo6LHo3sfGuXMilepsmn5Nt1MlcCxwzfSvYpy1sUQMGsMGytMYUpnx3QNE8p+Rm4ePckdo4Leozt9cjv4Fk4m/pIkSZKUiy5cuED//v0BWLp0KTVq1MixfW3evBlHR8cc235K8jcezDs186EYzvPX3ruZnIc9E0QkVzaMoesHJ+i2egXvls6hlabSQQ3ez4GzBpQCjRg4qHbuzyiTvzGD36lJPsXA+b/2cjcXKkFEXmHDmK58cKIbq1e8i9nCrwaz/8BZDEoBGg0cRG05nc9zZOIvSZIkSbkkJCSEzp07ExUVxRdffEGPHj1ybF+xsbEsXboUDw+PHNtHinSeDBnRCWclliN/buVebmT+6g1WDB3A/11rwo+71/FxnbRnosnBwvBg6xYOx2pw7TGCd8uZIwPW4TlkBJ2cFWKP/MnWHK4E9cYKhg74P641+ZHd6z5+8nC2OagPtrLlcCwa1x6MeLcc5rv8s0wy8ZckSZKkXGAwGOjduzfXr1+nY8eOTJ48OUf3N2vWLEJCQqhYsWKO7ic5DS5vTWB4vQLEHFjOb1dzYaCJpgxvz9/AwjEdqVDQfEknAOptNqzeR5RNY0aM6Uju3m95SuPyFhOG16NAzAGW/5Z8wbNs3VeZt5m/YSFjOlbAvOFXub1hNfuibGg8YgwdzRV8CyYTf0mSJEnKBWPHjmXnzp1UqlSJ3377DY0mZ36ChRAsXLiQCRMmAJgh8Qd0VRk+YxhVxXEWzN5NeO6XwGziTyxgwX4D1YZ9x9BK5uxv1lF1+AyGVRUcXzCb3a9DJcSfYMGC/RiqDeO7oZVkb38K5HSekiRJkpTDVq5cSb9+/XBwcODvv/+mfPny2b6PW7du4efnx8qVK9m/f/+T14ODg3Fycsr2/aUtisMTvGk7U8On+w8w8XVYRMl4g/kd6jA6+AP89n9D44LmLhBEHZ6Ad9uZaD7dz4GJdbK8ToDlMnJjfgfqjA7mA7/9fGMJwbdAMvGXJEmSpBx08uRJmjRpQlxcHPb29hQrVixbtx8fH09YWBihoaHJ3itcuDAPHz7M1v1lSMJlFnRvyeh777Jj71Qa2ZqvKDnPwNX5nfCaZGT87j8ZVsVSZpNJ4PKC7rQcfY93d+xlah6tBMPV+XTymoRx/G7+HFYFS4m+pZGJvyRJkiTlkAcPHlCnTh1u375tlv03btwYf39/s+z7ibDDTO3ajSXFZrB7eV9K58lZVlTub/sEnyHH6fCbL5O9C1nYWOowDk/tSrclxZixezl981glqPe38YnPEI53+A3fyd4UsqzgWxQZGkmSJEnKAQkJCXTv3t1sST+Q+zP6pMShEeP/9GVE3Nd0/XAzQbk2v2duMRK4dgjtRt+k3/qtFpj0AzjQaPyf+I6I4+uuH7I5D1WCMXAtQ9qN5ma/9WyVSX+a8tYlnyRJkiRZiPHjx3Pw4EGzlsEsD/amxLY2w9b9Ra2NAcTkuXEGgsh8zflxby8aF7Hkx0ltqT1sHX/V2khAHqoEEZmP5j/upVfjIvJh3nSQQ30kSZIkKQf8/PPPXLp0yaxlGDBgADVr1jRrGSRJshwy8ZckC6OGnsD3dGE6tCgtey+krDFcYvceDU3aeuThmTwkSZKk9JIjoSTJgiTcWMv7Lfqy4j95akrZwcjp7zryxrdHCDN3USRJkiSzk9lFuhkwGMxdhmxkMJCXDicvUO9sZGiHkfzbdw1L+5cyc29/Trf3PHY+vcCQIweXiZjpqjBy2RSK/vImb04/SXQOlEqSJEl6dcjEPx2M9/YwpUt3vjuTdzKV+AMT6Dr4V85GmbskEgBxAUzv8x67as9ixcga2JixKLnS3uMPMKHrYH7Naw3QeI89U7rQ/bsz2X9hncmYad168tPCXjyY0pOPNt4j78zlIUmSJGWUTPzTEHdhMX1aDONc+yl8UjvvTIKUz3s4Q+3m06ntOHY/kKmAecVwdOogpvzTgm++70YxM56Vudbe83kzfKgd8zu1ZdzuB3kjGY27wOI+LRh2rj1TPqmd/VOmZSFmDi0m80N/Db8P/R9Lbxqzu2SSJEnSK0I+3PsShmtL6d1qHJEjd7Lp4yp57+E4YyCr+jfno396scFvKt6O8jrQHBICJtOk8beIz49xZEI1s82xm/vt3Ujgqv40/+gfem3wY6q346vbE2G4xtLerRgXOZKdmz6mSo4FL/MxU4N+o0fVdznU9FdOrnub4q9ssCVJkqTMkv/0pybSnwk9P+ZIveks+igPJv0A2lL0nreIflGz6DNgCddlR2DuU2+xfMIPnLJqy4dDqphvYQ2ztHctpXrPY1G/KGb1GcCSV7YBRuI/oScfH6nH9EUf5WDSD1mJmaZoDz4dUI5Hf05k8s7wHCyjlLMMnJ1UA72ioDz7p6/GV3loOKokSTlESEdLM5gAACAASURBVCkIFTs/rCCsHFqLn64ZzF2YHBe2bYgorXcQzb4/J+LNXZjXTOzBkcJDrxHOvdeKULOVwsztPWybGFJaLxyafS/OvYINMHTnh6KClYNo/dM1kWvRy2TMEs9NErX1irD2mi4u5/1/2vKwRBF2fbv4pLpegE5UGbFL3I1TzV0oSZJeAbLHPwUx/l/zyaIbFO/9GQPK5v2Z1O3bjmVUc5WD33zM/Cuvaq/rK0gNZuMPy/nHaI93x9Y4mKkYZm/v9m0ZO6o56sFv+Hj+FV6pFhjjz9efLOJG8d58NqBs7s3ElMmY6Sr14M2aOmIPz2POvpgcLaKUk3TYl2lBq1p2aDT21G3TlGL5FHMXSpKkV4BM/F9kvMKCCQu4KDzpN8TbrLOr5BqNO72HdMQl4gDTJq5HPuubO4yBv7N42yNEgYa0aWlnpkJYQnvX4N57CB1dIjgwbSLrX5kGaOTKggksuCjw7DcE71wNXiZjpi1P65Ye6IyBrFv4J49ytpBSDtNqNYAefd6Zd0KSpBwmE/8XRO2exZyDkeiqdKZ7ldfnX1NHn7fwKSII2vg9887KcaI5z8g/a1ZzOFagq9iAhoXMcypaTHt39OEtnyKIoI18P+/sq7HGRNRuZs05SKSuCp27m+H5jEzFTEe1pg1w0ao83LGSzUGvykXWK0pEE3hgOZMGNKdq62mcSwREKMfm9KGGswMVP9n73NoKhruHWDSuP+0aVsejjBslS5agRIkSlChREs8PtxJvruOQJCnPkIn/s9R7rJ27hltGHaVbtKXi65P3g01z2ns7oiSc4Zef/Mhjs6tbHuMVNmw8SYLQ4lKzDuXM0dYsqr3b0Ly9N45KAmd++Qk/i2+AKvfWzmXNLSO60i1oa5bgZS5m+lp1qWqlICL3sX7L/bwxlaqFMl75kR6t3mHisn2c3zudiWuuc2zuNI7UnM2J4DAuz2rx5C5b5KEptKw/gD8SG/C/mavYsf8ox479zd9/m/72fN2KfGY9GkmS8gKzJ/4JZ+fyZqXCWNu4Uu+jP8xaFuO/q1i2KxxVU5iGTWtgZdbS5DYbGjepiZVi5O4fv7IpWKYDOcn471a2nzEg0FLe0xO9WcpgWe3dpnETalopGO/+wa+bgi07ITX+y6pluwhXNRRu2JQaZgpeZmKmcahK1VJaENEc3raL0Bwv5etLW/FzjsXG8N/eL2hgHcKfY/qypsQIhnu5PH+HKGoXo/qvpPKvR/GdPpRODStTuqQrrq6P/4pR1EGm/ZIkZZ3ZE38U0wNJAgGY8+EkI9fWredovEDRVaZmzTw5gedLaHCpU4eyWlBD97DO96FlJ16vNJWHf/1FQKIArTPlKxYxw4loee1d41KHOqYGyJ51vjy04AZovLaO9UfjEYqOyjVrmm2630zFzKoCHmX0KAgi/XexPzrtr0iZp2gLULz5GL7s6YqIKEmDlkWT/dLF+P3KJrehjGtZ2AJ+lCVJysvM/m+MVdWhbLz0iNjoe/z9UxfzFcR4i207TpEoQONamWouZg9NrtN5VKFCAQVEBAd8dyJn+s4pcRw5eIJYAWhKUNrdDMNELLG96zyoUqEACoKIA75Y7lTzRm5t28EpU/CoXM3FfP+QZipmBSlbpigaQA07hv/phBwupATWlC5XHG3cOU5dfvFpDJWHgYE82PcZng522Nml9GdPiYGbiDNL2SVJykss4NfeQoT8xd6TCQhA616OsuYYe2FuBcpRvoQWEEQc2oO/nO0vZxguceJMGCqg5HPFrYQZptC0yPZegHLlS6AFRMQh9lhsAwzhr70nSTAFj3JmDV5mYqbDtYQp8ccYyKnj9+TdvRwmgrex2dgYb30gpwMeIZ57V4Nj0SIU8prM4X+uce1ayn9nfmifNxeSlCQpV8nEP0n8icOcMnXBYu9WGkvoAM11Onfci5sOXH10nMPnLbsnUA09w5qpQ3ijbjmKOhQgXwEHXCt58dZnv3D0wctnNhdRN9iz4DN6NqtO2aJ25M9XECf3mrR+ZwJLjwaR+PJvE3pqKaPerEcZJxusrApS1KMhnd77gpk/TaCT1ygOvWwDkec4e83U66cpXIxiZsgbLbO963B3L276R0l9xPHD57HIFhh/gsOnYhGAxt6N0mYNXmZipsW1eFGsFEAYuHTmjGXGOa8QYfy14gYNh75Dw/Iq50+dJxFQ42KfzNJj27Y3ra4u4der1ri4uKTw50xh2xcfJBEYEg0IjKjyyk2SpHTKnl+suOtsmdwXrwou2OSzwrZkfXpPXM2Juw+59GtvvEb5P/2siCf05hkObPmNud9+zv/6dKBJtaoM2RTxzAaNxDz4hxN7NrJk9mQ+HdyDNvU9aTT+yJOELOHWDr7p24jShQriWLYNX+55+FwvihpygsXDfKjsUhDb4l585vfghV6WZxm5GXCeYKMpJM7FiqU/MCKMgOWf0qFKUewLV+X9P1LpPYv1ZYCTFkXR4/nFyfRuPTk1lgeXD7N1xQ98Nawf7Rt4UKbbUoJSOrjESyzsVh5Hpyr0Wngh7dvEGntcXe2TegKvE3DGUsdaGLm/ezwtKnnx1bkKDF16iBsPQrlzYjHdrE+zfvp7eNXowP+dTGmaE8Gjg9/SvrInPZdG0eKrdfx94z73Lu9iVg8HLvz+NQMbe9J4xGZupZi8Cx5sG4ZX0zGcrDSWzReDiY4I5ODP71Dk5FxGD5vKtjsv/xVO+OcKNxJMFaYp7Ixzejv8RQJhgWc56LuSed+OZWjfN/CqXo3BG8OetG1D0D5m9KuLq50T9ScdS2X6P0tt7xrsXV2xNzVArgecycbhZoKEsEDOHvRl5bxvGTu0L294Vafa4I2EPQ0e+2b0o66rHU71J3EslbkTjTcDOG8KHhrnYhRLM3gqsQ8uc3jrCn74ahj92jfAo0w3lqZ80nJpYTfKOzpRpddCLqR90mYqZvrChXEwXS0Qeu0Kd16pVdNeBQn4f1YNz0FrObZxHmfrvIOXowf16zjw0H8vp24fYMHPf/Ho8clTuBvTZlRlXffWDF98gOthaU3OKki478/uk5EIEcaJXfv4N+KVmARXkiRzy/Lav4lXxIL2RYRWW0J0nL5X/BsRL2KDL4otk9uJEjpFoFiLzitCnnw84cCnokrxMqJcCXuhUxCAUKzbiV/uP7PcePwOMdSjjKhUoaiwTvoMmqJi8PYYIYQqQg5NFc2dtUIh6T0QVg1niGvGpCIFrhMDKxZ45n1F5GsxV/xnTO0gYsWm/s5CAwKsRLOZN0WqH31Wwg2x+t1qolihgkKjmPbj+I6viEspTMfGCA8dAm0p8fH++HSFNsVdHhopymqfHjcglAJtxMK7yZdrN976UXhbJX3Gsa/YFJ3W1uPFoU8rCB0I0InyIw6IzJc0p6giyPcDUSm/Vrh0WSoCDc+/G7VlgHDRmOpCV2642P/CMUcfnywa2ClCV+EjsSfsxZjFinMzW4pCGgRKPuHx/lZx/8WPRO0W/yulFflb/yxeDLka7CsGuWuFtvQnwj8h9SOIXttTOCS1a6sWP4o76WpsQhjOThUNi5YQJZ2tk9obQinYUSwLNhUk6ux80cVN/6Td52u9QNxL3iyEJbf3+EOfigo6U/l15UeIA9nVAA1nxdSGRUWJks7CWqOYzh2loOi4LFioQggRdVbM7+Im9I//vcnXWixIOXgidlN/4axJqr9mM8XNtIKXcEiMLKt97pxFKSDaLLwrku3BeEv86G2V9BlH0TftkzZTMYs/NkZUTvqO1u0DsSulSpSyIFGcnFpPOLnUEgOXX046R1QRuuV9Uc7BVTT68HdxJfbF7xjEf3tmiEGtqghXu3xCr9c/9+fcb4OITdr2mYnVk/6dfuZPV1V8GZCYu4cpSdIrJ8tPFUZuncL4HffRNprFnJHNcdcAtpV4Y8I67ENr0+KnAtSu8XRVUr3XDM79NwMSTzOhVj2mnjdiVceHlk7PzHNg1Za5l68D0ex8vxLtF95GtffGp1F+Yk59T7d3d1Jn7mnWNL3KJ9XeYuUDFSFUVAHiwVaGdfyKiA+282+3KL726syim0ZEXGzqPd7qIwJvh5t6LhUFWweHtHtARSh7xw1jR4uNXBu9lmbVx3EiUUepMm4pLORj4MK27Vw3gKZIS3zqZn7uP33dSZwM/xarcH+mvNmJ745FI+KO4rc/gvd62T/3WU2JPkwcs5puXx8iJNGQjgV+tBQq5Jg044SRe4G3SIA0pnkMx2/Seyw4k7XeJsW5HRsWvJfm50TQWj4etJDLoh7TpvXD7YXe8gLVa1FJt5QHCQLDzV3svGygaa2kGok7zjeDpnIssgCtvv8cb/sX59bIT5WP5zNhU01GHojmyqLBjGgVwMruLk9m4Ug8vgnf/1Q01a2TjbdVnNoxYXQz1v7fy45AJfhOEDECQEFjY4ttOrvbtVW/4PC9L8BwjRnNPBl9OJECjTvSurBC/KVfGP+bPV/vX4Ku5tusD9PiXqsGTilNlGXB7V1bqBCOSWU23gvkVtoNMJ0brsoXh+/xBQauzWiG5+jDJBZoTMfWhVHiL/HL+N+w/3o/S3Q1eXt9GFr3WtRIOXg8CrxNuCl4KLYOST3nL6Gvy6ST4XxrFY7/lDfp9N0xokUcR/32E/FeL547azUl6DNxDKu7fc2hkEQM6TitMhMzrb09tknfUR/e424CpDVJfLjfJN5bcCZri6spzrSbOJf3qub1RVJ01PriGMFfPPuagsMbP/NP6M+pfEdL8RafsrjFp2luu9pXASR+lT0llSTp9ZLFf30N/BtwjlAViAgjQuWZwUM2NHynJ5V/D6RmuRTGMohwQsMFoKNK21aUSOnHU33ElSsPUFGwadIOr5gtfPz+Xtqt3sbomjYQdwu9CqChcNXqlFSv8PPgKcR+sY1Vb5VCl3gUBz2AgnWp0hRN7Qdavcf94Me33Qtga5v2oGv15ib8XL7kp35lMawL4B8DoHGiXoMKJDta4yU2b7qEAQWHZj40KpDm5lOnL4i9HrBpwedjurCo+0oeqtGcPn6BxF6Nnp8PXilEs0mbmXXWnSGhDamV5pNhCra21jyeYDU++B4PjFDwpUNRErh9chd+e7I2Sljr5p6OTxk4/dMUNt5X0TfqQbcU2pWmeHdGDlnOxV8uYlW3J+0qPG7igqA1U/npXAJCX4/2bVIZ3qItz7sjuvCN/0qC1SDWT/6J0V0mUzNpM8aQh4Sogtg9c5lzoitf1S347N5xe7MPTeddeMkxqAQ/DHkyNCe/jU3y9pKmGKKiVFDyUb+jD87B2/lyrpH3Z/amov4+b71Rkt3HmjHpozopn+AW3N4VW1uskxJSER/MvbQbYIbFREWhopCvfkd8nIPZ/uVcjO/PpHdFPfffeoOSu4/RbNJH1Ek5eNy7H/yk/grY2qZjDQY9BU0nLS0+H0OXRd1Z+VAl+vRxLiT2otHzJy2Fmk1i86yzuA8JpWHaJ22mYqZY2zz9TuIjHgQbwfbl30m4fZJdfnuy9jyA1g33j41k+adHkiRJypQs/uurxbmoCzoF4s7P4/PFfdj0QYUnnU26cpXxrOVM9RR6n4xXDuAfZARdOVq3TiF5AMTDPfidSEAo+ajXphJ7Rn+KbuIGRtU0rXVoOH+IY2EqKPZ4tarJP7PfZav3Ita/VQodoN46xKFAIyj5qe1Vn1TzD2MYIRFJgy0VK6ys0u6C1ZR+l2mjAeLYufsgkQIUOy9a1U/ebZZ4ehWrLySCYkNjn2bYJftE5th6t6OJ9e9sijJy58wZgkUjXF/spBSRhITa0uGD3qa7MS+lwcbG+ukc0+GhhAgo89LvODP4z1AGZ+4QMsZwhg0br2BAQ5EqVVO+WNQUo9OPx3nw4wuvq/+xYdlOIgQoNmUp75p6MOxbdqa57e+sDRckXlrPuoAvqZmUBercy+KuhQvRx5jcujHXJ/3ANx94UyKp2hWX5rSucfUlB2EkIiwyaVy8gt5Kn+EHbdR7BzlwxYiir0/HNomsmuxHrS9mUtEKoAg9VgTS42UbsOD2rrF5mpBCOKFpN8CMUe9x8MAVjIqe+h3bkLhqMn61vmCmKXgU6bGCwJcHj7CQiCf1Z2VllbH6s/WmXRNrft8UhfHOGc4ECxolP2mJDAnFtsMH9E77pM1UzDQFbSjw5DuRRISn/gTUY86D/yQ0V050SZIkKadkMfFXKNp1EJ2+3MPaB8HsGNGR/xXZy8KuxU2JvE1Pft+W0vdU/t25g0sG0JZoRdvqKRcjYt92/GME6KpRN34Rv7t/z+oOzk+GolzfvZtrBlCsG9HcaSkTt/Xh51+rJg3BEDzYu5PTiYCuBm1bFU39B1rEER//+IdPh06XgYXEEk+zc8/TuxLeybKcaP5a/BtXDaDkq4tPS6dsW6ZMsatNvYo6Np1IxHDjH24YwPWF7sf4k4tYKUaw5JnhKi+j1+tMa6oJEPFxxFvQbBEi5DQnbxgALXb2thmLY9Qh9h6PN01fWdAWm5flUwVrUa+ynrVHEsBwg5OnH0GdIgDoagxkWMv5DPULQQ0/y4oRLVg/y5t3R33B6EEtcS9QhuG/TXvZURAbF/+kx1inz+gpKAjeuZVjCQJdHR/KbJ/CvrbTmZn2E6bPbMKC27tej+5pAyQumxugCN7J1mMJCF0dfMpsZ8q+tkyfmYGHmxHExT9Tfzpdxo5PsaN2vYroNp0g0XCDf1I+aVm0UjBiSXdc0nfSZjxmVvqn//iLOGJiLehEB65cucLFixfNXQxJkiSL0rVr1yxvI8v3WxWXHsycs4nDfdfwX/xVlvTvjMvW3XzT1CH1H0T1Ntu3nCJRaHBq4UO9FMejxuC/fT+RAnRutlz4242Jyxpg82Qbd9m98ywGFPQ1PPhvyRW6T/v0aS+wCOOvHUeJE6Cr2IY2pV92G9uI8cnvnopQ0+79esxwaSe7k+4q1G/fisIvHLR6cznTf/8PI6Cv1pZWxbNx6j9tKSp72KCcCEMNukFgDDR5dsBwwnnmjDvEG7N24JnOKSMVrfbp3RfViCVN9qE+COKBCiCIiY59ySxNyRlvX+dmUrIr4uKIf9mXNa6UKqlHOZKAQOVR8COgSNJ7ZRiyahsxg/ryxabrxApBbOBfzBu2j1++bcKgybOY+m5tHF9SzYbEZ0dJZ/AyUISwy9efWKHHs+Jd1l3tzKxhGb2YtOD2rmjRPm2AGLO1AQpCdvniHyvQe1bk7rqrdJ41LOXnIF7C+DR4qELNUDsELaUqe2CjnCBMDeJG8pOW83PGceiNWexI/0mb8ZgpWrSapIsFjOl6liA3rVmzhq++koPYJUmSniVExn5xUpINAy01FH9rAavPXcfnm+NERZ3k+16DqHxkLW+XSjnZFkF++P6dgFBsaerTJOUhOPHH2L7nESoKmgchVBs+ktrPDHcVIXvx+zsBgYaiCWcIbPILU54dvhHjz44DUQi0lGrTlsovO1JFj17/+NffiCHdyYbKrd07uWQA9DVp18b1+Z5D8YCNUxZwQaMAWsq3bk1Kjztknh73cm5oCcNguMd/941g/3gHMRz/5mN2t5nDn7UzsOyLKp5Oz6izypbnKrOPSEqyBI+uXydMNE9fjyggEuNJmkETERXMw1he8gCkloK21ihEI1AoYG393LuKY30+2RBA+80zGT9+Fn9cDMMoBPF3DzLvvSb47VnA9qX9KZ/K9jXap63EmNHMNmIvW/ZFIRRrHp2KpK1fJ5wzegvJotu7injaALHK1gYYwd4t+4gSCtaPThHZ1o9OGQ8eer3+yYWWMf3Be0LvXg43LYQZDNz77z5G7J9cbMcc/4aPd7dhzp+1M7BYU2ZipqA8qTzNMxcOlqFr166UKZOdY7wkSZIkyK4nrBQ7Gk/awKLrTXh7zS0M9zYx4qNleG8eSMlkHX6Chzu3cChOoORviI+3fYq9lYaAHey6ZwQ0OPiMYUTD55OvqP1+pmFAisp9gxefDCj9XBISf2wHe0NV0LjSyqfWyx/AU2yxtXn8pFtC+ocXiAfs2XmaREDv6UPb0s+WQHB/0wR+t6pDqbiz3NOWoFXbqtn8SJuW4m7F0XIWgxrKoxAVTGt4ErZ3PGOvDuSXFdXSmqzjOUaDgccdwIpNQQqm2WEbQ8DquWz/N2tdhhqHOoz5X+uXf6aQE4UUAEHCib/wjxjMm/Yv/coTWpdiFNHCeQOIxKtc+MdAKk9vAgKjwWC6yNDYUa5C0eQfUQri0eVL1nX8kIA10xk7fg5+/8YiRBzXV39An8rVOTy+egrtTsFKr3smccxY3KL2bWFvhABUSvUfR+/M3EGy5PZuNGB42gApmHYDTL+ofWzZG4EA1FL9Gde7eCYWMlGwtbV58gB8Qlx8hle91RZ3o7gWzhpUQh+F8OSsDdvL+LFXGfjLCqpl7KTNRMyMqE+uWfRYpePmQkzAauZu/zdrs/poHKjTawitU+kUeqxq1apUrVo1K3uSJEmSUpB9eai2JD0X/MbJ8635v/PxhOyYxcIz/ZlS84VdiDB2bzlAjFDQ1/ahZYpdtkYu+e3kXwOgK8eAT7q+0KsZxxG/fYQLQFOIN0Z/SK3nfigNnPHbTZARNIVb4NMgjb4zbWGcHB4nQnFERyUA1i/9CgDh+9l5JA6BjtJtfKj0zG+Z8dZKRi0tyXut/emWINC4tMjSNJ4pU7ArUgQbBeKfzJIE4v5mxv5YgK+W9iWN39cXqETHxDwZuqA4OOGUVg6hRnF0yXjG7czirD7uQ9NM/BXnylQuomXvbSNqyFZ+3XCHLgNTT97UGz8zYn0D5nxWA8WlLvVK69hz2QCGa/y17ybGOuVSmVEnnrDwWNM+C3rRusFLsjBtYWr0+Y7tnd5h5Se9+OCXs0SJWE4vXsLRMbPxSpZQKdjaFXw6c1KGEsdY/H13EaKCxqUbY96vlLkT2ILbuxodkzTVKaA44JRmA0y/WH9fdpmCR7cx71Mpc8GjsJPDk/qLi44indF7QrErQhHTSUt4aLjpfBP32Tz2Rwp8tZS+GTtpMxezRAMG8fRiwdYurX2qRB1dwvhxO7M4q487Q+sOTDPxlyRJknJGpn76xP1FdPm4ACvW9Htuxg7FzosvZ7zD2g4LuWX4h+MnQxA1X3ioNDJpqAI6PNu0wi3FaTxvstPvIomArmJP+r6YQCSeZMeeB6aeslJ9GfbmC/swXmbnrn8xoGDr5UNTG15OW5ySrnoUEhEIosLDUUl7bvPYo7s4GCVAW5RWPtWfBjPuDLM+Wk+d7xYQOmE6cULBrmnbrE3jmQqNcxGctRBijCQswghx5/jpcz+8Zv2IV7J56tMiCA+PSkr8NdgXL572HOWaQnSevouKY7P2cKCSv0TaH9LXoV1rZ+b9GoQqwtkx9Su2d1pEh5QGaRsDWT5qEeqHA0z/r6tBz56VmTH5LInCwKlVq7k0YjxVUjoDDNe4/I8BgYYiXd6hQ6Gn20/Y9TFvX/mUVR+Ver59FKxE3583E36zKh/tjsJ4/zZ3EiB5l7+WQo5PE8fEmOj0J47xR9jiF4yKllJvDcQnnXc7krHg9i7Cw4lKykc19sUpnmYDTK94jmzxI1gFbam3GJj54FG8pCt6BRIFiKhwwlXSPk+epXGmiOmkJTIsAiNxnPvpc/y8ZvGjV8p3QF8mMzFTY2KIfXKxYE+hQmntVUOhztPZVXFshu9wPEfJT4nq6Xx2IYeEhIRw7do1s5ZBkiQpvSpUqICDg0P2bTAzq37F7xwiilcaI/5OaZHA6NWiWwFFoNiKHmvCk70dteUd08qq2vJi9JEEIUSC+GfJp+L7wzFPPqPemS9a5VcE6ES1rwLEi7tJPP2lqKoj1feNN38QTa0UgZJftJz3nzCKeHH5ly/E/LOpLacaL/xHPl6xVi+qjDuebJvJJYoT4yoLHQjFoZdYH5n0suE/sWGQt+i7MlAYoreIAc4agZJftP75rlCFQdza8H/itysvLDcrYsXFZYNEfVd7Uah0E/H+0vMiKs39J+3uyjRRX4+AfKLtzyfFuk8Gi9mn0vvtF8WLQ6M8nsSh9qRz6YhD7oo/+aWokS9p5VU0wtl7ovjr/vPxNAT/LRYOqCIK1/tGnH/mANT760SfYpqklaCLid5rg5KvnCqESDw/RdTSIxTrhmLahecjEL9ziChZ80txKsXVUY3i2oyGwgqE1n2EOJhKcwtb0lEUeLxyr/dsEZjOlXsT/D8RZbQItGXFSP+sLGlr7vb+kpIdGmVa8ReEvvYkcS61gsVeFMsG1Reu9oVE6Sbvi6Xn02jzCf7ikzJaAVpRdqR/llakjvcf+WSlXH2VceJ4Rk8SwxUxrb7etLpy25/FyXWfiMGzT6X7nE9WnvTG7NkiXP5WNNCbvqNxelv8kWwV2bxr4cKFz694K//kn/yTfxb817dvXxEenjyfzqxM9PgbuXHyNA+uPmTx7s+p4/P87D2J1y5z3SDQur5Jv9a2L3w3nmPb9vBQBY1zE7xraAjaMZphfp782Pdx96AgZM8OjsYL0FWiS1fPF25LqNzcvYvLBlD0NejVs0qy2xYRh/ZxKlGAriJNmzhyc+3HjD7VjgUDUutpsqJSFQ/yKVcxCCOP7t/HQBq3Q0QkF87ewAjo3CtRoQCIiHMsG/4/VlWYyYY+bqhH5uAfooLWndq1nIg58T3DNxRhRqfnb3OLoJV8OvRXjkULwJ+Fg9pjdDnLwnZp9/5p7B2x1wAYCFgwk9vz5zGiZlq3OFKjcj8o2NSjp7HFw7OMxS2zY1VrNPNGb6X11yeJFirB+ybRqsIqWnRsTQ1XLSH/nsV/1wGuGuswae8IPJ85AMWlGzN/HsCx7ku4nniPtcOH0MxzNe9XfqZrOv4Ki0bPIcBYmJYzFjMihafCE8/+H++Nb47fNO8XZrWJ4+b1OxiVfHi+3Y96qTS3/CVL4qKBQCOIsBBCVFK+8/UcAwG+27llBG2ZTnTN0rAx87b3ZOxiMgAAIABJREFUl1HvBxGctCifrYcnZVIslCBo5acM/fUYplNmIYPaG3E5u5B2qdzlMgT4st0UPDp1rZulh9atKlXBI5/CVYPA+Og+99MM3gs09jiaTloMAQuYeXs+80bUJNNnbbpi9jwRHk6kMP23tlhJSljaiZ6Dbt26BZieIyhSpIiZSyNJkvRyhQsXzt4NZvxaIVys7m4rFBShcWokhv2yT1wNjhGJCREi8NAiMbCqjdA6NhDj9j5M3ptquCS+rWvq6VLylxOte/qIZm/9KE5HPvuhCLGht6NQQOiqjBenXuy9Uu+I+a3yCwWEvt534nKyzsQEcWRUOaEFgVJQlK1dR3gNWStupNbZnyTx3CRRW48AReRrPV8EpdULa7whZjaxMh2Lroio0dJbeBYvLzrPPi7CVSGEUMWdeS1FPhBoHEXtLt1Fqy6TxcHQ5H3MxmszREOrZ6/wFGHXc52ITPbJFESvFm/mV4TGsYmYdDgsxR7sdDPeEXOaJx1TPm8x+2Y6u6JzmzFI+H3WQDhqlBSujhWhdfES43bdFymXPk5cXTlQeBZUTJ8tVFP0+WqhWL91u9i87DsxsL6z0BUoI7r+8Lgenxe/c4goqkGg5BclvD8S8/1OixsPY0Rc+L9i35yeoly+fKJUl/niXEzy7z4pfuBs4Z1U31r3oWJPXDqOOTFAfFVNJ0AjXAZuEy/ZfLqYs72/ZCfizpzmwgoESj7hPftmKnX49M7Kk3pX7ETP/2/v7uNqPv8/gL8+55zu71GpROVepdwvYcy9uYlCjBk2d5tl4zvLmGG2+W02zJj52obZECG5t4gKX0aSGSOFKKF0f3POef/+SFGddOrcVef9fDw8Htunz7mu6/PpXb3Pda7P+wqp7CemiGIXtycJQCK7KXRQ9ZtHSzo9+z1m1J/WV3nzysuh7aOMSRDZUI8lMZSh2g+tkvesrLwDU8lBVPz9Nxv+K6WrMoQ65s033yQAdP36dV0PhTHGtK76C2iL/salrHHYczcdSWEz0fD05/D3soOpmT28A9ci+ZXFCP/rBJb3aVhxtlpkC+9eHWBvag47Nze0fu0zhPz+HrzNXzgnLxqHTjwFQYKWw0bAs/yzwekncORcAQgG8Bg2VEG5QDEae3WFm6UJbJp3wYBp67F3/Wi4VrGsVNKyF7o7F1fEkd1NQJVFakTNMCpoKro5msHYzBiGNj4IDj+H0KDOsBQAQIBVe190tDeFhX0zOLsH4odti9DDuuKMpMg1EPOndUVjy0ZoN2g8BrhJkJ+agnRlFtOKzWDp4ItF+/djkU/11weXIb2FW3eLO5W08oWvOvccUCeRPQasOIX4iO8R5NcFbrbmMDIyh30rX4z5aCNOX/4Ty/vZVbJm3Qgtx2/C+bgjWBM0Et0a3cf+L2ci0D8QM786gEyfRdh/JQ6h75d8H8sTw95nHN7y7wHHtANYEuiL1nbmsHDshmk7RRi76Qwu7Z4Bj5esbxfZu6Nt4+LAlT9KQYoSZVJk/x7EgWtSQDCFT59u1Sj1qJgu471yUty6dbf4EydJK/j6VvbgtgiugfMxrWtjWDZqh0HjB8BNko/UlHTFzcr+xcED1yCFAFOfPuim+s1Dr+7OxZV4ZHeRUO2KVmKYWTrAd9F+7F/kg2o/ilOGsvesrIK0NGRQ8ViatW1brYeT67rExEQAQIsWLXQ8EsYY0wFdv/OoPXIofKoTiQESTIfSpse6Gkc+hU9qQDbjQmu85rfGHm6kwSbFz1a0CIpUaR00e5mHtHGIKQkAwaA7rfhX+TXw6lNb4v1FD2njYJPiT/taBFGksgGYH06TGtjQuFDt/cTkhE8lJzEIgikN1enNq8k9k1L80s5kABBE1jR2h1KfLdYbzs7OZGhoqOthMMaYTtTSKV1dMEXvkYPQWAxQwd+IjSvQzTAKLiHynDGGBPTW+ixcQXwsrhUSIHHB66O61bLNu+qTBuju8+zZFXkyEpN0sW1qLYn3FxXEI/ZaIQgSuLw+Ct2UDMCCS5E4ZzwEAb219xNj2nskBhXfPPwdGwed3b0a3TMp7tx5ADkAwaADur+iP/P9crkc9+/fh7m5edUnM8ZYPcSJ/wvM+k6Ev6sEkN3FuZjiBxm1Kxex381HaKtlWDbCRrVlO9UmQ+LZv5AsE2DQOgDju1dnByFWPWK06N0DrhIA8hTcvJGhWonEGtJ9vJclSzyLv5JlEAxaI2B8d+U2nsuNxXfzQ9Fq2TKMsNHiT4xZX0z0d4UEMtw9F4MEHd28Gt0z+SP8eyut+EHtdj3xqqP+/BlITU2FTCZDo0aNdD0UxhjTCf35ja8MY1+8PakDjAQp4k9E4L4WszHKuo7d80dixgV/bN86Ga7a3t9GnobIU3GQCiboPmUqOulRlQ9dMOwyBK85igGS4ubf11Cki0HoMN4rkiMt8hTipAJMuk/B1CoDkJB1fTfmj5yBC/7bsXWyayWbsWmKMXzfnoQORgKk8ScQoZObV9179kzR3/j7pgyABC36Da7hRmZ1U0lFnyZNlNg3hDHG6iFO/MuQwH3aHAy3FZB3JgwHHmjnj7k8YStmvbUSN3t8j+Mh76Oz4qdKNTuGhwewPyYPIsfRmDO5sh1tmdoYdceoIU0ghgz3Yi8gWSczxrqJd4XkD3FgfwzyRI4YPWeygof2y5yMhK2z8NbKm+jx/XGEVPogtmZJ3KdhznBbCHlnEHbggfY/tanWPXtOdi8W8SkyQOKGIX4d9WpJX0ni7+bmpuORMMaYbnDiX47IbgwWBXWFSe4pbPnthlaWP4jcJmL97p8wf1grmOsggQHkuLt7O05mm8F3znwMs9HFGPSNKXqN84OrBJDFn8O5LN2MQhfxroj87m5sP5kNM985mF9lAIrgNnE9dv80H8NamWt5SdyLw7DDmEVB6GqSi1NbfsMNLd+86t2z57LPnUW8FDBoE4DArvqU9j9P/Nu2bavjkbC6oiBhHz7x84aThTGMrZuis/8nCP03T9fDYnVUbYgnTvwrkMAz6BvM9iSc37AKx5/qejxaUHABGzZEQtp+Nr6a1ZZn+7XEqPsUTPAyBGXG4HhUro5GURvivQAXNmxApLQ9Zn81C23rUABKPIPwzWxP0PkNWKXVm1fTe5aLmBPnkA0TdHvzTXTQo2U+wPPE39vbW8cjYXUBPQrHewOmYp+0C8ZMm4JhrQpxec+XGNNrHH5N1PVTUayuqTXxpOuyQrVVVvRC6mRuSl0Wn6f6vZu9lG6tG0g2Zh0pOEq/yvrpnozubBxK1iIxNZ1+mHJ0OBJdxrv01joaaGNGHYOjlNu0rrbJiqaFnczJtMtiOq+lm1fje5YfQe+5iknUcBRtrfbGY3Wfn58fAaD0dH3asozVjJSurgigKTsSqXT/T+kDCp/emgwEMbl9GE1V7AvK2AtqTzwJRETae5tRlxTinw0B6PufB5h8OAKfd7fQ9YA0QnpjPYb3XALZwuMIm+2hXFUQpj65p/Bhx35Ykzkeu679Cj8rXQ1ER/EuvYH1w3tiiWwhjofNhkcdDcDCfzYgoO9/8GDyYUR83h0avXsq3LOcw9PQduivsJwbib9W+Ojdz7uXlxfi4+Mhkz2fXcvMzNThiABzc3OIRPzhe60jv4ctq6Iw8INA2AsvHv4BfZvPxrnhO/A4ZDQq26tR13FlZmYGsbgOfXxa36kYT2qlpTcYdVQ6RS/rTY3dxtFvCUW6HozayVIO0PveTuTzyQl6rH+Tf7WEjB78PoYaiy2o3/cJpIutvJ7TcrzLUujA+97k5PMJnagHAZgevYx6N3ajcb8lkMbunir3TJZCv/nbksQhkLbr4Ww/EZG1tTWZmZmVOSYIAgHQ2b+4uDgd3Y3KFRXVv793REWklsvK2UEBJgbk9dnll/6+NjIy0mlcXbhwQQ0Xq171K660G0/qxNMML2WN7gvDED4nH8tHvot9KTqtd6hWsqSdmDb4P0icsAsHlvZGA44EHRGh8ZivsHSwMSK/+wpHM3Q5Fi3GuywJO6cNxn8SJ2DXgaXoXQ8C0Lr7QoSFz0H+8pF4d1+K+qv8qHjPCi6uxcoDcvT/9HME2Nf9+11dubm5yMjIgLW1dZnjy5Ytq/Q1hoaGavknkVT+MEVaWprarlFlsgf4c5kfAr66DF1sK6hRBaewaOTb+DkuW6VmpFcv4arxq5g+yeOlz8NxXL2gPsaVluNJrbT0BqOOk1JK1E46fEu387HqVHRlL/0WlaLjGWZWQnp7M/k7mZDnvFOUqevBaCPei67Q3t+iKKUeBqA0JYp2Hr6l/p8tVe5Z0VX6prc1NR62kW7Ww3uujH/++YcAUMeOHcscl8vlNHbsWIWzpr/88ova+i8oKKCTJ0/SjBkzyNjYuLSP7du3q60PleTF08Yxbajt6A0Ul63rwWiCjB4c/IA6N+tOwcdSqUafeckz6ODbbcj3i8uUX9WpcjlNnDhRYVz9+OOPNeldocLCQjp16hTNmjWLTE1NS/vYsmWL2vpQSb2NK+3Gkzpx4s9YrSCjR0c/IG/r1jT9wMOa/RJhTKFMivm0G9m2m0H79XSJDxHR0aNHCQD5+flV+FpOTg517NixQoJmaGhI0dHRah/L+fPnycrKigDQ2rVr1d5+tRX9S78ENCOHgavpSr2uZiGlxN/Hk2uDLhR84kk1f8/K6enJefRawCa6qeQSj7y8POratWuFuJJIJHTy5MkajP/lLl26RA0aNCAA9O2336q9/Wqr93Gl3XhSF/37vJexWkmEhv3/D6E/dsepGW9g1WVdlfdk9Us2/lo1DhN2uOHrPasxVA+X+JQoKeXZsmXLCl8zNTXF3r17YW9vX+Z4YWEhRo0ahbt376p1LJ07d8b69esB1IYlGVmIWjQW75/piq83vgcPYx0PR6PEaDZuHTZOyMZ349/CL7eUL6Eou7MTH//UEF/+PBnNlSyDa2xsjL1798LR0bHMcalUCn9/f9y+fbs6g6+St7c3Nm7cCIDjSju0G0/qor9/BRirdSRwHbsRR37oiPhDV1Co6+Gwuq8gGqHR7lh1dAsmtdKvzbrKK0n8PT09FX7d2dkZe/bsgaFh2fuUmpoKPz8/5Oaq9824v78/bG1t8ejRI7W2W10Zx4Ix9dsEvBL8JQKd9SElsELfpSvxpvEhzJv6LeKV+EVLacexbPlNBH4/H10tqrdloIODA/bu3Qtj47KZ7+PHjzFixAhkZ6u2Rry84cOHw9HRkeNKa7QbT2qh3Q8YGGOMaZP+Lu4p66233iIAFB8f/9Lzfv31V4XrsseMGUNyuVytY5o7dy6NGTNGrW1WS85pmuduSBLXmXSsXq2/roqMbv8wgCxF1tRn1T8vfR5H9vA4LZm+lCLSVPveb9u2TWFc+fn5kUym3p/S4OBghUvatEbv4kr78aQK8WefffaZ9t9uMMYY0wYdzCfVSqtXr0ZiYiLWrFnz0rr53t7eyM7OxpkzZ8ocv3r1KgwMDNCrVy+1jSkzMxORkZGYNGmS2tpUngzX107G9G130Pq9H/HFwMZ6tARAgHULU1z99TcciE5D24mj4GFW8SdFemcv3hv6IeJc2kEWH4mTJ0/i5MmTOHEsHH+sXY2YRiPQz025T9I8PT1RWFiIqKioMsf/+ecfEBH69OmjlisDgJycHBw7dgxTpkxRW5vK08e40n48qURnbzkYY4wxLWnWrBkZGBgoda5UKqVBgwYpnKHds2eP2saUmppK+/btU1t71ZJ1mKa7iAkGHejTy/WpvrqysmnfWw4kEgyp4+JLFfbekN3dTm+4GpKgsE6+QIadl1N8NStkyWQyGjZsmMK42rFjh9quLC0tTa1xWi16G1faj6ea4p17GWOM1WtyuRzGxsYwNzfHkydPlHpNRkYGXnnlFVy/fr3McTMzM5w5c6bSZwXqBjke/OyHdu/sR3aLuYi88g266+EjIFkh4+Ea+AcyHKdi37X/4nVzLfSZlQUfHx9cvXq1zHETExNERUWhY8eOmh+Exuh3XOkinmqi/n8CwxhjTK+lpaWhqKgIDRs2VPo11tbWCAsLq7DhV05ODoYPH67zhydVIruNPzYfw1O5CA19esFbj5KzF5n59kAHQwGy+3vw89409W+6p4CFhQXCwsLQoEGDMsfz8vIwYsQIpKamamEUGqLncaWLeKoJTvwZY4zVayUVfZycnKr1ulatWmHHjh0VnglITExEQEAACgvrZu0t2c0Q7DpbABIkaNehA+plpUUliOw6o3NzMSBPx58h4XikpUzNzc0Nu3btqrDz7r179zBq1CgUFBRoZyBqpu9xpat4qi5O/BljjNVrJYm/q6trtV87YMAArFy5ssLxyMhIBAUFqTw27ZPhzsHDuFhEgMgR7drb6W8iIGkNj1YmEEDIPBWOo0+113WfPn2wZs2aCsdjYmIwc+ZM1L1V2BxXuoyn6tC77wtjjDH9UpL4t23btkavDwoKUlgh5ccffyzdiKvueIITEX+hkACIXdCiuYGuB6RDJmjRsgnEACgzGn9GaXfjxJkzZ2LGjBkVjv/yyy9YvXq1VseiOo4rXceTsjjxZ4wxVq+VJP7e3t41er0gCFi3bh26d+9e4WuzZ8/GiRMnVBqfVhVcQMzFPBAAkVVTuNrpcxoggYuLU3EiJH+M8zHxWt84cc2aNejdu3eF43PnzsXRo0e1PBoVcFyhNsSTMvTxO8MYY0yPlCT+qlRMMTIyQmhoKJydncscl8lkCAgIQEJCgkpjfDlCYUYS4k6HY9u6LxE86w0M7emF9m+HIqNkRYg0BSe/mYAujpZo1G0JzlWyTFyWGIv4NBkAQGTrAAelswBCRuwWzH3dA42tGsJz+h48ULiGOQ/hbzWCWBBg4P4J/pJW70oVd52PtOsxCPvlG3z8zij0cndGuzdDkFyuf3laFL4d3wF2ZpZoPnwt4qpcKi+ClaMjrEQAIMOt2MvQ9uoMAwMDhISEVFiGJpfLMXbsWNy4cUNznVMhMpLicDp8G9Z9GYxZbwxFT6/2eDs0A8/D6iS+mdAFjpaN0G3JOVR2S6sfV3LkPfwHMQe2YvXi2Zgw5BW0dvPHrymKljgV4dpP/mhp0wgegT/han7NLrdUPY4npWinaihjjDGmG97e3iQIglraunjxIpmamlaoxe3u7k6ZmZlq6aMCaRx97tOYmjjbkqlIKO5TMKdhm9NITkSUHUfr/ZqSgfBsPEb9acMDxTuD5u19k2xFxecZvvotJSq1aWwhJWyfTO0dGpD5s/4Fm0kUnq/g1KJzNL+1hAAxNXs/kgpqftXPm/zfx9RaUq72uciORv+RSiVXWZS4kya3Nn5eJ13iQQsvVl1HviB6LrV61rak5Rw6pY4B18CVK1fI3Ny8Qly1bt2a0tPTNdKnNO5z8mnchJxtTUn0LHYE82G0+dmustlx68mvqUHpPTXqv4EqCavqx1VhNH3YXFz2egUTGvDTfarQhewOfd/b8Nk5NvTG3hyVrlsf4ulleMafMcZYvXbnzh0YG6unxkiHDh2wefPmCsevXr2KCRMmQC7XQCkPsSc+iXmAu3fu4/IKHxgCEEx8Max/QwgF17Bp4W+wWh6JX/ytIQCQuHSEdyNFezbL8TjpLp7KAUCAYGEN6yqzAEJ6xALMPvwaQm9GYUHH4ko0kmZuaCqpeLb06kEcuiUFRI3Qd1AXqKOio6Tz54jPlyIv7R8cWj4IjmIBkKchfFMo7ssByjyNRZN+hP13fyP5/I+Y6NEI9p2Ho19zcZVtixs0gM2zWyV7kIQ7Olqb4eHhgW3btkEQyn7frl+/jnHjxkEmk6m9T7HnJ4h5cBd37l/GCh9DAAJMfIehf0MBBdc2YeFvVlge+Qv8rQUAErh09IbCsKpJXBl0wZK/nqIgNxl/BneDmQCA8nH2SCQyy58raoLxn82Hb0MRgCJIVfwUSR/i6aV0/c6DMcYY05Tc3FwCQA4ODmptd/HixQp3YF2wYIFa+ymriC4vbk8SCGTcZy3dKUqlg8Hv0oZrBUQkp5SdE6ipdUuauP0uKZ5wLaLzCzzI4NluodbjQqjKuVNZAv380f/RuWwierqTxlgJBIjIYdoRqjjhL6W4JV5kAJBgPYZ2Zqh6vQrIH9KOsbYkAkgwH05b0p5S5LzBNG1fasWZYiXI7q2hPobPvn8GPejrW1raPrUSy5cvVxhX8+bN01ynRZdpcXsJQTCmPmvvUFHqQQp+dwMVh1UK7ZzQlKxbTqTtdyubxq9BXL3oaSi90UhEAEjs9iFFFyo6SU6Ptowgc+NetCpBqY+plFPP40kRnvFnjDFWb927dw8AYG9vr9Z2P/30U/j7+1c4fuLECc3M+gOA/AFOn7oOmWCATsMGoOiPpTjS8RO83aZ4ttZ+9FYkpd/AlrFNKnmAT4aMJ5nPNhYSYGhoWPWDfiJXTF7xH3Q1A/LPHsfpLAIEC/Ts1w1G5c8tuoQ/tl9FEQSY+g7Cq5YqXq8igi1enzAEjUQA5cZg/3eL8U3ebHw1zA4KJ6OrIDIzg2npC58i/Yluy2gGBwcjMDCwwvHIyEiNzPoDgPzBaZy6LoNg0AnDBhThj6VH0PGTt1EcVvYYvTUJ6Te2YGyTyqKlBnH1IoveGNzDFAIAWfJlXE5T9D0gZD1Jh8XrMzDORY2paz2PJ0U48WeMMVZvlTzYW/6hXFWJRCJs3rwZXl5epcecnJywe/fuCht+qQulHcWBc4UgiRcGuR3CsosDsdDfoRp/yAn5BQWlD25KJJJqJDdFuHT0TzyUA4JpDwzuXTGrzznxX/x2QwoIhugyqG8ly0JUZ9bzdfS2FAD5Y+zeeBeBCweVLq+oNgMDSEqW11AB8gt0u+uSIAjYtGkTOnXqVHqscePG2LNnD8TiqpeaVB8h7egBnCskSLwGwe3QMlwcuBD+yj/1DdXiCoBgiU5d20ACANIE/JugYC1PwV/YuI0wZ0kA7NQcV/U5nhThxJ8xxli9VZL4t2zZUu1tm5mZYfr06QCKq/7s2bMHDg4Oau+nGOHJsXBE5REMWrfB/ZAbGLFgaLWTa5nseSIiJzmUno+UXsPR40mQQYBRtyHo17Bcx/JEbPn6d9yTAZC0x8B+TppLMCz74PWeZhBAEDftAG9bFTJBQYzn+bQcGppUrxZTU1PMmjULAGBoaIjQ0NBq7zqtNHqCY+FRyCMDtG5zHyE3RmDB0EbVnu2ucVwBAMRo1q518Tp/eQoSksrXvy9E/JoFiB76Hd5318D+APU8nsrjxJ8xxli9VZL4e3h4qL3ty5cvY968eQCAjRs3okuXLmrv47lMROw/iWwSYPj4IrIGBmN4tRMUAQYGBqVJnUyqfFYiv3McR69JAUjQYfAAOJbJHggPQ5dhw1VR8cPFLfujfwtNzE4/I1jDq6MbxACkf0fj7GNVllPIQaU5qwSG6ngaWUV///136a7Q69evh4+Pj+Y6y4zA/pPZIMEQjy9mYWDwcFQ/7615XJUwcGmBpmIAJMWDe6l4sYXc81/g/eMDsGZ+J6jnEf1y6nk8lceJP2OMsXpLHTX8FXn06BH8/PyQm5uLuXPnYuLEiWptv4Lsk9gfkQkCIG/2JhaMq8mMugALC7NnCRqhML8Ayi1EIDz88yguFQEwcMegga5l+qbUvVj0uyE6N8sHQYwm/QbCU0HFH3WhRwewevd9mIsAKriA0+dVKOwuk0Iqf5boCWYwN9dtWpSeno4RI0YgOzsbs2fPVrhjtDpln9yPiEwCIEezNxdgnFNNrr+mcfWc2KkpnMQAIEf64yelr6eMCCwMvoEpP32I9hUeKlGP+hxPitS+ETHGGGNqkpSUBABo166d2tqUSqUYO3YsEhMTMWDAAHz11Vdqa7syeVHhOPZEDohs4T9/OtrWKLEWo2Ej69IELT8nW8mdRZ8i8ugZ5BMgcR2AQW1fmM2X3cG2eb/C+R133LtcCBI1wmtqKuOpED1C+MdfQ1i0Gv62IkCejrNR8ahphUd5Ti5ySyZ4BWs0aqS7tEgmk2HcuHG4efMm+vTpg5UrV2q4xzxEhR9DcVj5Y/70tqjZ+7WaxtVzgqU97ItreuJp+tPipUKUin3B38Nk8Xq80UxDnyDV43iqTO0bEWOMMaYmCQkJkEgkMDBQ39rgefPmISIiAi1atMD27dshkWhwehsAUIAz+48gTQ6IncdgyiCrGrYjhpOzIwxKnj3Mfvqs9noV8s7i2OlsEMRo3G8QvEovNx+Xv3sPuzp/iXfST+BMPkGw6IWB3U1qOL6qyPFg1xwszXkPn/v3h28nIwiQIiE6psKuq8qip0+R/SxRE1k5wanqjQ00Jjg4GEeOHIGrqytCQkLUGrMKFZzB/iNpkEMM5zFTUOOwqmlcvUhkC3tbMQBCVkYmZMjHlbUf40jP77Ckp1WNKuxUrX7HU2Vq34gYY4wxNSAiJCcnw9zcXG1tbt68GatXr4aFhQX27dsHGxsbtbVdqaILCD98HzKI4eIfCF8VFjqbNG+OJs8mT+nxI6QpkeBI/z6NM4/lgGCBHq91eVbGU4bk0PcwJzYQa95zwfljp5FNAoy69kVPS0B2NxTfbruBsqu983Fty9t4xckaDd16Ysbmq8ipxtgL/1mPqcuBj74bCwdxA3T1Ka4EU3Q5Cmeznp1UcAU/fbVb6cRN9vgJMp4lauKmzdFc0+/hKvH777/j66+/hpmZGfbt24eGDRtqvM+iC+E4fF8GiF3gH+ir0vr5msRVGYI1GlgXz/jLs57g2q4FWCN/H9+Md3nJpxAcTzXBiT9jjLF66dGjRygsLFRbEvW///0P06dPhyAI2LZtm1qXD72MNDYch+7IAHEzDB+p2jIaw7YeaG1UPH8qe5yK1CrXNBCyrsYhQQZA4oK2rUwAysSVX9/G2A3NseLH8Wgqv4yTUU8ghxgunTqiUe4F/F/Qblj7FD8wWdpSyjbMnfUzzt1/iie3o/DT1CGYc+hpJRVgchDzmS/Hu96aAAAQeklEQVQcbN0RuOYs7sZvxlT/DXD5ahUCGgsAxGjp2x2NxQBln8T+iKegoiSEfrgI17xeLffwceXkqSnPklQRLFq7w00HidrFixcxdepUAMVvLD09PbXQqxSx4YdQHFbDMbKLaouzqh9X5YisYGNV/E2Txm7At3fHYuX7HWD2kpdwPNWQrncQY4wxxjThwoULBIB69Oihclv3798nR0dHAkCff/65GkanrCKKXdyeJACJ7KbQwVxVm7tCSzoZEAASjPrT+pSqdkGVUcK3PcgQIAgSsvfuS73dnajliFV0/mnx3qby5HXU1wgEiMimkx8F9POjpafTK+x8Krv5DfmU7Gr6bJdXy7EhlKVwnJfoU09J6bmCuDENXnuF8l48J3M3jbcRCBDIwKEj9erclSb8el3BjsKVX1vymj7Prs2Ieq9KrGTHY81JTU0lZ2dnAkCffvqp9jouii3erRcisptykFQNq+rHVXk5tH2UMQkiG+qxJIYylNg2l+OpZnjGnzHGWL1UUtHH1dVVpXYKCgowatQo3L9/H6NHj8aCBQvUMTzlyP7FwQPXIIUAU58+6KZqPUNJS/Tq7gwxAJLdRcLtqqZmRWg2KghTuznCzNgMxoY28AkOx7nQIHS2LJ7hFazaw7ejPUwt7NHM2R2BP2zDoh7WFdZli1wDMX9aVzS2bIR2g8ZjgJsE+akpSFe0jELijvEfjoVHQ0vYew5HcMgp7H7Xo+xyFIv+eG9eXzQ1N4NtU0/4rwrH5kmtKu4oXCkpbt26W1xBRtIKvr4a3HtAgaKiIowePRp3797FiBEjsHjxYq31Lfv3IA5ckwKCKXz6dFO9TGa146o8McwsHeC7aD/2L/KBlRKL+jmeakjX7zwYY4wxTVi1ahUBoOXLl9e4DblcTlOnTiUA5OXlRdnZ2WocoW7khE8lJzEIgikN3fRYR6PIp/BJDchmXCjp7o4+pI2DTUgASNIiiCILtNv7rFmzCAC5u7tTZmamdjvXAN3GFceTsmrlmxHGGGNMVSUz/l5eXjVuY926ddi0aRMaNWqEvXv3wszsZauO6wbT3iMxqLEYoAL8HRuHAl0MouASIs8ZY0hAb5jqon8AKIhH7LVCECRweX0Uumlxs6X//ve/WLduHWxsbLBv3z5YWFhor3MN0Wlc6Xk8VQcn/owxxuolVTfvioyMxJw5cyCRSLBr1y64uLioc3ilTp8+jRMnTmikbYXM+mKivyskkOHuuZjiB3e1Khex381HaKtlWDbCRkOlGqsmSzyLv5JlEAxaI2B892os6VBNTEwMZs2aBZFIhJ07d6J58+Ya6+f48eMaaVshncWVfsdTdXHizxhjrF66ffs2BEGAg4NDtV+blJSEgIAASKVSrF69Gq+++qoGRlhs9erViI6O1lj7FRnD9+1J6GAkQBp/AhH3a1i0vAYo6zp2zx+JGRf8sX3rZLhqaF+mqsmRFnkKcVIBJt2nYGon7ZRfSU5Ohr+/P4qKirBy5Ur069dPY32tXbsWp06d0lj7FWk/rvQ9nmqCE3/GGGN1xpdffonU1FSlzk1KSoKRUfXn3XJzczFy5Eg8evQI77zzDmbOnFntNpSVlpaG/fv3o02bNhrrQxGJ+zTMGW4LIe8Mwg48gDZSf3nCVsx6ayVu9vgex0PeL304WCfkD3FgfwzyRI4YPWcyWmghYczPz8fIkSORkpKCSZMmISgoSGN9paenY+/evfU6rvQ9nmpM1w8ZMMYYY8rYunUrAaBNmzZVeW5+fj4BIHt7+2r1IZfLKTAwkACQr68vFRRo9gm9pUuXEgCKi4vTaD+KFMUtp1dMBTL2+YquSbXevU7JEtdSP3MRmff6mv7WwrXL5XKaNGkSAaCuXbtSXl5e1S9SwYoVKwgAXbhwQaP9KKKPcaXteFIFJ/6MMcZqvejoaBKLxQSAhg0bVuX5N2/eJADk6elZrX5KEqYmTZpQSkpKTYerlJiYGDIyMiJBEDSeCCqWTVHz25ORxJWmH87QQf+6kk/ngj3JwNibgmNytNLjd999RwDIwcGBkpOTNdrX+fPnycTEhABQVpbCqvYapm9xpf14UgUn/owxxmq1mzdvkqWlZenmO0ZGRpST8/I/sBEREQSAhgwZonQ/hw4dIkEQyNjYWKMzpZmZmfT111+TkZERASA3NzeN9VWlrGha2MmcTLsspvO6eO+hA9Jb62igjRl1DI5SvNmTmh0/fpzEYjEZGhrS2bNnNdZPVlYWrVq1ioyNjUvfvOqMHsWVtuNJVbX36QPGGGN6Lz09Ha+99hqkUinc3d1x9epVFBQU4M8//8SwYcMqfV1JRZ8WLVoo1c+///6LwMBAEBH69euH2NhYxMbGquUaiAi5ubl49OgRoqKiEBUVhaKiotKvt27dWi391Ih5dyz67Rtc7vsfzPx8ACI+7466X1jyJaQ38NN7nyG2y5c4vtgX5hruLiEhAWPGjIFMJkP//v0RHx+P+Ph4tbT9YlxFR0cjKioKhYWFpV/nuNICLceTOnDizxhjrNZauHAhHj58iJCQEMTGxmLRokUAgLCwMKUSfw8Pjyr7yMzMxIgRI/D06VMAQHh4OMLDw9UweuVo+wHM8gzbTMeWkDSM9J+I6W2PY8sbrvUzOZCn4uDcsVie8Q62h78LDw3XW8zOzoafnx+ePHkCADh8+DAOHz6s2U5fwHGlYVqOJ3Xhqj6MMcZqLU9PTyxbtgxDhw7FiBEjSo/v27cPcnnlNUOUreEvl8sxceJEXLt2TT0DrgFdJ2gAYN19IcLC5yB/+Ui8uy9FK1V+tEqWhJ3TBuM/iROw68BS9G6g2fSHiDB58mRcuXJFo/28DMeVBmk5ntSpXr35YowxVr/MmDGj9L89PDzg4uKCxMREpKWl4X//+x9eeeUVha9LSkoCALi7u7+0/SVLliAsLEx9A64BnS7JeIFFp9kIOdERobG5IF0PRt0oC0Z9vkdEoC/stVBq8YsvvsCuXbs039FLcFxpkJbjSZ0EIqo33wfGGGP125w5c7B69WoAQHBwML744guF57Vo0QKJiYmQSqUvbU8kEkHXfwZTUlJgb2+v0zEw9TI2NkZBQYFOx3Dnzh04OzvrdAys9uHEnzHGWJ0RERGBvn37AgDatWuHq1evVjiHiGBiYgIjI6PSdfuVqeqNgTaIxWIIgg43H2Jqx3HFaitO/BljjNUZRUVFsLOzQ0ZGBoDiajzlK/c8efIEDRs2hIuLC27fvq2LYTLGWK1Ud55GYIwxpvcMDAwwZMiQ0v/fv39/hXNKHux1cHDQ2rgYY6wu4MSfMcZYnVK+uk95JYm/i4uL1sbEGGN1ASf+jDHG6pRBgwZBIikuSnf69Gk8fvy4zNdLEv/aUtWEMcZqC078GWOM1SmWlpZ47bXXABTX4T906FCZr5ck/l5eXlofG2OM1Wac+DPGGKtzhg8fXvrf5Zf7KLt5l8ZI47DE2wCCIJT5Z9B+sW7Gw+oHjiumBpz4M8YYq3NeTPwPHz5cpmZ6SSUfndUwl7TH4guPcOvQB/AyACDxwJxj95F9eYluxsPqB44rpgac+DPGGKtznJ2d0aFDBwBAdnY2Tp48Wfq1xMREGBkZ6baGucQKbq/1Q0dLEURWXTCglwOMuKQ6UxXHFVMRJ/6MMcbqJEXVfYqKivDw4UNYWVnpalgvEEMsAmBgAImuh8LqEY4rVnOc+DPGGKuTXlzuExYWBiJCcnIyAMDW1lapNignCae2LMFbfTzRf8UVFAGg9HNYM94bttZt8EFEzgtnS3E/eiMWvDkYPl6t4dbUGc5NmqBJkyZo4uyOdw8UVNYN0zeUg6RTW7DkrT7w7L8CV4oDC+fWjIe3rTXafBCBMpF1PxobF7yJwT5eaO3WFM7Oz+KqiTPc3z0AjiymLvxmkTHGWJ3k7e0NJycnJCcnIzk5GZcuXUJ2djYAoEmTJkq0IMP170ejX/B5FAEQXfkMOwI+QsbGM+iw6gLSfn/xT2QWopcNReAWMwR+MBPffuyJJtZGEJd8WRDBtIGRei+Q1Vmy699jdL9gnC8OLHy2IwAfZWzEmQ6rcCHt9zLJV1b0MgwN3AKzwA8w89uP4dnEGkbPAwsi0wbgyGLqwok/Y4yxOkkQBPj5+eGHH34AULzcp2XLlgCA5s2bK9GCGG0+Poe8oPs4tTwAw78Iw/w3muGHvSvR067swunsY/Pw5rZ2+PnsD+jfkD8sZy8nbvMxzuUF4f6p5QgY/gXC5r+BZj/sxcqedigTWdnHMO/NbWj381n80L8hL8NgGscxxhhjrM56cZ1/WFhYaSnPdu3aKdmCALGJE/rM/xRjHQmZzq+gb+PyT0vm4sjPe9F01gL05aSfKUkQm8Cpz3x8OtYRlOmMV/o2RoXIOvIz9jadhQV9Oeln2sFxxhhjrM569dVXYWZmBgCIjY1FVFQUgBrU8Dd1RQsnMfKvXMQ/0nJfkz9CUtJDnPzIHdaWlrBU9M+qCabszVfDFbH6xRSuLZwgzr+CixUDC4+SkvDw5Edwt64kriyt0GTKXnBkMXXhpT6MMcbqLENDQwwdOhQ7duwAUFzTHwDat29fjVYIaQf3QebbGwbrLyH2MaGL/QtzsyIbNLZvgJ5LIxHyll2FWVsAgCCGiZVxja+D1U+UdhD7ZL7obbAel2Ifg7rYvxA/Itg0tkeDnksRGfIW7BQHFsQmVuDIYurCM/6MMcbqtBer+xARRCJR6acAyqCME9ia4INZk3zQUh6Pi/FFAOTIzyuppWKBgeP64cYvP+OGqR3s7BT8s20IC8PyDUtRJCVAJodc5atkdQ5l4MTWBPjMmgSflnLEX4xHEQB5fl5plR6LgePQ78Yv+PmGqeK4srNFw/KBxXHFVMCJP2OMsTpt8ODBEIme/zlTKukvjMJH7d0xdec5hK6LQ+dJPWHTuhs6Wz9CVMRF3D21AT+eeFyaWDX0X4FvPEMQ0D8I/z11CxnlV22UR4VIjTqOv7IIlHEBx07eRmZVr2H1QCGiPmoP96k7cS50HeI6T0JPm9bo1tkaj6IicPHuKWz48QQePw8srPjGEyEB/RH031O4VVVgcVwxFXHizxhjrE6zsbFBjx49yvx/lUSmsDJ5iPAVPyHXfyZ6WQuAkQ9GjmyKe7/OxYrkvpgxxPH5H0mxCyb8cRZ/BORgx7u90MzcEIaGL/6zw8TQZyuxpXFY0sEMjfutQrwUoKJYrBzohoYdF6v92lltI4KplQkehq/AT7n+mNnLGgKM4DNyJJre+xVzVySj74whcHweWHCZ8AfO/hGAnB3volcz83JxZQi7iaHFa/w5rpgaCEREuh4EY4wxpoo1a9YgKCgIANCtWzecPXtWxyNijLHah2f8GWOM1XkvrvNv1qyZDkfCGGO1Fyf+jDHG6jwXFxe0aNECANCqVSsdj4YxxmonTvwZY4zVC+vXr4dIJFJy117GGNM/vMafMcZYvbFhwwaMHDkSdnZ2uh4KY4zVOpz4M8YYY4wxpgd4qQ9jjDHGGGN6gBN/xhhjjDHG9AAn/owxxhhjjOkBTvwZY4wxxhjTA5z4M8YYY4wxpgc48WeMMcYYY0wPcOLPGGOMMcaYHuDEnzHGGGOMMT3AiT9jjDHGGGN6gBN/xhhjjDHG9MD/A/i4sekXEO8bAAAAAElFTkSuQmCC)\n",
        "\n",
        "\n",
        "2. **Correlación de Pearson.**\n",
        "  Su formalización queda tal que la similitud coseno sólo que restamos la media:\n",
        "  ![image.png](data:image/png;base64,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)\n",
        "\n",
        "\n",
        "**Dado que en la práctica los sumatorios se suelen hacer sobre la intersección $x \\in I(u) \\cap I (v)$, nosotros la usaremos también en vez de sólo sobre $x \\in I$**\n",
        "\n",
        "#### Otras consideraciones adicionales:\n",
        "  Cabe destacar que a la hora de recomendar un item a un usuario,**comprobamos que ese usuario no lo haya visto ya**,es decir, que no haya puntuado al item en el conjunto de train. No tendría ningún sentido una recomendación de algo que el usuario ya ha visto y puntuado.\n",
        "\n",
        "  Además cuando no encontramos un número de vecinos mínimos especificado, no recomendamos y mostramos un mensaje de error. **Es decir, si un usuario no tiene vecinos, la recomendación dada no tiene ningún sentido, y no la proporcionamos.**\n"
      ],
      "metadata": {
        "id": "T8LgLik87Y3i"
      }
    },
    {
      "cell_type": "markdown",
      "source": [
        "### **Implementación**"
      ],
      "metadata": {
        "id": "y3M7vKjw_eCv"
      }
    },
    {
      "cell_type": "code",
      "source": [
        "import itertools\n",
        "import numpy as np\n",
        "import copy\n",
        "\n",
        "class user_KNN():\n",
        "\n",
        "  def __init__(self, mat_ratings_train, sim_fun = 'cos' ):\n",
        "    '''\n",
        "      Precalculamos la matriz de similitudes y la media de ratings\n",
        "      sim_fun = 'cos' o 'pearson'\n",
        "    '''\n",
        "\n",
        "    self.sim_fun = sim_fun\n",
        "    self.mat_ratings = copy.deepcopy(mat_ratings_train)\n",
        "\n",
        "    self.users = mat_ratings_train.columns.to_list()[1:]#quitamos columna' item'\n",
        "    #Inicializamos la similitud a -infinito\n",
        "    self.sim = {} #{(u,v):sim_value}\n",
        "    self.I = {u: mat_train[~mat_train[u].isnull()].index.to_list() for u in self.users} #{u: I(u)= index of item} \n",
        "    self.user_rating_mean = {u:np.mean(mat_train[~mat_train[u].isnull()][u].to_list()) for u in self.users} # {u:user_mean_rating}\n",
        "    \n",
        "    # Calculating sim between users\n",
        "    for u,v in list(itertools.combinations(self.users, 2)):\n",
        "      if(sim_fun == 'cos'):\n",
        "        self.sim[(u,v)] = self._calc_sim_cos_u_v(u,v)\n",
        "      else:#pearson\n",
        "        self.sim[(u,v)] = self._calc_pearson_cos_u_v(u,v)\n",
        "\n",
        "    \n",
        "    #print('self.sim', self.sim)\n",
        "\n",
        "\n",
        "  def _calc_sim_cos_u_v(self, u, v):\n",
        "    I_u = self.I[u]\n",
        "    I_v = self.I[v]\n",
        "    intersec_I_u_v = set(I_u).intersection(I_v)\n",
        "\n",
        "    if(len(intersec_I_u_v)  == 0):#no ratings in commmon\n",
        "      return 0.\n",
        "\n",
        "    num = np.sum([ self.mat_ratings[u][x]  * self.mat_ratings[v][x]   for x in intersec_I_u_v ])\n",
        "    denom_aux_1 = np.sum([ (self.mat_ratings[u][x])**2  for x in intersec_I_u_v ])\n",
        "    denom_aux_2 = np.sum([ (self.mat_ratings[v][x])**2  for x in intersec_I_u_v ])\n",
        "    denom = np.sqrt(denom_aux_1 * denom_aux_2)\n",
        "    if(denom !=0):\n",
        "      return num/denom\n",
        "    else:\n",
        "      return 0\n",
        "\n",
        "\n",
        "  def _calc_pearson_cos_u_v(self, u, v):  \n",
        "    I_u = self.I[u]\n",
        "    I_v = self.I[v]\n",
        "    intersec_I_u_v = set(I_u).intersection(I_v)\n",
        "\n",
        "    num = np.sum([ (self.mat_ratings[u][x] - self.user_rating_mean[u])  * (self.mat_ratings[v][x] - self.user_rating_mean[v])   for x in intersec_I_u_v ])\n",
        "    denom_aux_1 = np.sum([ (self.mat_ratings[u][x] - self.user_rating_mean[u])**2  for x in intersec_I_u_v ])\n",
        "    denom_aux_2 = np.sum([ (self.mat_ratings[v][x]- self.user_rating_mean[v])**2  for x in intersec_I_u_v ])\n",
        "    denom = np.sqrt(denom_aux_1 * denom_aux_2)\n",
        "    if(denom !=0):\n",
        "      return num/denom\n",
        "    else:\n",
        "      return 0\n",
        "\n",
        "\n",
        "  def _get_sim_u_v(self,u,v):\n",
        "    \n",
        "    if(int(u)<int(v)):\n",
        "      return self.sim[(u,v)]\n",
        "    else:\n",
        "      return self.sim[(v,u)]\n",
        "\n",
        "  def _get_top_k_neighbours(self, u, k):\n",
        "    neighbours = self.users\n",
        "    neighbours.remove(u)\n",
        "    ranking = [(v, self._get_sim_u_v(u,v) )   for v in neighbours]\n",
        "\n",
        "    for t in ranking[0:k]:#check that we have neighbours enough!\n",
        "      _, score = t\n",
        "      if(score ==0.):\n",
        "        print('WARNING: There is not ', k , 'neighbourds for this user, try a smaller value for k')\n",
        "        return  []\n",
        "    ranking_sorted = sorted(ranking, key=lambda x: x[1],reverse = True)\n",
        "    top = [v for v,score in ranking_sorted]\n",
        "\n",
        "    return top[0:k]\n",
        "\n",
        "\n",
        "  def _get_score_u_x(self, u,x,c,top_k_neighbours, norm = True):\n",
        "    '''Calcula el score de un item para el usuario u segú los ratings de sus top k vecinos\n",
        "        norm = True si usamos la implementacion centrando ratings en la media\n",
        "    '''\n",
        "\n",
        "    #neigh_ratings = [ 0. if np.isnan(self.mat_ratings[v][x]) else self.mat_ratings[v][x]  for v in top_k_neighbours]\n",
        "    neigh_ratings = [  self.mat_ratings[v][x]  for v in top_k_neighbours]\n",
        "\n",
        "    #Si no hay ningún vecino que haya puntuado ese item O SOLO UN VECINO\n",
        "    # obviamos la puntuación el item\n",
        "    if(np.isnan(neigh_ratings).all() or (np.isnan(neigh_ratings).sum() == 1)): \n",
        "        neigh_ratings = [0.  for v in top_k_neighbours] \n",
        "        #devolviendo únicamente la media del propio usuario u \n",
        "        #de acuerdo a la expresion de abajo\n",
        "\n",
        "    neigh_ratings = [  0. if np.isnan(r) else  r for r in neigh_ratings] #Limpiamos los nan's \n",
        "    if(norm):\n",
        "      return self.user_rating_mean[u] +  c * np.sum([self._get_sim_u_v(u,v) * (r - self.user_rating_mean[v]) for v,r in zip(top_k_neighbours, neigh_ratings  ) ]) #centrando en la media\n",
        "    else:\n",
        "      return  c * np.sum([self._get_sim_u_v(u,v) * (r) for v,r in zip(top_k_neighbours, neigh_ratings  ) ]) #no centrando ratings en la media\n",
        "\n",
        "\n",
        "\n",
        "  def recommend(self, u, k = 3, n_items = 5,verbosse = False, norm = True):\n",
        "    ''' REcommends n_items items for user u with k neighbours\n",
        "      u = user to recommend items\n",
        "      k = number of neighbours\n",
        "      n_items = number of items to be recommended\n",
        "      norm = True si usamos la implementacion centrando ratings en la media\n",
        "    '''\n",
        "    \n",
        "    top_k_neighbours = self._get_top_k_neighbours( u, k)\n",
        "    if(not top_k_neighbours): return None\n",
        "    c = 1 / np.sum([np.abs(self._get_sim_u_v(u,v)) for v in top_k_neighbours] )\n",
        "    items = self.mat_ratings.index.to_list()\n",
        "    u_items_ya_vistos =  set(self.mat_ratings[~self.mat_ratings[u].isnull()].index.to_list()) #ELIMINAMOS los items YA VISTOS\n",
        "    ranking_items = [(x, self._get_score_u_x(u,x,c,top_k_neighbours, norm = norm) )  for x in items if x not in u_items_ya_vistos]\n",
        "    ranking_items =  sorted(ranking_items, key=lambda x: x[1],reverse = True)\n",
        "    if(verbosse):\n",
        "      print('Sim function:', self.sim_fun)\n",
        "      print('Recommendation for user ', u , ':')\n",
        "    return ranking_items[:n_items]\n",
        "\n",
        "\n",
        "  def predict(self, u,x, k = 3, verbosse = False):\n",
        "    ''' Predicts ratings for x item and  user u with k neighbours\n",
        "      u = user to recommend items\n",
        "      x: item\n",
        "      k = number of neighbours\n",
        "    '''\n",
        "\n",
        "    top_k_neighbours = self._get_top_k_neighbours( u, k)\n",
        "    if(not top_k_neighbours):\n",
        "      print('Err')\n",
        "      return 0. \n",
        "    c = 1 / np.sum([np.abs(self._get_sim_u_v(u,v)) for v in top_k_neighbours] )\n",
        "    return self._get_score_u_x(u,x,c,top_k_neighbours) \n",
        "\n",
        "    '''\n",
        "    if(verbosse):\n",
        "      print('Sim function:', self.sim_fun)\n",
        "      print('Recommendation for user ', u , ':')\n",
        "    return ranking_items[:n_items]\n",
        "    '''\n",
        "\n",
        "\n",
        "  def call_precision_recall(self,mat_test, k=3,rel_score_min = 3, n = 10, verbosse = True, norm = True):\n",
        "    '''Calcula precision y recall @n para un número de vecinos k. Se promedia \n",
        "        sobre las predicciones para cada uno de los usuarios usando la matriz de test\n",
        "        Para considerar un item como relevante debe de tener al menos una puntuacion de \n",
        "        rel_score_min\n",
        "        norm = True si usamos la implementacion centrando ratings en la media\n",
        "    '''\n",
        "\n",
        "    precisions = []\n",
        "    recalls = []\n",
        "\n",
        "    for u in self.users:  \n",
        "      u_ratings_nonull = mat_test[~mat_test[u].isnull()][u]\n",
        "      u_relevantes =set( u_ratings_nonull.loc[u_ratings_nonull >= rel_score_min].to_list() )  # relevant items for u\n",
        "      recommended_items  =set([ a for a,b in self.recommend(u, k = k, n_items = n,verbosse = False, norm = norm)])#los item ya vistos no se recomiendan\n",
        "      intersection_len = len(u_relevantes.intersection(recommended_items))\n",
        "\n",
        "      if(len(recommended_items) == 0):\n",
        "        precisions.append(0.)\n",
        "      else:\n",
        "        precisions.append(intersection_len/ len(recommended_items))\n",
        "\n",
        "      if(len(u_relevantes) == 0):\n",
        "        recalls.append(0.)\n",
        "      else:\n",
        "        recalls.append(intersection_len/ len(u_relevantes))\n",
        "\n",
        "    precision = np.mean(precisions)\n",
        "    recall = np.mean(recalls)\n",
        "    if(verbosse):\n",
        "      print('Precision:',precision)\n",
        "      print('Recall:',recall)\n",
        "      print('\\tSim function:', self.sim_fun)\n",
        "      print('\\tk = ', k)\n",
        "\n",
        "\n",
        "  def calc_MAE_RMSE(self, mat_test,  k = 3, verbosse = True):\n",
        "    '''Calcula para cada  usuario-item de test y la predicción del modelo correspondiente el MAE y RMSE'''\n",
        "    diferencia_ratings_total = []\n",
        "    R_test = 0\n",
        "    for u in self.users:  \n",
        "\n",
        "      diferencia_ratings_u = []\n",
        "      top_k_neighbours = self._get_top_k_neighbours( u, k)\n",
        "      if(not top_k_neighbours):\n",
        "        print('Err, not enough neighbours, user:', u)\n",
        "        return 0. \n",
        "\n",
        "      c = 1 / np.sum([ np.abs(self._get_sim_u_v(u,v)) for v in top_k_neighbours] )\n",
        "      user_items_test= mat_test[~mat_test[u].isnull()].index.to_list() #quitamos los nan's(no ratings vecino-item)\n",
        "      diferencia_ratings_u =  [  np.abs(self._get_score_u_x(u,x,c,top_k_neighbours)  - mat_test[u][x] )   for x in user_items_test]\n",
        "      diferencia_ratings_total = diferencia_ratings_total + diferencia_ratings_u\n",
        "      R_test += len(user_items_test)\n",
        "\n",
        "\n",
        "    MAE = (1/R_test)* np.sum(diferencia_ratings_total)\n",
        "    RMSE = np.sqrt(  (1/R_test) * np.sum([r**2 for r in diferencia_ratings_total] ) )\n",
        "\n",
        "    if(verbosse):\n",
        "      print('MAE:',MAE)\n",
        "      print('RMSE:',RMSE)\n",
        "      print('\\tSim function:', self.sim_fun)\n",
        "      print('\\tk = ', k)\n",
        "\n",
        "    return MAE, RMSE"
      ],
      "metadata": {
        "id": "616m5rAG_goQ"
      },
      "execution_count": 48,
      "outputs": []
    },
    {
      "cell_type": "markdown",
      "source": [
        "## **EJERCICIO2 :MAE Y RMSE diferentes Estrategias**\n",
        "\n",
        "En primer lugar, definimos el Mean Square Error (MAE) como:\n",
        "\n",
        "$$MAE = \\frac{1}{R_{test}} \\sum_{(u,x) \\in R_{test}} |\\hat{r}(u,x)-r_{test}(u,x)|$$\n",
        "\n",
        "Por otro lado, el Root Mean Square Error (RMSE) se calcula,\n",
        "\n",
        "$$RMSE = \\sqrt{\\frac{1}{R_{test}} \\sum_{(u,x) \\in R_{test}} (\\hat{r}(u,x)-r_{test}(u,x))^2}$$\n",
        "\n",
        "Para ello utilizamos el método \"calc_MAE_RMSE\" definido en la clase del modelo.\n",
        "\n",
        "Probamos para **diferentes valores de K las métricas con la función coseno:**"
      ],
      "metadata": {
        "id": "9jnIqDBJBRc5"
      }
    },
    {
      "cell_type": "code",
      "source": [
        "rec_cos_k_3 = user_KNN( mat_train, sim_fun = 'cos' )\n",
        "rec_cos_k_3.calc_MAE_RMSE( mat_test,  k = 3 )"
      ],
      "metadata": {
        "colab": {
          "base_uri": "https://localhost:8080/"
        },
        "id": "sf0acUj1adh9",
        "outputId": "b7271191-769e-4e71-828e-4bbc20bd2e51"
      },
      "execution_count": 49,
      "outputs": [
        {
          "output_type": "stream",
          "name": "stdout",
          "text": [
            "MAE: 3.145675640233712\n",
            "RMSE: 3.3678216519399014\n",
            "\tSim function: cos\n",
            "\tk =  3\n"
          ]
        },
        {
          "output_type": "execute_result",
          "data": {
            "text/plain": [
              "(3.145675640233712, 3.3678216519399014)"
            ]
          },
          "metadata": {},
          "execution_count": 49
        }
      ]
    },
    {
      "cell_type": "code",
      "source": [
        "rec_cos_k_5 = user_KNN( mat_train, sim_fun = 'cos' )\n",
        "rec_cos_k_5.calc_MAE_RMSE( mat_test,  k = 5 )"
      ],
      "metadata": {
        "colab": {
          "base_uri": "https://localhost:8080/"
        },
        "id": "CM3O3g9wAz8a",
        "outputId": "f6bda0e2-8627-4068-c091-a9e9976a9bae"
      },
      "execution_count": 50,
      "outputs": [
        {
          "output_type": "stream",
          "name": "stdout",
          "text": [
            "MAE: 2.723358574832488\n",
            "RMSE: 2.974266482468641\n",
            "\tSim function: cos\n",
            "\tk =  5\n"
          ]
        },
        {
          "output_type": "execute_result",
          "data": {
            "text/plain": [
              "(2.723358574832488, 2.974266482468641)"
            ]
          },
          "metadata": {},
          "execution_count": 50
        }
      ]
    },
    {
      "cell_type": "code",
      "source": [
        "rec_cos_k_7 = user_KNN( mat_train, sim_fun = 'cos' )\n",
        "rec_cos_k_7.calc_MAE_RMSE( mat_test,  k = 7 )"
      ],
      "metadata": {
        "colab": {
          "base_uri": "https://localhost:8080/"
        },
        "id": "XkrhO5FmA4Is",
        "outputId": "1b3182e8-6fb2-462a-9d20-33f73535caca"
      },
      "execution_count": 51,
      "outputs": [
        {
          "output_type": "stream",
          "name": "stdout",
          "text": [
            "MAE: 2.649859281899609\n",
            "RMSE: 2.9337032918429453\n",
            "\tSim function: cos\n",
            "\tk =  7\n"
          ]
        },
        {
          "output_type": "execute_result",
          "data": {
            "text/plain": [
              "(2.649859281899609, 2.9337032918429453)"
            ]
          },
          "metadata": {},
          "execution_count": 51
        }
      ]
    },
    {
      "cell_type": "code",
      "source": [
        "user_KNN( mat_train, sim_fun = 'cos' ).calc_MAE_RMSE( mat_test,  k = 9 )"
      ],
      "metadata": {
        "colab": {
          "base_uri": "https://localhost:8080/"
        },
        "id": "tlupO0ZxBA30",
        "outputId": "c6687a08-5c9e-4509-bfff-e3550100901d"
      },
      "execution_count": 10,
      "outputs": [
        {
          "output_type": "stream",
          "name": "stdout",
          "text": [
            "MAE: 2.6450221454393366\n",
            "RMSE: 2.916313812224251\n",
            "\tSim function: cos\n",
            "\tk =  9\n"
          ]
        },
        {
          "output_type": "execute_result",
          "data": {
            "text/plain": [
              "(2.6450221454393366, 2.916313812224251)"
            ]
          },
          "metadata": {},
          "execution_count": 10
        }
      ]
    },
    {
      "cell_type": "markdown",
      "source": [
        "Probamos para **diferentes valores de K las métricas con la función pearson:**"
      ],
      "metadata": {
        "id": "TwYNGrqjBjtW"
      }
    },
    {
      "cell_type": "code",
      "source": [
        "user_KNN( mat_train, sim_fun = 'pearson' ).calc_MAE_RMSE( mat_test,  k = 3 )"
      ],
      "metadata": {
        "colab": {
          "base_uri": "https://localhost:8080/"
        },
        "id": "z7rR7_LyBjO1",
        "outputId": "c7e50333-0925-4a7f-ea55-adcdef7afa08"
      },
      "execution_count": 11,
      "outputs": [
        {
          "output_type": "stream",
          "name": "stdout",
          "text": [
            "MAE: 3.262539641967768\n",
            "RMSE: 3.4873807699398207\n",
            "\tSim function: pearson\n",
            "\tk =  3\n"
          ]
        },
        {
          "output_type": "execute_result",
          "data": {
            "text/plain": [
              "(3.262539641967768, 3.4873807699398207)"
            ]
          },
          "metadata": {},
          "execution_count": 11
        }
      ]
    },
    {
      "cell_type": "code",
      "source": [
        "user_KNN( mat_train, sim_fun = 'pearson' ).calc_MAE_RMSE( mat_test,  k = 5 )"
      ],
      "metadata": {
        "colab": {
          "base_uri": "https://localhost:8080/"
        },
        "id": "9Z1z4Q2BBq1I",
        "outputId": "5be61466-d652-4f24-fb05-a614f4f293e9"
      },
      "execution_count": 12,
      "outputs": [
        {
          "output_type": "stream",
          "name": "stdout",
          "text": [
            "MAE: 2.7355430002808707\n",
            "RMSE: 3.0024572021847753\n",
            "\tSim function: pearson\n",
            "\tk =  5\n"
          ]
        },
        {
          "output_type": "execute_result",
          "data": {
            "text/plain": [
              "(2.7355430002808707, 3.0024572021847753)"
            ]
          },
          "metadata": {},
          "execution_count": 12
        }
      ]
    },
    {
      "cell_type": "code",
      "source": [
        "user_KNN( mat_train, sim_fun = 'pearson' ).calc_MAE_RMSE( mat_test,  k = 7 )"
      ],
      "metadata": {
        "colab": {
          "base_uri": "https://localhost:8080/"
        },
        "id": "bdDFz8O2Bq7N",
        "outputId": "b44f281b-7a3d-49b1-a0be-5c44b79d1162"
      },
      "execution_count": 13,
      "outputs": [
        {
          "output_type": "stream",
          "name": "stdout",
          "text": [
            "MAE: 2.6293967582024638\n",
            "RMSE: 2.917907493822233\n",
            "\tSim function: pearson\n",
            "\tk =  7\n"
          ]
        },
        {
          "output_type": "execute_result",
          "data": {
            "text/plain": [
              "(2.6293967582024638, 2.917907493822233)"
            ]
          },
          "metadata": {},
          "execution_count": 13
        }
      ]
    },
    {
      "cell_type": "code",
      "source": [
        "user_KNN( mat_train, sim_fun = 'pearson' ).calc_MAE_RMSE( mat_test,  k = 9 )"
      ],
      "metadata": {
        "colab": {
          "base_uri": "https://localhost:8080/"
        },
        "id": "c0DOAprPBq9v",
        "outputId": "53a22b5e-aab4-40c7-8611-a8bb6069997d"
      },
      "execution_count": 14,
      "outputs": [
        {
          "output_type": "stream",
          "name": "stdout",
          "text": [
            "MAE: 2.5638389183714594\n",
            "RMSE: 2.8552016296541702\n",
            "\tSim function: pearson\n",
            "\tk =  9\n"
          ]
        },
        {
          "output_type": "execute_result",
          "data": {
            "text/plain": [
              "(2.5638389183714594, 2.8552016296541702)"
            ]
          },
          "metadata": {},
          "execution_count": 14
        }
      ]
    },
    {
      "cell_type": "markdown",
      "source": [
        "Vemos como un cambio en la función se similitud apenas poduce cambios en las métricas. Sin embargo el cambio de los K vecinos más proximos sí. Probando con un número cada vez más alto, vemos como vamos disminuyendo los errores. Alcanzamos un punto de saturación de mejorar a partir de k=9, puesto que nuestro dataset es bastante pequeño. Sin embargo, para un dataset con más ratings de usuarios las recomendaciones mejorarían."
      ],
      "metadata": {
        "id": "NzSIltAfB-L_"
      }
    },
    {
      "cell_type": "markdown",
      "source": [
        "## **EJERCICIO 3:Precisión y Recall**\n",
        "\n",
        "Teóricamente, en relación a los documentos o ítems que forman un dataset, podemos definir la precisión $P$ tal que,\n",
        "$$P = \\frac{|Recomendados \\cap Relevantes|}{|Recomendados|}$$\n",
        "\n",
        "Y la métrica Recall $R$ como, \n",
        "$$R = \\frac{|Recomendados \\cap Relevantes|}{|Relevantes|}$$\n",
        "\n",
        "Caber decir que **eliminamos las peliculas que el usuario ya ha valorado en train, ya que no le podemos recomendar un item que ya ha visto**\n",
        "\n",
        "De esta forma, a la hora de definir los ítems relevantes tomaremos un valor de rating mínimo (un umbral) el cual nos servirá para diferenciarlos. En nuestro caso el umbral será una puntuación de 3.\n",
        "\n",
        "Finalmente, para obtener las métricas de evaluación '@N' debemos ordenar las predicciones de mayor a menor puntuación de forma que solo escojamos las N primeras. "
      ],
      "metadata": {
        "id": "S108woSYCs1h"
      }
    },
    {
      "cell_type": "markdown",
      "source": [
        "Ejecutamos para un número de vecinos fijo = 7 distintos tamaños de recomendación:\n",
        "\n",
        "Primero con la función de similitud **coseno:**"
      ],
      "metadata": {
        "id": "8BfZg9nJR6S7"
      }
    },
    {
      "cell_type": "code",
      "source": [
        "k = 7\n",
        "N_item_to_recommed = 5\n",
        "user_KNN( mat_train, sim_fun = 'cos' ).call_precision_recall(mat_test, k=k ,rel_score_min = 3, n = N_item_to_recommed, verbosse = True)"
      ],
      "metadata": {
        "colab": {
          "base_uri": "https://localhost:8080/"
        },
        "id": "f8UMO9phRVIz",
        "outputId": "d44a09f8-e559-487b-c2fa-6f01551cb732"
      },
      "execution_count": 15,
      "outputs": [
        {
          "output_type": "stream",
          "name": "stdout",
          "text": [
            "Precision: 0.044444444444444446\n",
            "Recall: 0.07407407407407407\n",
            "\tSim function: cos\n",
            "\tk =  7\n"
          ]
        }
      ]
    },
    {
      "cell_type": "code",
      "source": [
        "k = 7\n",
        "N_item_to_recommed = 8\n",
        "user_KNN( mat_train, sim_fun = 'cos' ).call_precision_recall(mat_test, k=k ,rel_score_min = 3, n = N_item_to_recommed, verbosse = True)"
      ],
      "metadata": {
        "colab": {
          "base_uri": "https://localhost:8080/"
        },
        "id": "54QZjFb6RphY",
        "outputId": "2112b09d-5408-4136-926f-d44d7684e3af"
      },
      "execution_count": 16,
      "outputs": [
        {
          "output_type": "stream",
          "name": "stdout",
          "text": [
            "Precision: 0.06944444444444445\n",
            "Recall: 0.17592592592592593\n",
            "\tSim function: cos\n",
            "\tk =  7\n"
          ]
        }
      ]
    },
    {
      "cell_type": "code",
      "source": [
        "k = 7\n",
        "N_item_to_recommed = 10\n",
        "user_KNN( mat_train, sim_fun = 'cos' ).call_precision_recall(mat_test, k=k ,rel_score_min = 3, n = N_item_to_recommed, verbosse = True)"
      ],
      "metadata": {
        "colab": {
          "base_uri": "https://localhost:8080/"
        },
        "id": "B9sLnBv0Rrof",
        "outputId": "eca02b58-c846-4194-9ed1-c05598b96d14"
      },
      "execution_count": 17,
      "outputs": [
        {
          "output_type": "stream",
          "name": "stdout",
          "text": [
            "Precision: 0.06666666666666667\n",
            "Recall: 0.2037037037037037\n",
            "\tSim function: cos\n",
            "\tk =  7\n"
          ]
        }
      ]
    },
    {
      "cell_type": "code",
      "source": [
        "k = 7\n",
        "N_item_to_recommed = 15\n",
        "user_KNN( mat_train, sim_fun = 'cos' ).call_precision_recall(mat_test, k=k ,rel_score_min = 3, n = N_item_to_recommed, verbosse = True)"
      ],
      "metadata": {
        "colab": {
          "base_uri": "https://localhost:8080/"
        },
        "id": "JcFsEMlsQi1t",
        "outputId": "c6c021bd-8f42-4b76-acd0-be4144a99a18"
      },
      "execution_count": 18,
      "outputs": [
        {
          "output_type": "stream",
          "name": "stdout",
          "text": [
            "Precision: 0.05185185185185185\n",
            "Recall: 0.2314814814814815\n",
            "\tSim function: cos\n",
            "\tk =  7\n"
          ]
        }
      ]
    },
    {
      "cell_type": "code",
      "source": [
        "k = 7\n",
        "N_item_to_recommed = 20\n",
        "user_KNN( mat_train, sim_fun = 'cos' ).call_precision_recall(mat_test, k=k ,rel_score_min = 3, n = N_item_to_recommed, verbosse = True)"
      ],
      "metadata": {
        "colab": {
          "base_uri": "https://localhost:8080/"
        },
        "id": "xa41KjWUSxIM",
        "outputId": "a0f4595a-a3ad-4846-d86d-87813862e036"
      },
      "execution_count": 19,
      "outputs": [
        {
          "output_type": "stream",
          "name": "stdout",
          "text": [
            "Precision: 0.044444444444444446\n",
            "Recall: 0.2592592592592593\n",
            "\tSim function: cos\n",
            "\tk =  7\n"
          ]
        }
      ]
    },
    {
      "cell_type": "code",
      "source": [
        "k = 7\n",
        "N_item_to_recommed = 30\n",
        "user_KNN( mat_train, sim_fun = 'cos' ).call_precision_recall(mat_test, k=k ,rel_score_min = 3, n = N_item_to_recommed, verbosse = True)"
      ],
      "metadata": {
        "colab": {
          "base_uri": "https://localhost:8080/"
        },
        "id": "3aPIplskSxMc",
        "outputId": "f47c31cb-c834-402c-853d-ce393f24b6a9"
      },
      "execution_count": 20,
      "outputs": [
        {
          "output_type": "stream",
          "name": "stdout",
          "text": [
            "Precision: 0.040740740740740744\n",
            "Recall: 0.37037037037037035\n",
            "\tSim function: cos\n",
            "\tk =  7\n"
          ]
        }
      ]
    },
    {
      "cell_type": "markdown",
      "source": [
        "Y ahora  con la función de similitud **Pearson:**"
      ],
      "metadata": {
        "id": "8ACFzjuYSF0I"
      }
    },
    {
      "cell_type": "code",
      "source": [
        "k = 7\n",
        "N_item_to_recommed = 5\n",
        "user_KNN( mat_train, sim_fun = 'pearson' ).call_precision_recall(mat_test, k=k ,rel_score_min = 3, n = N_item_to_recommed, verbosse = True)"
      ],
      "metadata": {
        "colab": {
          "base_uri": "https://localhost:8080/"
        },
        "id": "gRz7SGA-Ruvg",
        "outputId": "25d12d03-4e13-4919-8356-8a318750e276"
      },
      "execution_count": 21,
      "outputs": [
        {
          "output_type": "stream",
          "name": "stdout",
          "text": [
            "Precision: 0.044444444444444446\n",
            "Recall: 0.07407407407407407\n",
            "\tSim function: pearson\n",
            "\tk =  7\n"
          ]
        }
      ]
    },
    {
      "cell_type": "code",
      "source": [
        "k = 7\n",
        "N_item_to_recommed = 8\n",
        "user_KNN( mat_train, sim_fun = 'pearson' ).call_precision_recall(mat_test, k=k ,rel_score_min = 3, n = N_item_to_recommed, verbosse = True)"
      ],
      "metadata": {
        "colab": {
          "base_uri": "https://localhost:8080/"
        },
        "id": "p3PLdSn-Rx6X",
        "outputId": "7d14264e-81d3-4043-8837-1c53871fac1f"
      },
      "execution_count": 22,
      "outputs": [
        {
          "output_type": "stream",
          "name": "stdout",
          "text": [
            "Precision: 0.06944444444444445\n",
            "Recall: 0.17592592592592593\n",
            "\tSim function: pearson\n",
            "\tk =  7\n"
          ]
        }
      ]
    },
    {
      "cell_type": "code",
      "source": [
        "k = 7\n",
        "N_item_to_recommed = 10\n",
        "user_KNN( mat_train, sim_fun = 'pearson' ).call_precision_recall(mat_test, k=k ,rel_score_min = 3, n = N_item_to_recommed, verbosse = True)"
      ],
      "metadata": {
        "colab": {
          "base_uri": "https://localhost:8080/"
        },
        "id": "eofqO5tVRx9P",
        "outputId": "b3b37dc2-b04a-4cc8-90b7-a32aff2913c9"
      },
      "execution_count": 23,
      "outputs": [
        {
          "output_type": "stream",
          "name": "stdout",
          "text": [
            "Precision: 0.05555555555555555\n",
            "Recall: 0.17592592592592593\n",
            "\tSim function: pearson\n",
            "\tk =  7\n"
          ]
        }
      ]
    },
    {
      "cell_type": "code",
      "source": [
        "k = 7\n",
        "N_item_to_recommed = 15\n",
        "user_KNN( mat_train, sim_fun = 'pearson' ).call_precision_recall(mat_test, k=k ,rel_score_min = 3, n = N_item_to_recommed, verbosse = True)"
      ],
      "metadata": {
        "colab": {
          "base_uri": "https://localhost:8080/"
        },
        "id": "9PhSBB4uRx__",
        "outputId": "5e90b842-4b31-43f9-e034-b4e8b2973f5b"
      },
      "execution_count": 24,
      "outputs": [
        {
          "output_type": "stream",
          "name": "stdout",
          "text": [
            "Precision: 0.05185185185185185\n",
            "Recall: 0.2314814814814815\n",
            "\tSim function: pearson\n",
            "\tk =  7\n"
          ]
        }
      ]
    },
    {
      "cell_type": "code",
      "source": [
        "k = 7\n",
        "N_item_to_recommed = 20\n",
        "user_KNN( mat_train, sim_fun = 'pearson' ).call_precision_recall(mat_test, k=k ,rel_score_min = 3, n = N_item_to_recommed, verbosse = True)"
      ],
      "metadata": {
        "colab": {
          "base_uri": "https://localhost:8080/"
        },
        "id": "C-6HKi7uSpn4",
        "outputId": "5317d84e-fe26-4ed8-981b-d034ae4b1fa8"
      },
      "execution_count": 25,
      "outputs": [
        {
          "output_type": "stream",
          "name": "stdout",
          "text": [
            "Precision: 0.044444444444444446\n",
            "Recall: 0.2592592592592593\n",
            "\tSim function: pearson\n",
            "\tk =  7\n"
          ]
        }
      ]
    },
    {
      "cell_type": "code",
      "source": [
        "k = 7\n",
        "N_item_to_recommed = 30\n",
        "user_KNN( mat_train, sim_fun = 'pearson' ).call_precision_recall(mat_test, k=k ,rel_score_min = 3, n = N_item_to_recommed, verbosse = True)"
      ],
      "metadata": {
        "colab": {
          "base_uri": "https://localhost:8080/"
        },
        "id": "fqISkiilSudM",
        "outputId": "c6622860-d29d-48e2-8b07-276fb4799315"
      },
      "execution_count": 26,
      "outputs": [
        {
          "output_type": "stream",
          "name": "stdout",
          "text": [
            "Precision: 0.03333333333333333\n",
            "Recall: 0.2962962962962963\n",
            "\tSim function: pearson\n",
            "\tk =  7\n"
          ]
        }
      ]
    },
    {
      "cell_type": "markdown",
      "source": [
        "Observamos como a medida que aumentamos el tamaño de la lista de items recomendados aumenta el recall y disminuimos  precision.\n",
        "\n",
        "**La iterpretación que le podemos dar a la hora de aumentar el número de items en la recomendación es que no perdemos recomendaciones(items) relevantes, pero a cambio aumentamos mucho el número de items no relevantes que recomendamos también. **Síntoma de que tenemos gustos en común, pero a la vez muy distintos.\n",
        "\n",
        "Observamos como la función de similitud coseno y Perason proporcionan resultados similares.\n",
        "\n",
        "**De nuevo recalcar que dado el tamaño del dataset muy pequeño, por lo que no podemos esperar resultados excesivamente altos en las métricas**\n",
        "Cambiando valores de k diferentes no se aprecian mejoras"
      ],
      "metadata": {
        "id": "-DAoA9dVSML5"
      }
    },
    {
      "cell_type": "markdown",
      "source": [
        "## **EJERCICIO OPCIONAL 5**\n",
        "**Utilizar librerías (por ejemplo, Mahout, RankSys, LibRec o LensKit en Java, MyMediaLite en C#, Surprise o LightFM en Python, recommenderlab en R, u otra) sobre los mismos datos para generar las recomendaciones y comparar con los resultados anteriores. Contrastar los valores de MAE y RMSE de las diferentes pruebas. Para cualquier duda o dificultad con este apartado consultar con el profesor.**"
      ],
      "metadata": {
        "id": "6UVM6V0Vh_c8"
      }
    },
    {
      "cell_type": "markdown",
      "source": [
        "Elegimos la librería Surprise por estar disponible en Python.\n",
        "Dado que hemos usado las similitudes coseno y de Pearson las utilizamos en este ejercicio también por estar disponibles en la librería.\n",
        "\n",
        "Cargagamos los datos de los fichero sin formato matricial, pero que contienen los mismos datos de entrenamiento y test."
      ],
      "metadata": {
        "id": "z7z-igzsl9S6"
      }
    },
    {
      "cell_type": "code",
      "source": [
        "#!pip install surprise"
      ],
      "metadata": {
        "colab": {
          "base_uri": "https://localhost:8080/"
        },
        "id": "GyXjeyKOmlBq",
        "outputId": "9cc4a7d2-f08c-42c1-a8ba-370d8e3aeab0"
      },
      "execution_count": 35,
      "outputs": [
        {
          "output_type": "stream",
          "name": "stdout",
          "text": [
            "Collecting surprise\n",
            "  Downloading surprise-0.1-py2.py3-none-any.whl (1.8 kB)\n",
            "Collecting scikit-surprise\n",
            "  Downloading scikit-surprise-1.1.1.tar.gz (11.8 MB)\n",
            "\u001b[K     |████████████████████████████████| 11.8 MB 5.2 MB/s \n",
            "\u001b[?25hRequirement already satisfied: joblib>=0.11 in /usr/local/lib/python3.7/dist-packages (from scikit-surprise->surprise) (1.1.0)\n",
            "Requirement already satisfied: numpy>=1.11.2 in /usr/local/lib/python3.7/dist-packages (from scikit-surprise->surprise) (1.21.6)\n",
            "Requirement already satisfied: scipy>=1.0.0 in /usr/local/lib/python3.7/dist-packages (from scikit-surprise->surprise) (1.4.1)\n",
            "Requirement already satisfied: six>=1.10.0 in /usr/local/lib/python3.7/dist-packages (from scikit-surprise->surprise) (1.15.0)\n",
            "Building wheels for collected packages: scikit-surprise\n",
            "  Building wheel for scikit-surprise (setup.py) ... \u001b[?25l\u001b[?25hdone\n",
            "  Created wheel for scikit-surprise: filename=scikit_surprise-1.1.1-cp37-cp37m-linux_x86_64.whl size=1633822 sha256=72128eed41f0f57c5d23bee03d8f31992927affde6a237927fd87067acb1a7b3\n",
            "  Stored in directory: /root/.cache/pip/wheels/76/44/74/b498c42be47b2406bd27994e16c5188e337c657025ab400c1c\n",
            "Successfully built scikit-surprise\n",
            "Installing collected packages: scikit-surprise, surprise\n",
            "Successfully installed scikit-surprise-1.1.1 surprise-0.1\n"
          ]
        }
      ]
    },
    {
      "cell_type": "code",
      "source": [
        "from surprise import NormalPredictor\n",
        "from surprise import Dataset\n",
        "from surprise import Reader\n",
        "from surprise.prediction_algorithms.knns import KNNBasic\n",
        "from surprise import accuracy"
      ],
      "metadata": {
        "id": "ry__iu-7h_0w"
      },
      "execution_count": 41,
      "outputs": []
    },
    {
      "cell_type": "code",
      "source": [
        "#Carga de datos\n",
        "df_train = pd.read_csv('training-ratings.dat',names=['userID', 'itemID', 'rating'], sep='\\t')\n",
        "df_test = pd.read_csv('test-ratings.dat',names=['userID', 'itemID', 'rating'], sep='\\t')\n",
        "reader = Reader(rating_scale=(1, 5))\n",
        "train_data = Dataset.load_from_df(df_train, reader).build_full_trainset()\n",
        "test_data = Dataset.load_from_df(df_test, reader).build_full_trainset().build_testset()"
      ],
      "metadata": {
        "id": "mqH0oO3Gh_3t"
      },
      "execution_count": 39,
      "outputs": []
    },
    {
      "cell_type": "markdown",
      "source": [
        "Utilizamos k=7 para el ejercicio, aunque distintos valores son similares."
      ],
      "metadata": {
        "id": "VGCxBNzer7di"
      }
    },
    {
      "cell_type": "code",
      "source": [
        "cosine_sim = {'name': 'cosine','user_based': True }\n",
        "pearson_sim = {'name': 'pearson','user_based': True }\n",
        "k = 7\n",
        "algs = [(\"Cosine\", KNNBasic(k=k, sim_options=cosine_sim)),(\"Pearson\", KNNBasic(k=k, sim_options=pearson_sim))]\n",
        "\n",
        "for name, alg in algs:\n",
        "    alg.fit(train_data)\n",
        "    print(f\" -->Similarity Function: {name}\")\n",
        "    predictions = alg.test(test_data)\n",
        "    # Calculamos el MAE y el RMSE\n",
        "    mae = accuracy.mae(predictions)\n",
        "    rmse = accuracy.rmse(predictions)"
      ],
      "metadata": {
        "colab": {
          "base_uri": "https://localhost:8080/"
        },
        "id": "EEUgfTp3h_6l",
        "outputId": "f3f17a78-01b2-41e8-abc4-6b17bfce8ea5"
      },
      "execution_count": 47,
      "outputs": [
        {
          "output_type": "stream",
          "name": "stdout",
          "text": [
            "Computing the cosine similarity matrix...\n",
            "Done computing similarity matrix.\n",
            " -->Similarity Function: Cosine\n",
            "MAE:  0.8033\n",
            "RMSE: 1.0426\n",
            "Computing the pearson similarity matrix...\n",
            "Done computing similarity matrix.\n",
            " -->Similarity Function: Pearson\n",
            "MAE:  0.8194\n",
            "RMSE: 1.0651\n"
          ]
        }
      ]
    },
    {
      "cell_type": "markdown",
      "source": [
        "Observamos de nuevo y validamos que **la función de similitud utilizada apenas cambia las métricas, siendo coseno y Pearson similares para nuestro dataset.**\n",
        "\n",
        "**Destacar que no podemos comparar las puntuaciones con las nuestras obtenida sen el ejercicio 2, ya que nuestra función de score centra los ratings en la media de los usuarios, mientras que las de surprise no.** Esta es la función de score de surprise:\n",
        "![image.png](data:image/png;base64,iVBORw0KGgoAAAANSUhEUgAAAUIAAACLCAYAAAAUPZBUAAAgAElEQVR4nO3df0hb+5/n8efsTMIOHvhi2C8JLAkskf1yhOHA0gODYRcDYugXQy9Kv1i8yHpvwG8DjgG5rlKpa7EoXoT0Cum3S+5XkCuVkcotkSmRDpGB05kh/nOWJWcZEliSfyK7HGE5wnIy7O4fSdto/X3TNmk+D7h/aOLJaXJ9+fn5/vzJP//zP/8/BEEQ2ti/+Nw3IAiC8LmJIBQEoe2JIBQEoe2JIBQEoe2JIBQEoe2JIBQEoe2JIBQEoe2JIBQEoe2JIBQEoe2JIBQEoe2JIBQEoe2JIBQEbCzL/tw3cY5mvrcvx5997hsQLqbH+5jabdz15MmfWAt7GnfBVmfleT47wZv+9SZ9X0wys2Ps9ayxdK8L6XPfzhfqT0T1mSZXTjEx9gSjAnQO8sN2lO4r/JhtWdhmkay+T3onxUGpUn3Ae58/rg/h+5j3fCNlMovzJI/8RL+bJvBJMqlMamKMhHuO7blA84aMpbF4d5HDaLOGdesTXeNm5wnzICrjADjaYT6uY13hx5yShOTrJhiOsrz+ip+WBvA7gNIOWvHj3vKN6Fus7Bc41PdY3NI/yUuWXzzmSV5hOtrEIQggBYhOK+SfzPK8GT+7L4AIwhbgCS8x1+sA4Gj3IYnsVaLw1DXUGM/WJ5Edh2zt5hp9i7+cHCTsdoDDTTgof/zXMzPEkwbe0ShB18d/uV/KFYwy6i2xkchgfu6b+QKJIGwJEoHYMgOdAMfsPZwlVb7BZTxhluZ6sdP7NF0UOhWim694/WqTqOL86C+X30lwUPEyEGi+QYKz+QgMeKkcJNhqug+v9YkgbBWSQnRugE6AikHicYqbZKEUiLI2pyJdv1H5BcmxlzoCdz9qq+Qg4FP7cXNEel8kYaOJIGwhTiXG2v1qt7FiPGH2RgNGLrpUFV9TD4p9ZLl90sfQEVCacNLoAj6FQAccN2OLvsWJ5TMtxjP0gMn9MZ4YFUo/ThHvXiemNHmqmVmSKwnSBRunEyzLSZfPJscw62thPHqcvqldHJ2dcHRE17slPjrxvil2HZ24XTbmYZBHPwfJLybZPzIpF02cPoVQZJqICvqLBMndAqZZxnT6UEIRpiMqp4cAzYLBMXBLPi8GTbKJeVbSeSw8BGJLzAXrZmvNLMmVLcqh705+/6qsPKn4Yza0MpZLYfTBHPe6JcBCj48zs2vSNXnWDLEPWQYODAomdDdybLOc4eFUnKxp4wlEeRBVKCWfkMgWcTqdeIIPWIh0N/ek0i8gWoQtx0N4YZpb1WlkdheT6M3czbV14uOzpFxR1rc32dzc5OVmDG/5kMrb5ygxXr/+mWn56P33qg8Qe/2av1kOYB0eUyHNw5EkRJZ49myTl+sRPIUDtmbHGRkZIWkPs7S+zubLdSKeAgdbs8yfMZhaKhgAeFxn/Vrb6PFxFq1R1l8uEzousf84TqbuPc5tLbJ1oGOUb7LQuUxqdoI9eYHt9Shdhwf8+PTtBEiZrHZIhQrGXvaMoQ8JlwcgT6F0g5c+V5EXsyvYkXXWo12U9p/w+9+NsyWN8mw1iuw00beekvmCZ2lEELYiV5C55dp44dEuM4tNPJNoZEgfgcfvfd+akBSGh/2nnijhOqeF43T7a13YCt3RBe511a7kCdAvAxxx6Imx8G7BsYdA9QEMzTi13MjCLAPI+N1nvJiZYWPXRzSiIhXz6AAOD+8zs4iuHQMO1O7rd6xtLUmiGOb+kA/L0DAA3K7afXcRWbuPXPveWW+H2y8DFcpmA//6FTV2ygHCARdmqTbcIkdYiCqUdlbYL1XA4ebMvxvnyCVHuN13h0SL9OFFELYoSYkwV51GpnKwcmbLpyl0evEAheQUM4kUmVwRywbP0Bo/r4a5XsfST49ydlr6e5Qzg4Nj64MgtI7PfwWrZOG9P0rABbndDUqAe3QQ5e0TyjpvDgEUlNNZfgVlW2JoepBuTLTdA8BBb1Dl3Tx5Ldz9sp+L5s6PrcuDsJx5yMjtPm6PPyd3QePVNAwIhVCdJgWj+ub0Dlc/G2V0je8mJ1ldnyNw5cl8m4ot4bo1Sn+LDMKKIGxZEkpslW+9ABWMRAKtGbvIvjAL9xUclUMOdp7w+K++4avf9nF7bAXt2tntPDccnA1acSMpQ8SGFCRy7KePAS+DdUts7IJebcXJAeQbDJj5gjEiAQ+UNXZ1wBEifCJhTErFDhT5l+4gMcnuvOGwApXCBnvG+c90hR6xGVNx2gZ69R+HItfuydVFKBxGudbtOFGiz9hcHqKrRQYVRRC2NB/3YgN04ECORgk05f90TnxDq7z66Qe++3aAXsVNhwMqpX2+H59p3nGn2swy3oETS2yMrAZAh+y/Zmv2pHJ2DwNwhILvW5tvX9cOErjKPsoLuQhOTtLrd6MMPmJUufwnMLJoAO4ezml4Y2orjE+NM3Z7nGTOBmyyK7fp65sibUI5NcPYxDh3b4/z/KJmaJMRQdjKLJ344i7OgWWWmnQPqqWtMLKiYXm6Cd2LMbe6ycvtP/Ct7IDKATvap05CDz4/QJHSBS9d1DWOgQ5Vrltik0PLVAAHwUA3lDWSiQz1i5hsy+LyYjEWhlZtoimn+te5/TTOcD/n5dbbMTy/7/LPW+oKM/dsk9XohzPnZynmslQAh9p99rIiM8NKQmJyYRR/pcCLWjPT6ZQAHf3vnzO7H2B1aRSlUmDjomZokxFB2LLKpGZnSHsmWYspTbuswTJLHO7tcCLvpC7uRUIAdEgffxfJaZ1uN3CMXTn/OUeHhwD4vHURUjTIHgMEUGUoakm2TOe7lmE5NcGdr77iq9/evWSS4P045YmZ6/ILnqZkosPnNwcr9jHgxt150fVvwkSvDn4SUM/e4mjqGpXBAXx6Bg03QwMK1W5wjF78/Op/vkEeDCLpGfZxEFBvMIj6mYggbEkWenyCBBGerV13wuFz0InPv6hrOVlk0xlw9BJW3weBXRvjtO1TTSrbpvodm5MPvf/69M/Y7x/44G58XdX2lpE/f5DSq9zCAeSN2joVSyfxOEn1KwnJmWN3y2Qg/H6iwywVa8t/jtD0ixa7e1B6vQDo2fz7688nIRq7YO9zmXxtDO8KDcLrqR8f9J/9x8kVnGN1yIOe0ah4B+jvqnuwQ+Hf/8c1pgM2mZ196AgRbs6xmjOJBdUtqJyaZUYLsNyU5bQ+5JCHiSpZ5u9sYEkS2DYuf5il9QiqVG1Jff3EABx0ul2Uk9/Q91Rm8qcIha+n2MVBh9uNmzLJb/p4Kk+y2r/H1BMDR4cbt5v3P7Paz97UEwxHB+7qA3zd9xQGVnkdq3U4ZZVb7HFgFLDxnDkB4wrOsVpe5MnuInfuSkiSl2B0nZ/Y4ft4hod3NHzhJZbq9kV3R5/xgz/DXmaX3cMjuODT8Q2tsnS0QiI1we20C5fTQyC2yZp6QSfWLmAUgFsBGr4dO6+TBfD2XjIxYpDVKriH1Hf/OjubQQuEmIN3k0AdA8Fzu/fNSNQjbDGWHmdspsDo+ho3GhY0MyxOpFFXlwk1f1PyIzFJT/2O73MDrL6KNfwXVo/fJuFd59lQg99gPc7tqV2UBz+zHGx0a8uiqBfAr1y8/TKX4M5f7aAuvWZOhep7OYYx+pKYAsUXY3zz1Gb4D5v0G1NsuRaYboGWoegat5JyitkZjcDy0s1CEAt9I8G+U+UXr85oaS6Cg704KmlSWqNnNnNoGWcDlr+cZqOl0lQ6Brj3UYJFwqdcEoIAUicS1UkhAEvfYKMzRkQBKKPvl8AdpNejs7PRSaDZt3/WiCBsFZZOfCIB0bUb7i22yD+fZWb3CHkw0BJd6o/JGYgQkSvsb6VvVMXnPOUXT0n5Igz+4uUvpy+cZmu/ghwZbny3+Dp8YR4MKxjxKR4uTjGVklmaDr7b0aMO9uC2sjyd30CaizXpkq4Pia5xS6iWlN/wL7N+gxliu5wlOf+QnUIFkJn86Ybd6i9NOcXEWAL33DZzjfiNLacYH9tnYH21we+vhbZ4l8XDaLVIRSMvLQAiCFuAhR4fYyrj59vpIbqu1BqwKOs6hXKJbDbH4XHdOhF5kp/EL9M7prbI+OLhzcdcP4FyaoKxDT/L6zFapKfZckQQNrlyaoKxJwYXLHm7FnGK3YdMbYXZlMLCcqj5/kCU08zM64SXpgm0wJECrUoEoSAIbU9MlgiC0PZEEAqC0PZEEAqC0PZEEH7JzCzPZ8bo67vdMpWCBeFzEEH4JXOpBAMSOAIoXZc/XRDalQjCL5pNQTdwdKvIl6w/tLIJJuJZrlzk2tZJTCTINmNVbEG4JhGETc8mmxhhZOQOt/v66Ou7Q1yve9jMsHj3Nn19ffT19XH77gjx7Nv9swZZDTw9MmQWGR8b4c5KltO7ay09ztgKRKLq1XetOBVGIzYrIysiDIWWJ4Kw6TlRo5tsLg3Xqgwfs5vS3oeZK8jc9jYPekCZ/IlX25vE1Frzr5gjW3HgtzUSmhO3ZWJb1skgtHWSixkCc9Fr72GVlBgLIY3FxIfhKgitRARhizD1N1j9A/Q6gP0t0ifKzBcxdJke9eS+CKugc0iF/TcSkblp5ta3efkoeKLVV04n2ZWGGbxhLarugVFce3FeXFSHVBCanCjM+rnYZbIbcTay4JY9deEkoQ5HCJzINBtDN1BDqwxKGfZ3DLbSRcL3ajVkygUMSaH/1P4wI3sA8jAPlD2+vlvih80oJ4uiFNF2DOSBBzevRuMLMCg/ZWMvz72ImJERWpMIwgYztRVmdwrYOQisrhHphuzKHWb3uvnur1cJuYByiqmJfXoWHrAWucoGUoOspqBGnXS7R/HuPKW0tYN+r1pU1C7o5JUQJ2OoSF6HzmAvQdXi8ZZBQUvwOKuyPl0rL2/q7Jc6kE/XzitnWJzfpWTnoH+VtXvdOAFbTzCxYjH6bLquvJIHv9zBkW5Qpqv59uoKwhWIrnEjXXbKVwGgyPPZPXpWVxnqvuIu+mKOrEvG7wJ8QYYV4Hj3XVFRI6vRffq0cauAYXagKj7wBxlwl9nYMBgcrDtMvFTAwIf3xG0UeT67g/xggVF/hcKPu1TnZmyyqR0KphPp1IyKx+sDw6id5yEIrUcEYQNddsqX3wvoO2z4hwldoy9qFXRMVa21+GrVlYH9rTQmRXLZLnpOH0QrBXn06iXTqhMkhdjmNtvrawzVNRvNYgHw4qlvxuWzvJGHCXl0Mho4egNUzzSrzkDTLeM9dX8unx8oUW5khVNB+IRE17iBXME5VrHRFjUq3tEPTvmSPVDOFnCWLJLx7DlXcRMYvUf9GT5G9gBVnXv3tTMwSLhjnx1ji7QGbyyZ+zfok54509s1xNo02Noi+xXoCdQKwRZzZCvglv3nnJFri5ljoWWJIGy4i0/5sqQOnOowsStPLOTIajLqaH1/tJuBUS87T0tsrSQ5VudOTYLkeT4ywYZ3ms3l4JUO9z7JJpvZB3oI1o7brM5AOxhQxYSI8OURXeNGy2lkKiC/29NmktnJEgqpAEhKEF9mn/xVr1ebET49n+ELDqMAx8fHKB8cpN3F0LNtXl4Sgh6PF7CwPlgQbWIeAn4Ffy1/jewBoKL48zwfT5Cta/5VD/Jx4xLVk4UWJYKw0S485Qtwhfg2kGY+rl9pO1tZ28OQ5Q+Xt7iCDPY6ADeyvy7uyilmxu5y9+4Vdnx0SHRQwjRPPyAhdfC+72xlSGeoBmNhjy3JT/0Z4Ga5BB0e3CIIhRYlgrDRLjzlq6o7us60lGDi4Qv04tkja3Y2zsjd23z91ID9ee7cXSRzIrCcBAbDdHQE6HnXWy2TerxFV38QKgbGZZMXXQqqo4ReOJ2YEoHofW5ZSeZnFpma1VCig3iLW8zGi0QmQ3UtTZuCUcChKm1/Mp7Quj56qX4rW93HOr0eQxUthpPMPHo2S8Y4rPvmWQuqr862bIqpMX6/E+QP2xEuHtGz0RbvMO98xOtp9WYviE789gxWo06CE4TP4KNOlljZOGOzaewOmB2DJRGGJ7m6UEJdKKHGXdIpmRhvDukM9eCzgQv3D1dblZ1/lSITVQne4LOxtBRpKcyqCEGhhX20rrGpLTI2q6EsbPLy5SYLisbs2CLaB+NRQkNZBprRSdCtM/Eww6Vvd/cocwMG8Y2bVG7NsRHXCU2P0ujzzAXhU/pIQWhR0mH4D+vMBVyAi8DcOn8YBr0kajZ9VE4Xnk4bbUdnIHaVpTMSSmyNiDHPyrXqaVno8ccYw6vERDNfaHHiOE+hxsayQJKuWovrus8XhOYlglAQhLYnls8IgtD2GjxrXCbzcIp41sT2BIg+iKKUkjxJZCk6nTg9QR4sROgWQ0qCIDSRhrYIiy9mWbEjrK9H6Srt8+T3v2N8S2L02SpR2Ympb/E0I6aNBUFoLg1sERbRdsoEogFcZpJq5XaZyEIUpRTn9n6JCg7cn3JDqplm6nffo1/+zDM46F+qlbESBOGL1rggNA0MQoRVJ2ba4Bigd5iwB/CMsvadH8OjEr7uCUF1cskRprYswj+8JHqVhWuuEKuvG7haWRCEL1LjgtAV4tFmCLDR9GplZlmRaxsbXHSFwpds97qMTcWWcN0apL8JN7X29fV97lsQhKb3+vXrz30LZ/oIW+xqlYxxf1g1+RdxokSfsdnAKzZSs37AgiBcrvFBWKtkjEOl+9KWm0UuOc8T3cI03URXHxH0AJRJz0yxoyzw7F4X5dQMs3tHWHkYXF3jXvcVu9dijFAQhCtoeBCa+hsOAQJq7ayL81lanHlzmPXJPOO//5EtrUxwyAPFDBsHh7gCEhSfM7sfYHXJReKreTb2DO51X/EQXjFGKAjCFTR4QXX1/F0AWfFfXPgEC107YnhYxdT3OMRLb+2A8mqYdiD7PeSzb5AHg0h6hn0cBD6oxiwIgvDLNLhFmEfPAnjpVS4rqCcRmF6lenxkCdzDqD54H6Y9yD7o6l5jGpP01D50DBAW5Z4EQWiwBgdhN6NrqwTwo1x1ZreosXsI7uHe2qxyLUxlFflt5pU1dnXoGAhyxU6xIHx2drUqxSU9o89BFMw4reFjhJJPuV5YHR1yCPS+PeyobKAfg1uRcWorzJijRO0dDNwMDygUU1NsuRaYFi3Dm9Pj9E3tNu568iQ/rYW5YVHtL5BF/vksE2/6WW/K98WmkBxj0YrxbC5wg1MOvzyf/zhPh5OOui/zu7sUgF5FIrul4ft2FP1ptevc69HZme0ksC5C8BdRhpmU0zwxKkAngz9sX22Bum1h2SbFrM5+eofUQYkKgLGDVgwz1ITrO8uZReaTR/ij3zF90/MPrvuaqVkmNtzMbTdjCEK1BuUqg2PfMB5fZT2m0O6/UX/68OHD//xZ7+DXfnzlf2B7+28x/tsr3vxqkMF/qfO3e2/4J3mK2fBv+PWf59H+7p/47//V4F9PzPKVTzTpfxmJ3/y7X5FN/SP/6//+H4x/MFF++5d4Lntb/9SJ0/krfv1vfoPa9xVf98uY+t/xT0dHlP5VL0N/8atPcvdXp5OM/hf+8X8fUtBslK//8uMHU/kFs//pNd7ZZb75zZ9/7Ff7BX7FX/xbi+0nCf6H/yv+Q5v/Tol6hG3M0ha5O79PBejoX2JzWr1By6BMamKMJ8UwP7yMNlnJfhs9McbMjolrcJn1qPKRx+tMMjMjPD4c5Y/r91rgVD8LbfEu83qYH7ab7bP7tEQ9wjYmBWIsD3QCcLz3kNnUZed/nsVDeGmOXjvN/k2OPfmonCjRTV69fsXmRw9BIL9D4qCCdyDQAiEIIKEGAziOUmy0eVUoEYRtTUKJzlHNwgpG4jE3ykIpQHRtDlVq7/NocnspjnDTr7ZGDAI41SABKhzsZi8/6OsLJoKw3TkVYmv3q7uAKgZPZp/XSqhdj6tLRfW185B7jv30MXQErr50rBk4FQK3AD2D3sZ/xz7/rLHw+XmGeDC5z9gTg0rpR6bi3c0/k2jlSSeekswWcTqd2JaFp8tDXpdZfh1DQSfeN8Wuo5NOjjjqer/ER4/3MbXroNPtwjYPCT76mWB+keT+EWa5iOn0oYQiTEdU0F+QSO5SME3KphOfEiIyHUE9vebELGAcA7fkc7vFZjbB/EqavAWeQIyluWDd5I1JNrnCVjnEdye+f1Um2cQ8K+k8lu0jOLfwbpa8nJpi7ImONLDKZuz0EIGE29cBBzp6AYJtulBXtAgFADzhBaZvOQA42l0k2dTNgzKp2Qm+L/Wwtr3N5uYm2y+f0W8Xq8t5AFCIvX7Nz9MyR5WTP63EXvP6b5YJWIccVyD9cIQkEZaePWPz5ToRT4GDrVnGR0YYSdoML62zvvmS9YiHwsEWs/MpPhhBKBUwADyuM/+A2Hqc8UWL0fWXLIeOKe0/Jp6pe49zWyxuHaAbZexrvx82enycRWuU9ZfLhCoF9ha3asVGLIxsjgpwtJup3uMpLq8PqFAotm/nWAShUOMiOLdcGy88YndmkaYdPzez7BkV8PrqWk4ewqPBD54quc5ZLux046813SrdURbuddUCzEOgv1ou5OjQQ2zhHl21ZPME+qtDCIaGcervhGVWo1H2u8+6YTIbu/iiEVSpSF4HcOCpq9Ze1DWOAYfaff2JlmKK+K6PaERFymlkAFxuqtNgEsHpR/R3AO633zvJ46vu3y+WbjJA/GUQQSi8JylE5gaqvyyVA1bOavk0A8mF2wHsPWR88TlpPU/ZskGN8fPP0Wtvw/T3KGfvrvD3cHZJzWOs00FoHZ//AlYJy3uf0YALcrtslAD3KIPvbrSM/uYQAEW5flER6wiUyW8JuiC3n+YY8A7WzVxLKqEgoHRdGLLHduWCR79sIgiFEyQlxuq3XgAqRoKE1oRdZGeA6Fw/bkeFwv6PfD/1e77+6rfcvjPFVuH6HUvneetqzn3gmiSFodgQinROUNkFqkWbZALy9UdmJWWIWLgbJzp7qWNAZjBQH3kWZhluqZcVxmtfIgiFD/juxRjoAIccJdqke7pdgWk2t//I0uQw/bf8dDqgcmywNTVGounWM75Vm1nGy0D9EhsjiwbQIeP/JVtf9AzpCiD3o9Zfx9TYPbhZyLYLEYTCKRZ6fJFd5wDLS026Vzb/nPHx5+QlH2o4wvTyM7Zf/TULvZ3AEam9m9Uk/yXej7NdMLBa1NGOgQ4VuS4Hc1qGCuAIBuimjJZMkKlfw2RbWNblLd231+mQ/Sc+NzO7R+7WIOdttb54fLM9iCAUTiinZplJe5hci6E0awPi+JBCYYu9Ey0/F4HIKDLgdDo+/T11unFzyThbrdISPm/dmGQRI1sdXwyoMhQ1klsmzrehVU4xcecrvvrqt9y9pKlbsavX8XnrBjatLMlEkfBo8NwqM2/HN93nTSy1ARGEwjuWHmciAZFna9VjWJvaMTvzcbJ1Q5hFbQ8DL8MDdbtm7doTbPvUshQb23770KlH3j9w8mfefX36WoCvqzpJY+TPn2DyKtxyAHmDEgAWeuIxyeoXSJKT3O4W5kCYd0flmCWKtWw90vQLF7vLai8OIK8bVP/VRdIrK2SDc0Qu2EhcMgzAjd/bvoUXRNEFoaqcYmJsA//yOrGmbQrW6HH6Fi3ujzp5s6GRd0pItg0+ldH7UUJdUvXf8/UTDMDR6cZlmxweV5AnfyJS+JqpXXB0uHFJYJmHHFdkJlf72Zt6guHowF19oPYzq/TvTfHEcNDhdiFhYR4eU2GA1dex2iy1RWbmKx4f9LLwN3MEzskUK/ecxSe7GGUbSZLwBqPEBmDn+ziZvAW+MAtLEbrrPoJyLk1mL8Purofpd6935tXJpxM8TWbI2S5ckhN5+AGxcNcFi+OLPB/5hh+twSYsmvHpiCAUwNKJj81QGF1n7UZNQZPM4gRpdZXlUNM3JT8aMz3F777PMbD6ilijd2jocW4nvKw/G2rsuG3tD0Zx8AdeXqko5ZdJdI3bXpnU7AxaYJmlG/aHLX2DxL4TVW7fEARwBQfpdVRIp7Qb7A65WE7L4FTkhk9eFbUdDGQig+0bgiCCsM1Z6PEJEkRZu+HeYiv/nNmZXY7kQQKtVGzgY3AGiERkKvtbpBu5Er38gqcpX+PDytbZ2SjRMRChjRvygAjCtlZOzTKjBW62TMYuk02Mc/f3P2JUQO5Xm3OpzSfmGXrApJwnkdRozFL0Mqn5JM7og4ZPYBVfxNl1DvAo8glqNTY5MUbYpiw9zthUBv+30wx1Xe3XwCrr6IUypWyW3OFxXYEDmcmfWmGm+RMxNRbHFzm88Zjrx2fpccZmCoyui88NRBC2p3KKibEnGI3aWipOsfuQqbEym0JZWG6+bqetkxh/jvvBHENdTb5C4BMRQSgIQtsTY4SCILQ9EYSCILQ9EYSCILQ9EYTC9dh50isT3Om7zVS6WUtYC8L1iCAUrsfZRSjkx8ZDj9y+1UqEL4sIQuHairksFcfJmnpnPzHFzMSLaxwPWiY9M0PqJueJCsIvIIKwTdnZBCMjI9y53UdfXx934vXFTE0yi3e53Vd9rO/2XUbi2dr+WRP9zSGOgIIv95zx8TFGxs8426ScYmJcI/Bg6BqHEXkIxQLsjU/woikPSxG+VCII25RTjbK5ucRwrXd7vJtCe1cpwEVwbpvtBz2gTPLTq202Y2p1G5ZtoBsOulxFEhsl/M4yh+bhqe1kZVKPEzij09ffteAJsxBz8nT+RXMeHCV8kUQQtjNT543Vz0CvA9hn69TkR9HQkXtO7SHO62SpYKRLBB9NM726zc+bEbrqnmLrWyTzAQaDNxtDdAUH6S0+Jak1uoaLIJztzz73DQiNZFPObhDfyIJbxlO3e0pSh4mcOrTCNnQMNcTqoERmfwdjK00xfK/WlS1TMCSU/pM/UzZ0jh39fBezWbwzRXRzldCJvLPJptLYwUfc+NwnZ4BwyMFUWiMWCN6oKo4gXIdoEbYCU2NlfIrxsduMJ3PYgJ1d4XZfX90SljKpqRG+L/YwvfaM5bkYsdj7/06HIFfEgIoAAAS0SURBVICR1VBUP87uAUa9wOEWO2+HCu0Cel5BqW/qYVMwCjhUlYCs4KvkMPQMD8frJ0QMslqF7tPn81o5klPjTIzfZeRh5n23t5xmZmSc5/mTT/crCrzRKdz0PROEaxBB2PRMMisJpMkFRv0VCi/2MACcTiRA16tRUXw+y17PKqtD3ece0nNSkVzWhex3AT6CwwpwzO7boqJGFq1bwX/qZwzdgU/1I3lU+hXQkjtIo8H3EyLlIoWKA6+n/i4stPg85vAqk71ODt9sodWSsJjZ4ODQiXSq2Se5PDgwyIuBQuETEEHY7EwdrTLIgE8no4F7aAAFcCpRYr3g93sBnZ0NP8Oha1RGtQropopaa/FVqysD+1ukzeoSma4e5VSodhHZfsWzsA/wEF59xfbmGtOBumcdFsjjw1t/MqSlox0NM6ya6HuH4O2tnbtbnYE+8zxft58uCpQOr/5PEoSbEmOEzc4VZG4VbG0RreJltL++r9qBInugnKXgLGEl42TPuYw7MMo9tS6wjCwHqsrc26+dAQbDHezvGGylNXhjId+/Wf2oD6p7SQGmV4Hic2ZL4B5Wqy1I20A3gB753CU2tpgvET4BEYQtwshqVNxDqG8Tw86S0QKE5gBLosOpMhw7OXt7kVxWQ1ZHT0xEdA+M4t15SmlrheSxytyJyvAW2sO7zBtD/GH76q9Tr6jtcoib4d7aT+d1soCsymJCRPisRNe4JeTQMhWQlXcBZGZ2yIZCqACSQtCXYT9/wSVOqM0Inz5syRekOlR4zLGinhoflAjMfbhU5gNuL35Mjs6oU390eAjI7yZgyobOMW4U2Ym2MkOqfjzQtjBx4+q86r9JEG5OBGFLkOiUANuqLly2dDY2OolF3p4Z6SL0bYD0fBz9KgdllDX2DPmMLXIugoPVQ8Ldsv/9+KClE58Y4e6d8cu3v0kuOjmifPThQw5nR91XeXZ3C4CMImXZ0XwnxwkPSxziwSu2MwufgAjCluAj/GAYxYgz9XCRqakU8tI0wRP92ijr0xKJiYe80ItnHydpZ4mP3OX2108x2Gf+zl0WMycXUTsDg4Q7Ogj0vG/36cmHmL0D+CsmRumSpJX8qF7Q9Q+bp93D0/R7s6xMPOThxFMYvs+tDp347BbeudETh4sX8zp4byHqOgifgijV/8UxyetZshmD+gnXsxZUX5VtWVjZOL9bsXmw/ehkAJ+h+GKMb/YG+OnGh5GXSU18zU7PH1m/1+5nhAqfgpgs+eK46FJCdCmhhl3RKUmUdA2HOo3stOGSwx99wVFuJZPs5oeI3GhWJcNO/hbDCyIEhU9DdI2FK8ihZUBRLZJjSXKXPd0VJBZ18eJpmuuXbjXJJDaQItFTW/cE4eMRQShcgQuvDwo7+7imT47lnccTXmLZm2T+mvW0yql5kp5HLA2J1qDw6YgxQuGjsi0LJOmSzvTNny8IjSCCUBCEtie6xoIgtD0RhIIgtD0RhIIgtD0RhIIgtD0RhIIgtD0RhIIgtD0RhIIgtD0RhIIgtD0RhIIgtD0RhIIgtD0RhIIgtD0RhIIgtD0RhIIgtD0RhIIgtD0RhIIgtD0RhIIgtD0RhIIgtD0RhIIgtL3/DxAYSv7FxTSGAAAAAElFTkSuQmCC)\n",
        "\n",
        "\n"
      ],
      "metadata": {
        "id": "_vJfz0u0pROf"
      }
    },
    {
      "cell_type": "markdown",
      "source": [
        " Por eso obtenemos valores distintos. Sin embargo **si que la diferencia de valor entre su MAE y su RMSE obtenido es de,en torno al 0.2-0.3, igual que en nuestro caso.**"
      ],
      "metadata": {
        "id": "OqJV8vfUr1Xg"
      }
    },
    {
      "cell_type": "markdown",
      "source": [
        "## **EJERCICIO OPCIONAL AÑADIDO**\n",
        "\n",
        "Como ejercicio opcional propuesto en clase, vamos a comprobar la versión alternativa del KNN basado en usuario, en el que NO centramos los scores en la media, afecta a las métricas, en concreto a Precision y Recall. Vamos a ver si tienen un efecto relevante en las recomendaciones.\n",
        "\n",
        "En la propuesta origianl usábamos:\n",
        "  $$\\hat{r}(u,x) =\\bar{r}(u)+c \\sum_{v \\in \\eta_k(u)} sim(u,v)(r(v,x)-\\bar{r}(v))$$ \n",
        "\n",
        "Ahora ya no centramos el rating para un usuario en su propia media, ni corregiremos los ratings de los vecinos restándole su desviación estándar. De modo que el score de recomendación de un item para un usuario queda tal que:\n",
        "\n",
        "  $$\\hat{r}(u,x) =c \\sum_{v \\in \\eta_k(u)} sim(u,v)r(v,x)$$ \n",
        "\n",
        "\n",
        "Usando la similitud coseno por proporcionar resultados similares que la similitud de Pearson, repetimos el ejercicio 3, sin usar la constante de normalización para calcular los scores de los items:"
      ],
      "metadata": {
        "id": "73P4OIQ4ZsX0"
      }
    },
    {
      "cell_type": "code",
      "source": [
        "k = 7\n",
        "N_item_to_recommed = 5\n",
        "user_KNN( mat_train, sim_fun = 'cos' ).call_precision_recall(mat_test, k=k ,rel_score_min = 3, n = N_item_to_recommed, verbosse = True,  norm = False)"
      ],
      "metadata": {
        "colab": {
          "base_uri": "https://localhost:8080/"
        },
        "id": "XbSkBjENcw8C",
        "outputId": "dfb01ec2-c8e9-42b5-c76a-207ce4c06d74"
      },
      "execution_count": 27,
      "outputs": [
        {
          "output_type": "stream",
          "name": "stdout",
          "text": [
            "Precision: 0.044444444444444446\n",
            "Recall: 0.07407407407407407\n",
            "\tSim function: cos\n",
            "\tk =  7\n"
          ]
        }
      ]
    },
    {
      "cell_type": "code",
      "source": [
        "k = 7\n",
        "N_item_to_recommed = 8\n",
        "user_KNN( mat_train, sim_fun = 'cos' ).call_precision_recall(mat_test, k=k ,rel_score_min = 3, n = N_item_to_recommed, verbosse = True,  norm = False)"
      ],
      "metadata": {
        "colab": {
          "base_uri": "https://localhost:8080/"
        },
        "id": "nAJ5pW-bcw-5",
        "outputId": "426acd8b-13fe-49c2-cb1c-795b047285ec"
      },
      "execution_count": 28,
      "outputs": [
        {
          "output_type": "stream",
          "name": "stdout",
          "text": [
            "Precision: 0.06944444444444445\n",
            "Recall: 0.17592592592592593\n",
            "\tSim function: cos\n",
            "\tk =  7\n"
          ]
        }
      ]
    },
    {
      "cell_type": "code",
      "source": [
        "k = 7\n",
        "N_item_to_recommed = 10\n",
        "user_KNN( mat_train, sim_fun = 'cos' ).call_precision_recall(mat_test, k=k ,rel_score_min = 3, n = N_item_to_recommed, verbosse = True,  norm = False)"
      ],
      "metadata": {
        "colab": {
          "base_uri": "https://localhost:8080/"
        },
        "id": "lHzkK9nhcxBz",
        "outputId": "98e2dfb5-665f-4db3-baa1-ad6d4993d1d2"
      },
      "execution_count": 29,
      "outputs": [
        {
          "output_type": "stream",
          "name": "stdout",
          "text": [
            "Precision: 0.06666666666666667\n",
            "Recall: 0.2037037037037037\n",
            "\tSim function: cos\n",
            "\tk =  7\n"
          ]
        }
      ]
    },
    {
      "cell_type": "code",
      "source": [
        "k = 7\n",
        "N_item_to_recommed = 15\n",
        "user_KNN( mat_train, sim_fun = 'cos' ).call_precision_recall(mat_test, k=k ,rel_score_min = 3, n = N_item_to_recommed, verbosse = True,  norm = False)"
      ],
      "metadata": {
        "colab": {
          "base_uri": "https://localhost:8080/"
        },
        "id": "m6kysoCOc16A",
        "outputId": "5a1b1dfe-a2cf-4f83-c179-572b42e1a711"
      },
      "execution_count": 30,
      "outputs": [
        {
          "output_type": "stream",
          "name": "stdout",
          "text": [
            "Precision: 0.05185185185185185\n",
            "Recall: 0.2314814814814815\n",
            "\tSim function: cos\n",
            "\tk =  7\n"
          ]
        }
      ]
    },
    {
      "cell_type": "code",
      "source": [
        "k = 7\n",
        "N_item_to_recommed = 20\n",
        "user_KNN( mat_train, sim_fun = 'cos' ).call_precision_recall(mat_test, k=k ,rel_score_min = 3, n = N_item_to_recommed, verbosse = True,  norm = False)"
      ],
      "metadata": {
        "colab": {
          "base_uri": "https://localhost:8080/"
        },
        "id": "-VdGgHepc2BL",
        "outputId": "9b591ac7-7779-4653-fd39-d7a6047c4645"
      },
      "execution_count": 31,
      "outputs": [
        {
          "output_type": "stream",
          "name": "stdout",
          "text": [
            "Precision: 0.044444444444444446\n",
            "Recall: 0.2592592592592593\n",
            "\tSim function: cos\n",
            "\tk =  7\n"
          ]
        }
      ]
    },
    {
      "cell_type": "code",
      "source": [
        "k = 7\n",
        "N_item_to_recommed = 30\n",
        "user_KNN( mat_train, sim_fun = 'cos' ).call_precision_recall(mat_test, k=k ,rel_score_min = 3, n = N_item_to_recommed, verbosse = True,  norm = False)"
      ],
      "metadata": {
        "colab": {
          "base_uri": "https://localhost:8080/"
        },
        "id": "SdohhNejc4Ot",
        "outputId": "0b316126-441f-4fe6-bb7d-cf72850c054e"
      },
      "execution_count": 32,
      "outputs": [
        {
          "output_type": "stream",
          "name": "stdout",
          "text": [
            "Precision: 0.040740740740740744\n",
            "Recall: 0.37037037037037035\n",
            "\tSim function: cos\n",
            "\tk =  7\n"
          ]
        }
      ]
    },
    {
      "cell_type": "markdown",
      "source": [
        "Observamos resultados similares, por lo que podemos **afirmar que para este datset no mejoramos las métricas y centrando o no los ratings en la media de cada usuario.** Si observamos nuestro datset de ratings, a primera vista parece que es un síntoma de que las medias de nuestra valoraciones sobre películas ya están bastante equilibradas. Es muy probable que en un dataset de mayor tamaño, precision y recall empeoraran con esta última versión."
      ],
      "metadata": {
        "id": "DHqpWVO6g-V1"
      }
    }
  ]
}