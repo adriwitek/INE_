{
 "cells": [
  {
   "cell_type": "markdown",
   "id": "38dd793c",
   "metadata": {},
   "source": [
    "#  Práctica 2 Información No Estructurada - 2022 - Master Ciencia de Datos UAM\n",
    "\n",
    "## AUTORES: Miguel Carreras Lahoz,Adrián Rubio Pintado\n"
   ]
  },
  {
   "cell_type": "code",
   "execution_count": 5,
   "id": "448ae8f7",
   "metadata": {},
   "outputs": [],
   "source": [
    "import pandas as pd\n",
    "import numpy as np\n",
    "pd.set_option(\"display.precision\", 9)\n"
   ]
  },
  {
   "cell_type": "markdown",
   "id": "88937df7",
   "metadata": {},
   "source": [
    "# EJERCICIO 1: Evaluación con juicios de relevancia"
   ]
  },
  {
   "cell_type": "markdown",
   "id": "fc775d25",
   "metadata": {},
   "source": [
    "## Carga de Datos\n",
    "\n",
    "Tenemos 5 ficheros:\n",
    "    \n",
    "- qrels.csv: que contiene los documentos relevantes identificados por cada query y cuantificando la relevancia en [0,2]\n",
    "- buscador.csv: 4 documentos por cada buscador que agrupan las queries que se han hecho en él. De nuevo cada query viene identificada por un número\n",
    "\n",
    "*Cabe destacar que el número de consultas escogido es 10, debido a que fue el número de consultas que se encontraban(bien presentadas tal y como se pedia en formato), el día de fin de recogida de datos para la práctica, especificado en moodle.*\n",
    "\n",
    "\n",
    "**Por mantener la reproducibilidad de los resultados(y debido a un duplicado en uno de los archivos), se entregan también los .csv procesados y usados en la práctica**\n"
   ]
  },
  {
   "cell_type": "code",
   "execution_count": 691,
   "id": "aa817d6b",
   "metadata": {},
   "outputs": [],
   "source": [
    "N_OF_QUERIES = 10"
   ]
  },
  {
   "cell_type": "code",
   "execution_count": 692,
   "id": "a765717a",
   "metadata": {},
   "outputs": [],
   "source": [
    "\n",
    "\n",
    "############################################\n",
    "#                Loading Data \n",
    "############################################\n",
    "\n",
    "\n",
    "#Lectura de Rankings, por buscador, identificados por consulta\n",
    "google = pd.read_csv('Google.csv')\n",
    "bing = pd.read_csv('Bing.csv')\n",
    "yandex = pd.read_csv('Yandex.csv')\n",
    "duck = pd.read_csv('Duck.csv')\n",
    "\n",
    "google = google.drop(['ignorar_campo'], axis=1)\n",
    "bing = bing.drop(['ignorar_campo'], axis=1)\n",
    "yandex = yandex.drop(['ignorar_campo'], axis=1)\n",
    "duck = duck.drop(['ignorar_campo'], axis=1)\n",
    "\n",
    "engines= { 'google': google,\n",
    "           'bing': bing,\n",
    "           'yandex': yandex,\n",
    "           'duck':  duck\n",
    "         }\n"
   ]
  },
  {
   "cell_type": "code",
   "execution_count": 693,
   "id": "dcfc02c6",
   "metadata": {},
   "outputs": [
    {
     "data": {
      "text/html": [
       "<div>\n",
       "<style scoped>\n",
       "    .dataframe tbody tr th:only-of-type {\n",
       "        vertical-align: middle;\n",
       "    }\n",
       "\n",
       "    .dataframe tbody tr th {\n",
       "        vertical-align: top;\n",
       "    }\n",
       "\n",
       "    .dataframe thead th {\n",
       "        text-align: right;\n",
       "    }\n",
       "</style>\n",
       "<table border=\"1\" class=\"dataframe\">\n",
       "  <thead>\n",
       "    <tr style=\"text-align: right;\">\n",
       "      <th></th>\n",
       "      <th>query_id</th>\n",
       "      <th>URL</th>\n",
       "      <th>Posicion</th>\n",
       "      <th>Score</th>\n",
       "      <th>Buscador</th>\n",
       "    </tr>\n",
       "  </thead>\n",
       "  <tbody>\n",
       "    <tr>\n",
       "      <th>0</th>\n",
       "      <td>0</td>\n",
       "      <td>http://www.cs.cmu.edu/~aberger/proposal.ps</td>\n",
       "      <td>1</td>\n",
       "      <td>10</td>\n",
       "      <td>google</td>\n",
       "    </tr>\n",
       "    <tr>\n",
       "      <th>1</th>\n",
       "      <td>0</td>\n",
       "      <td>http://ictir2015.org</td>\n",
       "      <td>2</td>\n",
       "      <td>9</td>\n",
       "      <td>google</td>\n",
       "    </tr>\n",
       "    <tr>\n",
       "      <th>2</th>\n",
       "      <td>0</td>\n",
       "      <td>https://en.wikipedia.org/wiki/Information_retr...</td>\n",
       "      <td>3</td>\n",
       "      <td>8</td>\n",
       "      <td>google</td>\n",
       "    </tr>\n",
       "    <tr>\n",
       "      <th>3</th>\n",
       "      <td>0</td>\n",
       "      <td>http://onlinelibrary.wiley.com/doi/10.1002/asi...</td>\n",
       "      <td>4</td>\n",
       "      <td>7</td>\n",
       "      <td>google</td>\n",
       "    </tr>\n",
       "    <tr>\n",
       "      <th>4</th>\n",
       "      <td>0</td>\n",
       "      <td>http://web4.cs.ucl.ac.uk/staff/jun.wang/papers...</td>\n",
       "      <td>5</td>\n",
       "      <td>6</td>\n",
       "      <td>google</td>\n",
       "    </tr>\n",
       "  </tbody>\n",
       "</table>\n",
       "</div>"
      ],
      "text/plain": [
       "   query_id                                                URL  Posicion  \\\n",
       "0         0         http://www.cs.cmu.edu/~aberger/proposal.ps         1   \n",
       "1         0                               http://ictir2015.org         2   \n",
       "2         0  https://en.wikipedia.org/wiki/Information_retr...         3   \n",
       "3         0  http://onlinelibrary.wiley.com/doi/10.1002/asi...         4   \n",
       "4         0  http://web4.cs.ucl.ac.uk/staff/jun.wang/papers...         5   \n",
       "\n",
       "   Score Buscador  \n",
       "0     10   google  \n",
       "1      9   google  \n",
       "2      8   google  \n",
       "3      7   google  \n",
       "4      6   google  "
      ]
     },
     "execution_count": 693,
     "metadata": {},
     "output_type": "execute_result"
    }
   ],
   "source": [
    "google.head()"
   ]
  },
  {
   "cell_type": "code",
   "execution_count": 694,
   "id": "57c2aa5b",
   "metadata": {},
   "outputs": [],
   "source": [
    "#google.loc[google['query_id'] == 0]['URL']"
   ]
  },
  {
   "cell_type": "markdown",
   "id": "798b5e49",
   "metadata": {},
   "source": [
    "Lectura de URLs relevantes. Solo consideramos relevantes las que tengan un nivel de acierto mayor a 0"
   ]
  },
  {
   "cell_type": "code",
   "execution_count": 695,
   "id": "687120b2",
   "metadata": {},
   "outputs": [
    {
     "data": {
      "text/html": [
       "<div>\n",
       "<style scoped>\n",
       "    .dataframe tbody tr th:only-of-type {\n",
       "        vertical-align: middle;\n",
       "    }\n",
       "\n",
       "    .dataframe tbody tr th {\n",
       "        vertical-align: top;\n",
       "    }\n",
       "\n",
       "    .dataframe thead th {\n",
       "        text-align: right;\n",
       "    }\n",
       "</style>\n",
       "<table border=\"1\" class=\"dataframe\">\n",
       "  <thead>\n",
       "    <tr style=\"text-align: right;\">\n",
       "      <th></th>\n",
       "      <th>query_id</th>\n",
       "      <th>Ignorar_campo</th>\n",
       "      <th>URL</th>\n",
       "      <th>Nivel_de_acierto</th>\n",
       "    </tr>\n",
       "  </thead>\n",
       "  <tbody>\n",
       "    <tr>\n",
       "      <th>0</th>\n",
       "      <td>0</td>\n",
       "      <td>0</td>\n",
       "      <td>http://ciir-publications.cs.umass.edu/getpdf.p...</td>\n",
       "      <td>0</td>\n",
       "    </tr>\n",
       "    <tr>\n",
       "      <th>1</th>\n",
       "      <td>0</td>\n",
       "      <td>0</td>\n",
       "      <td>http://citeseerx.ist.psu.edu/viewdoc/download?...</td>\n",
       "      <td>0</td>\n",
       "    </tr>\n",
       "    <tr>\n",
       "      <th>2</th>\n",
       "      <td>0</td>\n",
       "      <td>0</td>\n",
       "      <td>http://citeseerx.ist.psu.edu/viewdoc/summary?d...</td>\n",
       "      <td>2</td>\n",
       "    </tr>\n",
       "    <tr>\n",
       "      <th>3</th>\n",
       "      <td>0</td>\n",
       "      <td>0</td>\n",
       "      <td>http://dictionary.reference.com/browse/informa...</td>\n",
       "      <td>0</td>\n",
       "    </tr>\n",
       "    <tr>\n",
       "      <th>4</th>\n",
       "      <td>0</td>\n",
       "      <td>0</td>\n",
       "      <td>http://dl.acm.org/citation.cfm?id=2499178</td>\n",
       "      <td>0</td>\n",
       "    </tr>\n",
       "  </tbody>\n",
       "</table>\n",
       "</div>"
      ],
      "text/plain": [
       "   query_id  Ignorar_campo                                                URL  \\\n",
       "0         0              0  http://ciir-publications.cs.umass.edu/getpdf.p...   \n",
       "1         0              0  http://citeseerx.ist.psu.edu/viewdoc/download?...   \n",
       "2         0              0  http://citeseerx.ist.psu.edu/viewdoc/summary?d...   \n",
       "3         0              0  http://dictionary.reference.com/browse/informa...   \n",
       "4         0              0          http://dl.acm.org/citation.cfm?id=2499178   \n",
       "\n",
       "   Nivel_de_acierto  \n",
       "0                 0  \n",
       "1                 0  \n",
       "2                 2  \n",
       "3                 0  \n",
       "4                 0  "
      ]
     },
     "execution_count": 695,
     "metadata": {},
     "output_type": "execute_result"
    }
   ],
   "source": [
    "#Leemos el fichero de relevante\n",
    "#No relevante: 0\n",
    "#Relevante: >0\n",
    "qrels_with_zeros = pd.read_csv('qrels.csv')\n",
    "qrels_with_zeros = qrels_with_zeros.drop_duplicates()\n",
    "qrels_with_zeros.head()"
   ]
  },
  {
   "cell_type": "markdown",
   "id": "362ca82d",
   "metadata": {},
   "source": [
    "Definimos las funciones de cálculo de métricas"
   ]
  },
  {
   "cell_type": "markdown",
   "id": "a25c216a",
   "metadata": {},
   "source": [
    "## DEFINICION DE MÉTRICAS"
   ]
  },
  {
   "cell_type": "markdown",
   "id": "e5ba3ab7",
   "metadata": {},
   "source": [
    "## Precision, Recall y  Media Armónica.\n",
    "\n",
    "Calculamos Precision como:\n",
    "$$P = \\frac{|Relevant \\cap Returned|}{|Returned|}$$\n",
    "\n",
    "Y Recall como:\n",
    "$$R = \\frac{|Relevant \\cap Returned|}{|Relevant|}$$\n",
    "\n",
    "\n",
    "La media armónica o F measure se define a partir de Precision y Recall tal que:\n",
    "$$F = \\frac{2RP}{R+P}$$"
   ]
  },
  {
   "cell_type": "code",
   "execution_count": 697,
   "id": "673895a8",
   "metadata": {},
   "outputs": [],
   "source": [
    "#calc_metrics_por_consulta(qrels.loc[qrels['query_id'] == 0] ,google.loc[google['qid'] == 0])\n",
    "def calc_metrics_por_consulta(qi_rels, qi_returned):\n",
    "    '''\n",
    "        Calcula precision y recall para una consulta\n",
    "        Args:\n",
    "            qi_rels:urls  relvantes para la consulta i\n",
    "            qi_returned: urls  returned para la consulta i\n",
    "    '''\n",
    "    intersection = pd.merge(qi_rels, qi_returned, how='inner', on=['URL'])\n",
    "\n",
    "    precision = len(intersection)/len(qi_returned)\n",
    "    recall = len(intersection)/len(qi_rels)\n",
    "    m_armonica = (2*precision*recall)/ (precision + recall)\n",
    "    return  precision, recall, m_armonica \n",
    "    \n",
    "    \n",
    "\n",
    "\n",
    "\n"
   ]
  },
  {
   "cell_type": "markdown",
   "id": "c9fefb4c",
   "metadata": {},
   "source": [
    "## MRR: Mean Reciprocal Rank\n",
    "\n",
    "El RR o Reciprocal Rank está definido como el recíproco del ranking para el primer docomento relevante dentro del ranking. Es decir:\n",
    "$$RR = \\frac{1}{posicion(1erDocRelevante)}$$\n",
    "El Mean Reciprocal Rank o MRR se define como la media de los RR's sobre un conjunto de queries."
   ]
  },
  {
   "cell_type": "code",
   "execution_count": 698,
   "id": "9435359c",
   "metadata": {},
   "outputs": [],
   "source": [
    "def calc_RR_por_consulta(qi_rels, qi_returned):\n",
    "    '''\n",
    "        Calcula  Reciprocal Rank para una consulta\n",
    "        Args:\n",
    "            qi_rels:urls  relvantes para la consulta i\n",
    "            qi_returned: urls  returned para la consulta i\n",
    "    '''\n",
    "    rr = 0 #in case no relevant doc is found in the ranking\n",
    "    qi_ranking = qi_returned.sort_values(by=['Posicion'])\n",
    "    \n",
    "    for i in range(len(qi_ranking)):\n",
    "        doc = qi_ranking.loc[qi_ranking['Posicion'] == i+1]\n",
    "        #print('doc[URL]ggg',  doc['URL'].values[0])\n",
    "    \n",
    "        if(doc['URL'].values[0] in qrels['URL'].values):#if relevant\n",
    "            rr = 1/doc['Posicion'].values[0]\n",
    "            break\n",
    "    return rr"
   ]
  },
  {
   "cell_type": "markdown",
   "id": "f8b7d7c3",
   "metadata": {},
   "source": [
    "## nDCG o normalized Discounted Cumulative Gain"
   ]
  },
  {
   "cell_type": "markdown",
   "id": "dcab2145",
   "metadata": {},
   "source": [
    "Definimos el **nDCG o normalized Discounted Cumulative Gain** como\n",
    "\n",
    "$$nDCG = \\frac{DCG}{iDCG} $$\n",
    "\n",
    "Siendo $$DCG = \\sum_{d_{k} \\in R} \\frac{ rel(d_{k})}{ \\log{k+1}} $$\n",
    "y\n",
    "$$ iDCG = \\max{DCG(q)}  $$ \n",
    "es decir, para una consulta dada, el máximo DCG posible según los ordenes de relevancia en el ranking."
   ]
  },
  {
   "cell_type": "code",
   "execution_count": 699,
   "id": "c49d0217",
   "metadata": {},
   "outputs": [],
   "source": [
    "def calc_nDCG(qi_rels_with_zeros, qi_returned):\n",
    "    '''Calcula nDCG = DCG/iDCG\n",
    "        Args:\n",
    "            qi_rels_with_zeros: urls relevantes \n",
    "            qi_returned: urls  returned para la consulta i\n",
    "    '''\n",
    "\n",
    "    relevancia = 0\n",
    "    dcg_values = [] \n",
    "    \n",
    "    qi_ranking = qi_returned.sort_values(by=['Posicion'])\n",
    "    intersection = pd.merge(qi_ranking, qi_rels_with_zeros, how='left', on=['URL'])\n",
    "    intersection = intersection.fillna(0)\n",
    "    #print('interseccion left join')\n",
    "    #print(intersection)\n",
    "    \n",
    "    #Calculing the iDCG: ideal DCG\n",
    "    rels = intersection['Nivel_de_acierto']\n",
    "    rels = rels.sort_values( ascending=False)\n",
    "    divisor = [np.log2(i+2) for i in range(len(rels.values)) ]#position+1 starting in 1\n",
    "    idcg_values = [i/j for i,j in zip(rels.values, divisor) ]\n",
    "    #print('idcg_values', idcg_values)\n",
    "    idcg = np.sum(idcg_values)\n",
    "    #print('idcg', idcg)\n",
    "\n",
    "    \n",
    "    #Calculing the DCG\n",
    "    for i in range(len(intersection)):\n",
    "        position = i+1\n",
    "        doc = intersection.loc[intersection['Posicion'] == position]\n",
    "        relevancia = doc['Nivel_de_acierto'].values[0]\n",
    "        dcg_values.append(relevancia / np.log2(position +1))\n",
    "           \n",
    "    dcg =  np.sum(dcg_values)\n",
    "    #print('dcg', dcg)\n",
    "\n",
    "    return dcg/idcg\n"
   ]
  },
  {
   "cell_type": "markdown",
   "id": "0cc87ccf",
   "metadata": {},
   "source": [
    "Caculamos el **RBP: Rank Biased Precision** como\n",
    "$$RBP = (1-p) \\sum_{d_{k} \\in R} p^{k-1} rel(d_{k}) $$\n",
    "\n",
    "Siendo p la probabilidad de pasar al documento siguiente, que es constante en todas las posiciones. 𝑝 establece la “agresividad” del descuento por posición.\n",
    "**Por defecto y decisión propia, para el cálculo de métrica, tomamos un valor p de:**"
   ]
  },
  {
   "cell_type": "code",
   "execution_count": 700,
   "id": "2394b971",
   "metadata": {},
   "outputs": [],
   "source": [
    "default_p = 0.1 #Escogemos este arbitrariamente para el calculo posterior automático de métricas"
   ]
  },
  {
   "cell_type": "code",
   "execution_count": 701,
   "id": "086cf5d4",
   "metadata": {},
   "outputs": [],
   "source": [
    "def calc_RBP(p, qi_rels_with_zeros, qi_returned):\n",
    "    \n",
    "    rbp_values = []\n",
    "    \n",
    "    qi_ranking = qi_returned.sort_values(by=['Posicion'])\n",
    "    intersection = pd.merge(qi_ranking, qi_rels_with_zeros, how='left', on=['URL'])\n",
    "    intersection = intersection.fillna(0)\n",
    "    #print('interseccion left join')\n",
    "    #print(intersection)\n",
    "    \n",
    "    #Calculing the RBP\n",
    "    for i in range(len(intersection)):\n",
    "        position = i+1\n",
    "        doc = intersection.loc[intersection['Posicion'] == position]\n",
    "        relevancia = doc['Nivel_de_acierto'].values[0]\n",
    "        rbp_values.append( (p**(position-1)) *relevancia )\n",
    "        \n",
    "    rbp = np.sum( rbp_values)\n",
    "    rbp = (1-p) * rbp # constant C= (1-p)\n",
    "    return rbp"
   ]
  },
  {
   "cell_type": "markdown",
   "id": "1ae0258e",
   "metadata": {},
   "source": [
    "Definimos funciones para la automatización del cálculo de las métricas anteriores. Primero una funcion que realice todos los calculos a nivel de buscador(esto es para cada consulta calculando las métricas y luego promediando dichas métricas entre el total de consultas), y luego una función que automatiza esta última para todos los buscadores, mostrando los resultados en forma de tabla comparativa más abajo."
   ]
  },
  {
   "cell_type": "code",
   "execution_count": 791,
   "id": "fa641e97",
   "metadata": {},
   "outputs": [],
   "source": [
    "\n",
    "#calc_metrics_por_buscador(qrels ,google , N_OF_QUERIES)\n",
    "def calc_metrics_por_buscador(qrels_with_zeros, qreturned_buscador, n_queries):\n",
    "    '''\n",
    "        Calcula Precision, Recall, media armonica , MRR,\n",
    "            por buscardor, promediando llamando a la funcion tantas veces \n",
    "            como consultas haya\n",
    "        Args:\n",
    "            qrels:relevantes devueltas por el buscador indexadas por query_id\n",
    "            qreturned_buscador:urls devueltas por el buscador indexadas por query_id\n",
    "            n_queries: num of queries\n",
    "        Return:\n",
    "            Métricas\n",
    "    '''\n",
    "    \n",
    "    precisions = []\n",
    "    recalls = []\n",
    "    m_armonicas = []\n",
    "    rr_s = []\n",
    "    n_dcgs = []\n",
    "    rbps = []\n",
    "    \n",
    "    qrels = qrels_with_zeros.drop(qrels_with_zeros[qrels_with_zeros.Nivel_de_acierto == 0].index)\n",
    "\n",
    "    for i in range(n_queries):\n",
    "        #Filtering by query id\n",
    "        qi_rels = qrels.loc[qrels['query_id'] == i]\n",
    "        qi_returned        = qreturned_buscador.loc[qreturned_buscador['query_id'] == i]\n",
    "        qi_rels_with_zeros = qrels_with_zeros.loc[qrels_with_zeros['query_id'] == i]\n",
    "        \n",
    "        #Metrics calc\n",
    "        preci, recall, armonica = calc_metrics_por_consulta(qi_rels['URL'], qi_returned)\n",
    "        rr = calc_RR_por_consulta(qi_rels['URL'], qi_returned)\n",
    "        n_dcg =  calc_nDCG(qi_rels_with_zeros, qi_returned)\n",
    "        rbp = calc_RBP(default_p, qi_rels_with_zeros, qi_returned)\n",
    "        \n",
    "        \n",
    "        precisions.append(preci )\n",
    "        recalls.append(recall )\n",
    "        m_armonicas.append(armonica)\n",
    "        rr_s.append(rr)\n",
    "        n_dcgs.append(n_dcg)\n",
    "        rbps.append(rbp)\n",
    "        \n",
    "    return np.average(precisions), np.average(recalls), np.average(m_armonicas), np.average(rr_s),np.average(n_dcgs), np.average(rbp)\n",
    "\n",
    "\n",
    "\n",
    "def calc_metrics_all_engines(engines,qrels_with_zeros, n_queries):\n",
    "    '''Calcula lás métricas de 'calc_metrics_por_buscador' para todos los motores de búsqueda de la\n",
    "        práctica'''\n",
    "        \n",
    "    df_metrics = pd.DataFrame(columns=['Engine', 'Precision', 'Recall',  'Harmonic Mean', 'MRR', 'nDCG', 'RBP'])\n",
    "  \n",
    "    for name,buscador in engines.items():\n",
    "        precision, recall, media_armonica, mrr, n_dcg, rbp = calc_metrics_por_buscador(qrels_with_zeros, buscador, n_queries)\n",
    "        df_metrics = df_metrics.append({'Engine': name, 'Precision':precision , 'Recall':recall,  'Harmonic Mean':media_armonica,\n",
    "                                        'MRR':mrr, 'nDCG':n_dcg, 'RBP':rbp}, ignore_index=True)\n",
    "        \n",
    "    return df_metrics"
   ]
  },
  {
   "cell_type": "markdown",
   "id": "0eb2a0e8",
   "metadata": {},
   "source": [
    "## Cálculo de las métricas."
   ]
  },
  {
   "cell_type": "code",
   "execution_count": 792,
   "id": "86b7a62f",
   "metadata": {},
   "outputs": [],
   "source": [
    "\n",
    "metrics = calc_metrics_all_engines(engines,qrels_with_zeros, N_OF_QUERIES)"
   ]
  },
  {
   "cell_type": "code",
   "execution_count": 793,
   "id": "fb059c0e",
   "metadata": {},
   "outputs": [
    {
     "data": {
      "text/html": [
       "<div>\n",
       "<style scoped>\n",
       "    .dataframe tbody tr th:only-of-type {\n",
       "        vertical-align: middle;\n",
       "    }\n",
       "\n",
       "    .dataframe tbody tr th {\n",
       "        vertical-align: top;\n",
       "    }\n",
       "\n",
       "    .dataframe thead th {\n",
       "        text-align: right;\n",
       "    }\n",
       "</style>\n",
       "<table border=\"1\" class=\"dataframe\">\n",
       "  <thead>\n",
       "    <tr style=\"text-align: right;\">\n",
       "      <th></th>\n",
       "      <th>Engine</th>\n",
       "      <th>Precision</th>\n",
       "      <th>Recall</th>\n",
       "      <th>Harmonic Mean</th>\n",
       "      <th>MRR</th>\n",
       "      <th>nDCG</th>\n",
       "      <th>RBP</th>\n",
       "    </tr>\n",
       "  </thead>\n",
       "  <tbody>\n",
       "    <tr>\n",
       "      <th>0</th>\n",
       "      <td>google</td>\n",
       "      <td>0.76</td>\n",
       "      <td>0.425876316</td>\n",
       "      <td>0.536532336</td>\n",
       "      <td>1.000000000</td>\n",
       "      <td>0.931842352</td>\n",
       "      <td>1.999999909</td>\n",
       "    </tr>\n",
       "    <tr>\n",
       "      <th>1</th>\n",
       "      <td>bing</td>\n",
       "      <td>0.70</td>\n",
       "      <td>0.387783412</td>\n",
       "      <td>0.490658442</td>\n",
       "      <td>0.850000000</td>\n",
       "      <td>0.864971908</td>\n",
       "      <td>1.999999899</td>\n",
       "    </tr>\n",
       "    <tr>\n",
       "      <th>2</th>\n",
       "      <td>yandex</td>\n",
       "      <td>0.59</td>\n",
       "      <td>0.320069263</td>\n",
       "      <td>0.408761961</td>\n",
       "      <td>0.866666667</td>\n",
       "      <td>0.839788963</td>\n",
       "      <td>1.999800000</td>\n",
       "    </tr>\n",
       "    <tr>\n",
       "      <th>3</th>\n",
       "      <td>duck</td>\n",
       "      <td>0.73</td>\n",
       "      <td>0.420005634</td>\n",
       "      <td>0.522685189</td>\n",
       "      <td>0.933333333</td>\n",
       "      <td>0.890582403</td>\n",
       "      <td>1.999999899</td>\n",
       "    </tr>\n",
       "  </tbody>\n",
       "</table>\n",
       "</div>"
      ],
      "text/plain": [
       "   Engine  Precision       Recall  Harmonic Mean          MRR         nDCG  \\\n",
       "0  google       0.76  0.425876316    0.536532336  1.000000000  0.931842352   \n",
       "1    bing       0.70  0.387783412    0.490658442  0.850000000  0.864971908   \n",
       "2  yandex       0.59  0.320069263    0.408761961  0.866666667  0.839788963   \n",
       "3    duck       0.73  0.420005634    0.522685189  0.933333333  0.890582403   \n",
       "\n",
       "           RBP  \n",
       "0  1.999999909  \n",
       "1  1.999999899  \n",
       "2  1.999800000  \n",
       "3  1.999999899  "
      ]
     },
     "execution_count": 793,
     "metadata": {},
     "output_type": "execute_result"
    }
   ],
   "source": [
    "metrics\n",
    "#metrics.loc[metrics['Engine'] == 'google']"
   ]
  },
  {
   "cell_type": "markdown",
   "id": "b9296c76",
   "metadata": {},
   "source": [
    "# Comprobación de resultados con librería externa\n",
    "\n",
    "Testeamos los resultados por buscador. Para ello creamos un dataframe pandas en formato de entrada de la librería. \n",
    "\n",
    "**Librería de validación usada: ir_measures:** *https://github.com/terrierteam/ir_measures*\n",
    "\n",
    "*Lás métricas disponibles se pueden econtrar en https://ir-measur.es/en/latest/measures.html*, aunque RBP no está soportado en la versión actual por la librería ir_measures."
   ]
  },
  {
   "cell_type": "code",
   "execution_count": 705,
   "id": "e820cbf2",
   "metadata": {},
   "outputs": [],
   "source": [
    "import ir_measures \n",
    "from ir_measures import *"
   ]
  },
  {
   "cell_type": "markdown",
   "id": "3afaf0cd",
   "metadata": {},
   "source": [
    "## **Transformamos los datos al formato de entrada de la librería**\n",
    "*Dado que en formato dataframe no nos lo acepta, transformamos las entradas a formato de diccionario*"
   ]
  },
  {
   "cell_type": "markdown",
   "id": "70b3071e",
   "metadata": {},
   "source": [
    "### Creando  la entrada  qrels(dict)"
   ]
  },
  {
   "cell_type": "code",
   "execution_count": 707,
   "id": "663fe8c8",
   "metadata": {},
   "outputs": [
    {
     "data": {
      "text/html": [
       "<div>\n",
       "<style scoped>\n",
       "    .dataframe tbody tr th:only-of-type {\n",
       "        vertical-align: middle;\n",
       "    }\n",
       "\n",
       "    .dataframe tbody tr th {\n",
       "        vertical-align: top;\n",
       "    }\n",
       "\n",
       "    .dataframe thead th {\n",
       "        text-align: right;\n",
       "    }\n",
       "</style>\n",
       "<table border=\"1\" class=\"dataframe\">\n",
       "  <thead>\n",
       "    <tr style=\"text-align: right;\">\n",
       "      <th></th>\n",
       "      <th>query_id</th>\n",
       "      <th>doc_id</th>\n",
       "      <th>relevance</th>\n",
       "    </tr>\n",
       "  </thead>\n",
       "  <tbody>\n",
       "    <tr>\n",
       "      <th>0</th>\n",
       "      <td>0</td>\n",
       "      <td>http://ciir-publications.cs.umass.edu/getpdf.p...</td>\n",
       "      <td>0</td>\n",
       "    </tr>\n",
       "    <tr>\n",
       "      <th>1</th>\n",
       "      <td>0</td>\n",
       "      <td>http://citeseerx.ist.psu.edu/viewdoc/download?...</td>\n",
       "      <td>0</td>\n",
       "    </tr>\n",
       "    <tr>\n",
       "      <th>2</th>\n",
       "      <td>0</td>\n",
       "      <td>http://citeseerx.ist.psu.edu/viewdoc/summary?d...</td>\n",
       "      <td>2</td>\n",
       "    </tr>\n",
       "    <tr>\n",
       "      <th>3</th>\n",
       "      <td>0</td>\n",
       "      <td>http://dictionary.reference.com/browse/informa...</td>\n",
       "      <td>0</td>\n",
       "    </tr>\n",
       "    <tr>\n",
       "      <th>4</th>\n",
       "      <td>0</td>\n",
       "      <td>http://dl.acm.org/citation.cfm?id=2499178</td>\n",
       "      <td>0</td>\n",
       "    </tr>\n",
       "  </tbody>\n",
       "</table>\n",
       "</div>"
      ],
      "text/plain": [
       "   query_id                                             doc_id  relevance\n",
       "0         0  http://ciir-publications.cs.umass.edu/getpdf.p...          0\n",
       "1         0  http://citeseerx.ist.psu.edu/viewdoc/download?...          0\n",
       "2         0  http://citeseerx.ist.psu.edu/viewdoc/summary?d...          2\n",
       "3         0  http://dictionary.reference.com/browse/informa...          0\n",
       "4         0          http://dl.acm.org/citation.cfm?id=2499178          0"
      ]
     },
     "execution_count": 707,
     "metadata": {},
     "output_type": "execute_result"
    }
   ],
   "source": [
    "#qrels with relevants docs\n",
    "qrels_check = qrels_with_zeros[['query_id', 'URL', 'Nivel_de_acierto']]\n",
    "qrels_check = qrels_check.rename(columns={\"URL\": \"doc_id\", \"Nivel_de_acierto\": \"relevance\"})\n",
    "qrels_check.head()"
   ]
  },
  {
   "cell_type": "code",
   "execution_count": 767,
   "id": "1d1b3867",
   "metadata": {},
   "outputs": [],
   "source": [
    "#Create run dictionary with the scores per query id for ONE SEARCH ENGINE\n",
    "qrels_dict = {}\n",
    "for qi in range(N_OF_QUERIES):\n",
    "    d = {k: int(v) for (k, v) in zip(qrels_check.loc[qrels_check['query_id'] == qi]['doc_id'].values, qrels_check.loc[qrels_check['query_id'] == qi]['relevance'].values )}\n",
    "    string = 'Q' + str(qi)\n",
    "    qrels_dict[string] = d\n",
    "#qrels_dict"
   ]
  },
  {
   "cell_type": "markdown",
   "id": "a2d42c08",
   "metadata": {},
   "source": [
    "### Creando la entrada   run(dict) para CADA MOTOR de búsqueda"
   ]
  },
  {
   "cell_type": "code",
   "execution_count": 718,
   "id": "07ea4d3f",
   "metadata": {},
   "outputs": [
    {
     "data": {
      "text/html": [
       "<div>\n",
       "<style scoped>\n",
       "    .dataframe tbody tr th:only-of-type {\n",
       "        vertical-align: middle;\n",
       "    }\n",
       "\n",
       "    .dataframe tbody tr th {\n",
       "        vertical-align: top;\n",
       "    }\n",
       "\n",
       "    .dataframe thead th {\n",
       "        text-align: right;\n",
       "    }\n",
       "</style>\n",
       "<table border=\"1\" class=\"dataframe\">\n",
       "  <thead>\n",
       "    <tr style=\"text-align: right;\">\n",
       "      <th></th>\n",
       "      <th>query_id</th>\n",
       "      <th>doc_id</th>\n",
       "      <th>score</th>\n",
       "    </tr>\n",
       "  </thead>\n",
       "  <tbody>\n",
       "    <tr>\n",
       "      <th>0</th>\n",
       "      <td>0</td>\n",
       "      <td>http://www.cs.cmu.edu/~aberger/proposal.ps</td>\n",
       "      <td>10</td>\n",
       "    </tr>\n",
       "    <tr>\n",
       "      <th>1</th>\n",
       "      <td>0</td>\n",
       "      <td>http://ictir2015.org</td>\n",
       "      <td>9</td>\n",
       "    </tr>\n",
       "    <tr>\n",
       "      <th>2</th>\n",
       "      <td>0</td>\n",
       "      <td>https://en.wikipedia.org/wiki/Information_retr...</td>\n",
       "      <td>8</td>\n",
       "    </tr>\n",
       "    <tr>\n",
       "      <th>3</th>\n",
       "      <td>0</td>\n",
       "      <td>http://onlinelibrary.wiley.com/doi/10.1002/asi...</td>\n",
       "      <td>7</td>\n",
       "    </tr>\n",
       "    <tr>\n",
       "      <th>4</th>\n",
       "      <td>0</td>\n",
       "      <td>http://web4.cs.ucl.ac.uk/staff/jun.wang/papers...</td>\n",
       "      <td>6</td>\n",
       "    </tr>\n",
       "  </tbody>\n",
       "</table>\n",
       "</div>"
      ],
      "text/plain": [
       "   query_id                                             doc_id  score\n",
       "0         0         http://www.cs.cmu.edu/~aberger/proposal.ps     10\n",
       "1         0                               http://ictir2015.org      9\n",
       "2         0  https://en.wikipedia.org/wiki/Information_retr...      8\n",
       "3         0  http://onlinelibrary.wiley.com/doi/10.1002/asi...      7\n",
       "4         0  http://web4.cs.ucl.ac.uk/staff/jun.wang/papers...      6"
      ]
     },
     "execution_count": 718,
     "metadata": {},
     "output_type": "execute_result"
    }
   ],
   "source": [
    "#runs with rank for each query\n",
    "\n",
    "google_run = google[['query_id','URL', 'Score']]\n",
    "google_run = google_run.rename(columns={\"URL\": \"doc_id\", \"Score\": \"score\"})\n",
    "google_run.head()"
   ]
  },
  {
   "cell_type": "code",
   "execution_count": 720,
   "id": "43c165e8",
   "metadata": {},
   "outputs": [],
   "source": [
    "#Create run dictionary with the scores per query id for ONE SEARCH ENGINE\n",
    "run_dict_google = {}\n",
    "for qi in range(N_OF_QUERIES):\n",
    "    d = {k: int(v) for (k, v) in zip(google_run.loc[google_run['query_id'] == qi]['doc_id'].values, google_run.loc[google_run['query_id'] == qi]['score'].values )}\n",
    "    string = 'Q' + str(qi)\n",
    "    run_dict_google[string] = d\n",
    "#run_dict_google"
   ]
  },
  {
   "cell_type": "markdown",
   "id": "6a7c218c",
   "metadata": {},
   "source": [
    "Repetimos el proceso para los otros 3 motores:\n"
   ]
  },
  {
   "cell_type": "code",
   "execution_count": 762,
   "id": "a61876ea",
   "metadata": {},
   "outputs": [],
   "source": [
    "#runs with rank for each query\n",
    "bing_run = bing[['query_id','URL', 'Score']]\n",
    "bing_run = bing_run.rename(columns={\"URL\": \"doc_id\", \"Score\": \"score\"})\n",
    "bing_run.head()\n",
    "\n",
    "#Create run dictionary with the scores per query id for ONE SEARCH ENGINE\n",
    "run_dict_bing = {}\n",
    "for qi in range(N_OF_QUERIES):\n",
    "    d = {k: int(v) for (k, v) in zip(bing_run.loc[bing_run['query_id'] == qi]['doc_id'].values, bing_run.loc[bing_run['query_id'] == qi]['score'].values )}\n",
    "    string = 'Q' + str(qi)\n",
    "    run_dict_bing[string] = d\n",
    "#run_dict_bing"
   ]
  },
  {
   "cell_type": "code",
   "execution_count": 763,
   "id": "5b1f7f03",
   "metadata": {},
   "outputs": [],
   "source": [
    "#runs with rank for each query\n",
    "yandex_run = yandex[['query_id','URL', 'Score']]\n",
    "yandex_run = yandex_run.rename(columns={\"URL\": \"doc_id\", \"Score\": \"score\"})\n",
    "yandex_run.head()\n",
    "\n",
    "#Create run dictionary with the scores per query id for ONE SEARCH ENGINE\n",
    "run_dict_yandex = {}\n",
    "for qi in range(N_OF_QUERIES):\n",
    "    d = {k: int(v) for (k, v) in zip(yandex_run.loc[yandex_run['query_id'] == qi]['doc_id'].values, yandex_run.loc[yandex_run['query_id'] == qi]['score'].values )}\n",
    "    string = 'Q' + str(qi)\n",
    "    run_dict_yandex[string] = d\n",
    "#run_dict_yandex"
   ]
  },
  {
   "cell_type": "code",
   "execution_count": 764,
   "id": "cd2ce7fc",
   "metadata": {},
   "outputs": [],
   "source": [
    "#runs with rank for each query\n",
    "duck_run = duck[['query_id','URL', 'Score']]\n",
    "duck_run = duck_run.rename(columns={\"URL\": \"doc_id\", \"Score\": \"score\"})\n",
    "duck_run.head()\n",
    "\n",
    "#Create run dictionary with the scores per query id for ONE SEARCH ENGINE\n",
    "run_dict_duck = {}\n",
    "for qi in range(N_OF_QUERIES):\n",
    "    d = {k: int(v) for (k, v) in zip(duck_run.loc[duck_run['query_id'] == qi]['doc_id'].values, duck_run.loc[duck_run['query_id'] == qi]['score'].values )}\n",
    "    string = 'Q' + str(qi)\n",
    "    run_dict_duck[string] = d\n",
    "#run_dict_duck"
   ]
  },
  {
   "cell_type": "code",
   "execution_count": 811,
   "id": "4497100b",
   "metadata": {},
   "outputs": [
    {
     "name": "stdout",
     "output_type": "stream",
     "text": [
      "Google {R@10: 0.4199939631024824, P@10: 0.75, RR: 1.0}\n",
      "Bing {R@10: 0.3877834122154609, P@10: 0.7, RR: 0.85}\n",
      "Yandex {R@10: 0.31340259667085224, P@10: 0.5800000000000001, RR: 0.8666666666666668}\n",
      "Duck {R@10: 0.415005634437683, P@10: 0.7200000000000001, RR: 0.95}\n"
     ]
    }
   ],
   "source": [
    "#RBP Unsuported measure!!\n",
    "#ir_measures.calc_aggregate([ P@10,R@10, RR@10, ,nDCG@10 ], qrels_dict_google, run_dict_google)\n",
    "\n",
    "print('Google',ir_measures.calc_aggregate([ P@10,R@10, RR ], qrels_dict, run_dict_google) )\n",
    "print('Bing',ir_measures.calc_aggregate([ P@10,R@10, RR ], qrels_dict, run_dict_bing) )\n",
    "print('Yandex',ir_measures.calc_aggregate([ P@10,R@10, RR  ], qrels_dict, run_dict_yandex) )\n",
    "print('Duck',ir_measures.calc_aggregate([ P@10,R@10, RR ],  qrels_dict, run_dict_duck) )\n",
    "\n",
    "\n"
   ]
  },
  {
   "cell_type": "markdown",
   "id": "686c91dd",
   "metadata": {},
   "source": [
    "**Vemos como Precision, Recall y ReciprocalRank(MeanRR) nos coinciden en valores**\n",
    ". Dado que Precision y Recall nos coinciden, **también coincide por definición la média armónica.**\n",
    "\n",
    "Paara el caso de **nDCG**, dado que nuestra implementación es distinta a la proporcionada por la librería,que no tiene en cuenta la relevancia, además de que otros términos son ligeramente distintos, no nos dan resultados similares como es lógico, y por tanto no podemos usarla para validar. \n",
    "\n",
    "*El nDCG implementado por la librería puede encontrarse en el artículo doi.org/10.1145/582415.582418*\n",
    "\n",
    "Para el caso de **RBP**, nos sucede algo similar, la versión actual de la herramienta produce error de \"metrica no soportada\" cuando llamamos a la librería. Por tanto no podemos usarla para validar nuestra implementación.\n",
    "\n",
    "Sin embargo, para validarlas hemos comprobado para cada query_id=0, los cálculos manuales, para **validar** la implementación de estas dos últimas métricas **nDCG y RBP, con resultados satisfactorios.**"
   ]
  },
  {
   "cell_type": "markdown",
   "id": "6b570967",
   "metadata": {},
   "source": [
    "# Análisis de resultados"
   ]
  },
  {
   "cell_type": "code",
   "execution_count": 812,
   "id": "01f0f331",
   "metadata": {},
   "outputs": [
    {
     "data": {
      "text/html": [
       "<div>\n",
       "<style scoped>\n",
       "    .dataframe tbody tr th:only-of-type {\n",
       "        vertical-align: middle;\n",
       "    }\n",
       "\n",
       "    .dataframe tbody tr th {\n",
       "        vertical-align: top;\n",
       "    }\n",
       "\n",
       "    .dataframe thead th {\n",
       "        text-align: right;\n",
       "    }\n",
       "</style>\n",
       "<table border=\"1\" class=\"dataframe\">\n",
       "  <thead>\n",
       "    <tr style=\"text-align: right;\">\n",
       "      <th></th>\n",
       "      <th>Engine</th>\n",
       "      <th>Precision</th>\n",
       "      <th>Recall</th>\n",
       "      <th>Harmonic Mean</th>\n",
       "      <th>MRR</th>\n",
       "      <th>nDCG</th>\n",
       "      <th>RBP</th>\n",
       "    </tr>\n",
       "  </thead>\n",
       "  <tbody>\n",
       "    <tr>\n",
       "      <th>0</th>\n",
       "      <td>google</td>\n",
       "      <td>0.76</td>\n",
       "      <td>0.425876316</td>\n",
       "      <td>0.536532336</td>\n",
       "      <td>1.000000000</td>\n",
       "      <td>0.931842352</td>\n",
       "      <td>1.999999909</td>\n",
       "    </tr>\n",
       "    <tr>\n",
       "      <th>1</th>\n",
       "      <td>bing</td>\n",
       "      <td>0.70</td>\n",
       "      <td>0.387783412</td>\n",
       "      <td>0.490658442</td>\n",
       "      <td>0.850000000</td>\n",
       "      <td>0.864971908</td>\n",
       "      <td>1.999999899</td>\n",
       "    </tr>\n",
       "    <tr>\n",
       "      <th>2</th>\n",
       "      <td>yandex</td>\n",
       "      <td>0.59</td>\n",
       "      <td>0.320069263</td>\n",
       "      <td>0.408761961</td>\n",
       "      <td>0.866666667</td>\n",
       "      <td>0.839788963</td>\n",
       "      <td>1.999800000</td>\n",
       "    </tr>\n",
       "    <tr>\n",
       "      <th>3</th>\n",
       "      <td>duck</td>\n",
       "      <td>0.73</td>\n",
       "      <td>0.420005634</td>\n",
       "      <td>0.522685189</td>\n",
       "      <td>0.933333333</td>\n",
       "      <td>0.890582403</td>\n",
       "      <td>1.999999899</td>\n",
       "    </tr>\n",
       "  </tbody>\n",
       "</table>\n",
       "</div>"
      ],
      "text/plain": [
       "   Engine  Precision       Recall  Harmonic Mean          MRR         nDCG  \\\n",
       "0  google       0.76  0.425876316    0.536532336  1.000000000  0.931842352   \n",
       "1    bing       0.70  0.387783412    0.490658442  0.850000000  0.864971908   \n",
       "2  yandex       0.59  0.320069263    0.408761961  0.866666667  0.839788963   \n",
       "3    duck       0.73  0.420005634    0.522685189  0.933333333  0.890582403   \n",
       "\n",
       "           RBP  \n",
       "0  1.999999909  \n",
       "1  1.999999899  \n",
       "2  1.999800000  \n",
       "3  1.999999899  "
      ]
     },
     "execution_count": 812,
     "metadata": {},
     "output_type": "execute_result"
    }
   ],
   "source": [
    "metrics"
   ]
  },
  {
   "cell_type": "markdown",
   "id": "f71e8bb9",
   "metadata": {},
   "source": [
    "De manera global vemos como todas las métricas vienen a comportarse de manera similar en todos los buscadores, como vemos a continuación, sin tener ninguna de ellas ningún comportamiento anómalo aparente a primera vista:"
   ]
  },
  {
   "cell_type": "code",
   "execution_count": 823,
   "id": "d96cb14d",
   "metadata": {},
   "outputs": [
    {
     "data": {
      "text/plain": [
       "<AxesSubplot:xlabel='Engine'>"
      ]
     },
     "execution_count": 823,
     "metadata": {},
     "output_type": "execute_result"
    },
    {
     "data": {
      "image/png": "[encoded data removed]",
      "text/plain": [
       "<Figure size 432x288 with 1 Axes>"
      ]
     },
     "metadata": {
      "needs_background": "light"
     },
     "output_type": "display_data"
    }
   ],
   "source": [
    "metrics.plot.bar(x='Engine', )"
   ]
  },
  {
   "cell_type": "markdown",
   "id": "b7b440e9",
   "metadata": {},
   "source": [
    "### Precision\n",
    "Vemos como el Yandex es el buscador que peor se comporta mostrando probabilisticamente hablando, cosas más irrelevantes."
   ]
  },
  {
   "cell_type": "code",
   "execution_count": 852,
   "id": "dbaabe0f",
   "metadata": {},
   "outputs": [
    {
     "data": {
      "text/plain": [
       "<AxesSubplot:xlabel='Engine'>"
      ]
     },
     "execution_count": 852,
     "metadata": {},
     "output_type": "execute_result"
    },
    {
     "data": {
      "image/png": "[encoded data removed]",
      "text/plain": [
       "<Figure size 432x288 with 1 Axes>"
      ]
     },
     "metadata": {
      "needs_background": "light"
     },
     "output_type": "display_data"
    }
   ],
   "source": [
    "metrics.plot.bar(x='Engine', y ='Precision',color = 'blue')"
   ]
  },
  {
   "cell_type": "markdown",
   "id": "42681411",
   "metadata": {},
   "source": [
    "### Recall\n",
    "De nuevo pierde Yandex,seguido de Bing de nuevo. Vemos como Yandex también es el buscador que más cosas pierde probabilísticamente hablando."
   ]
  },
  {
   "cell_type": "code",
   "execution_count": 853,
   "id": "7725f90a",
   "metadata": {},
   "outputs": [
    {
     "data": {
      "text/plain": [
       "<AxesSubplot:xlabel='Engine'>"
      ]
     },
     "execution_count": 853,
     "metadata": {},
     "output_type": "execute_result"
    },
    {
     "data": {
      "image/png": "[encoded data removed]",
      "text/plain": [
       "<Figure size 432x288 with 1 Axes>"
      ]
     },
     "metadata": {
      "needs_background": "light"
     },
     "output_type": "display_data"
    }
   ],
   "source": [
    "metrics.plot.bar(x='Engine', y ='Recall',color = 'orange')"
   ]
  },
  {
   "cell_type": "markdown",
   "id": "d0051665",
   "metadata": {},
   "source": [
    "### Media Armónica:\n",
    "Siendo un balance entre Precision y Recall, como para ambas teníamos el mismo ranking de motores, Yandex sigue siendo el perdedor aquí."
   ]
  },
  {
   "cell_type": "code",
   "execution_count": 854,
   "id": "477950d3",
   "metadata": {},
   "outputs": [
    {
     "data": {
      "text/plain": [
       "<AxesSubplot:xlabel='Engine'>"
      ]
     },
     "execution_count": 854,
     "metadata": {},
     "output_type": "execute_result"
    },
    {
     "data": {
      "image/png": "[encoded data removed]",
      "text/plain": [
       "<Figure size 432x288 with 1 Axes>"
      ]
     },
     "metadata": {
      "needs_background": "light"
     },
     "output_type": "display_data"
    }
   ],
   "source": [
    "metrics.plot.bar(x='Engine', y ='Harmonic Mean',color = 'green')"
   ]
  },
  {
   "cell_type": "markdown",
   "id": "2516c8ea",
   "metadata": {},
   "source": [
    "### MRR:\n",
    "Vemos como de alto publican los buscadores el resultado más relevante. De nuevo Google sigue siendo el mejor en todos los rankins con un valor máximo de 1, seguido sorprendentemente de DuckDcukGo, quedando por encima de Bing.\n",
    "Yandex de nuevo es el buscador que peor se comporta bajo esta métrica de media."
   ]
  },
  {
   "cell_type": "code",
   "execution_count": 855,
   "id": "60b969f9",
   "metadata": {},
   "outputs": [
    {
     "data": {
      "text/plain": [
       "<AxesSubplot:xlabel='Engine'>"
      ]
     },
     "execution_count": 855,
     "metadata": {},
     "output_type": "execute_result"
    },
    {
     "data": {
      "image/png": "[encoded data removed]",
      "text/plain": [
       "<Figure size 432x288 with 1 Axes>"
      ]
     },
     "metadata": {
      "needs_background": "light"
     },
     "output_type": "display_data"
    }
   ],
   "source": [
    "metrics.plot.bar(x='Engine', y ='MRR',color = 'red')"
   ]
  },
  {
   "cell_type": "markdown",
   "id": "f4099bb3",
   "metadata": {},
   "source": [
    "### nDCG \n",
    "Podemos interpretar nDCG como 'la utilidad a esperar' del usuario que sigue un modelo en cascada de clickado en el ranking mostrado de resultados, formalizado de una manera probabilística.\n",
    "\n",
    "Vemos como Duck supera a Bing de nuevo, siguiendo Google como ganador y Yandex como perdedor."
   ]
  },
  {
   "cell_type": "code",
   "execution_count": 856,
   "id": "b041738f",
   "metadata": {},
   "outputs": [
    {
     "data": {
      "text/plain": [
       "<AxesSubplot:xlabel='Engine'>"
      ]
     },
     "execution_count": 856,
     "metadata": {},
     "output_type": "execute_result"
    },
    {
     "data": {
      "image/png": "[encoded data removed]",
      "text/plain": [
       "<Figure size 432x288 with 1 Axes>"
      ]
     },
     "metadata": {
      "needs_background": "light"
     },
     "output_type": "display_data"
    }
   ],
   "source": [
    "metrics.plot.bar(x='Engine', y ='nDCG',color = 'purple')"
   ]
  },
  {
   "cell_type": "markdown",
   "id": "2c29b428",
   "metadata": {},
   "source": [
    "### RBP \n",
    "Considerando el uso de funciones de utilidad, con p = 0.1 todos los buscadores se comportan de modo similar."
   ]
  },
  {
   "cell_type": "code",
   "execution_count": 857,
   "id": "d2d1a4c3",
   "metadata": {},
   "outputs": [
    {
     "data": {
      "text/plain": [
       "<AxesSubplot:xlabel='Engine'>"
      ]
     },
     "execution_count": 857,
     "metadata": {},
     "output_type": "execute_result"
    },
    {
     "data": {
      "image/png": "[encoded data removed]",
      "text/plain": [
       "<Figure size 432x288 with 1 Axes>"
      ]
     },
     "metadata": {
      "needs_background": "light"
     },
     "output_type": "display_data"
    }
   ],
   "source": [
    "metrics.plot.bar(x='Engine', y ='RBP',color = 'brown')"
   ]
  },
  {
   "cell_type": "markdown",
   "id": "c02c7c23",
   "metadata": {},
   "source": [
    "**Probamos ahora con valores de p más agresivos: 0.25,0.5 y 0.75:**"
   ]
  },
  {
   "cell_type": "code",
   "execution_count": 860,
   "id": "fb063346",
   "metadata": {},
   "outputs": [
    {
     "data": {
      "text/plain": [
       "<AxesSubplot:xlabel='Engine'>"
      ]
     },
     "execution_count": 860,
     "metadata": {},
     "output_type": "execute_result"
    },
    {
     "data": {
      "image/png": "[encoded data removed]",
      "text/plain": [
       "<Figure size 432x288 with 1 Axes>"
      ]
     },
     "metadata": {
      "needs_background": "light"
     },
     "output_type": "display_data"
    }
   ],
   "source": [
    "default_p = 0.25 #Escogemos este arbitrariamente para el calculo posterior automático de métricas\n",
    "metrics_p_0_25 = calc_metrics_all_engines(engines,qrels_with_zeros, N_OF_QUERIES)\n",
    "metrics_p_0_25.plot.bar(x='Engine', y ='RBP',color = 'brown')"
   ]
  },
  {
   "cell_type": "code",
   "execution_count": 861,
   "id": "792a6bae",
   "metadata": {},
   "outputs": [
    {
     "data": {
      "text/plain": [
       "<AxesSubplot:xlabel='Engine'>"
      ]
     },
     "execution_count": 861,
     "metadata": {},
     "output_type": "execute_result"
    },
    {
     "data": {
      "image/png": "[encoded data removed]",
      "text/plain": [
       "<Figure size 432x288 with 1 Axes>"
      ]
     },
     "metadata": {
      "needs_background": "light"
     },
     "output_type": "display_data"
    }
   ],
   "source": [
    "default_p = 0.5 #Escogemos este arbitrariamente para el calculo posterior automático de métricas\n",
    "metrics_p_0_5 = calc_metrics_all_engines(engines,qrels_with_zeros, N_OF_QUERIES)\n",
    "metrics_p_0_5.plot.bar(x='Engine', y ='RBP',color = 'brown')"
   ]
  },
  {
   "cell_type": "code",
   "execution_count": 862,
   "id": "952fdcb0",
   "metadata": {},
   "outputs": [
    {
     "data": {
      "text/plain": [
       "<AxesSubplot:xlabel='Engine'>"
      ]
     },
     "execution_count": 862,
     "metadata": {},
     "output_type": "execute_result"
    },
    {
     "data": {
      "image/png": "[encoded data removed]",
      "text/plain": [
       "<Figure size 432x288 with 1 Axes>"
      ]
     },
     "metadata": {
      "needs_background": "light"
     },
     "output_type": "display_data"
    }
   ],
   "source": [
    "default_p = 0.75 #Escogemos este arbitrariamente para el calculo posterior automático de métricas\n",
    "metrics_p_0_75 = calc_metrics_all_engines(engines,qrels_with_zeros, N_OF_QUERIES)\n",
    "metrics_p_0_75.plot.bar(x='Engine', y ='RBP',color = 'brown')"
   ]
  },
  {
   "cell_type": "markdown",
   "id": "80ea85cf",
   "metadata": {},
   "source": [
    "**Notamos una diferencia únicamente con un valor de p alto, que pondere al 75% la relevancia de cada documento (siedo 1-p una cte. de normalización)**\n",
    "\n",
    "En este caso google sale ligeramente el mejor parado, aunque Bing y DuckDuckGo obtienen resultados MUY similares. Yandex en cambio es el primero en \"desplomarse\" y quedar ante la última métrica como el peor."
   ]
  },
  {
   "cell_type": "markdown",
   "id": "2780c587",
   "metadata": {},
   "source": [
    "# Conclusiones\n",
    "\n",
    "Vemos como para todas las métricas de calidad mediante juicios de relvancia, Google se posiciona como el buscador por excelencia. Seguido por Bing o DuckDuckGo, según la métrica evaluada, aunque en general con resultados parecidos a Google. Yandex en cambio, por su parte, queda último en la totaldad de métricas, declarándose como el peor buscador de entre los 4 comparados, de acuerdo a la relevancia de los resultados que arroja. **Tal vez esto se deba a que es un buscador ruso, y tenga menos documentos en español que sus competidores, y además se desempeñe mejor, o relegue un parte de esa mejora de funcionamiento, a trabajar sobre un alfabeto distinto como es el alfabeto cirílico.**"
   ]
  },
  {
   "cell_type": "markdown",
   "id": "85a679c6",
   "metadata": {},
   "source": [
    "-----------------"
   ]
  },
  {
   "cell_type": "markdown",
   "id": "76688f3d",
   "metadata": {},
   "source": [
    "# PARTE 2: Métricas de Negocio\n",
    "En primer lugar, comenzamos cargado los archivos derivados del simulador de comportamiento de usuarios frente a nuestros resultado de búsqueda"
   ]
  },
  {
   "cell_type": "code",
   "execution_count": 6,
   "id": "73b9361f",
   "metadata": {},
   "outputs": [],
   "source": [
    "import matplotlib.pyplot as plt"
   ]
  },
  {
   "cell_type": "code",
   "execution_count": 7,
   "id": "f5f5ccbd",
   "metadata": {},
   "outputs": [],
   "source": [
    "# Cargamos los archivos generados y eliminamos los clicks de los buscadores intercalados\n",
    "click_log = pd.read_csv('engagement-log.txt', sep = \"\\t\")\n",
    "impresion = pd.read_csv('impressions.txt', sep = '\\t')\n",
    "\n",
    "click_log = click_log[click_log.system != 'google+bing']\n",
    "impresion = impresion[impresion.system != 'google+bing']"
   ]
  },
  {
   "cell_type": "code",
   "execution_count": 8,
   "id": "923626ad",
   "metadata": {},
   "outputs": [
    {
     "name": "stdout",
     "output_type": "stream",
     "text": [
      "¿Existen valores nulos?: \n",
      " system       False\n",
      "timestamp    False\n",
      "ip           False\n",
      "qid          False\n",
      "pos          False\n",
      "docid        False\n",
      "click        False\n",
      "purchase     False\n",
      "dtype: bool\n",
      "¿Existen valores nulos?: \n",
      " system       False\n",
      "timestamp    False\n",
      "ip           False\n",
      "qid          False\n",
      "dtype: bool\n"
     ]
    }
   ],
   "source": [
    "# Comprobamos que nuestros dfs estén completos\n",
    "print(\"¿Existen valores nulos?: \\n\",click_log.isnull().any())\n",
    "\n",
    "print(\"¿Existen valores nulos?: \\n\",impresion.isnull().any())"
   ]
  },
  {
   "cell_type": "markdown",
   "id": "526a6edf",
   "metadata": {},
   "source": [
    "## Click por consulta\n",
    "\n",
    "Definimos click por búsqueda como el número de clicks registrados por cada consulta, por buscador. "
   ]
  },
  {
   "cell_type": "code",
   "execution_count": 10,
   "id": "fbaf059a",
   "metadata": {},
   "outputs": [],
   "source": [
    "# Para ello, agrupamos por buscador y contamos los clicks por consulta y buscador. \n",
    "# Una vez agrupados, calculamos la media de los click por buscador\n",
    "\n",
    "cpc = click_log.groupby(by = [\"system\",\"qid\"])[\"click\"].count()\n",
    "cpc = cpc.groupby([\"system\"]).mean()\n",
    "# print(cpc)"
   ]
  },
  {
   "cell_type": "code",
   "execution_count": 11,
   "id": "aff137e1",
   "metadata": {},
   "outputs": [
    {
     "data": {
      "image/png": "[encoded data removed]",
      "text/plain": [
       "<Figure size 432x288 with 1 Axes>"
      ]
     },
     "metadata": {
      "needs_background": "light"
     },
     "output_type": "display_data"
    }
   ],
   "source": [
    "buscadores = [\"bing\",\"duckduckgo\",\"google\",\"yandex\"]\n",
    "\n",
    "plt.bar(buscadores,cpc)\n",
    "plt.title(\"Clicks por consulta de media\")\n",
    "plt.show()"
   ]
  },
  {
   "cell_type": "markdown",
   "id": "a88d8a3b",
   "metadata": {},
   "source": [
    "## Tasa de abandono\n",
    "\n",
    "En este caso, la tasa de abandono está definida como el porcentaje de consultas que acaban sin ningún click, de nuevo, para cada buscador"
   ]
  },
  {
   "cell_type": "code",
   "execution_count": 12,
   "id": "7032f5a0",
   "metadata": {},
   "outputs": [],
   "source": [
    "# Para ello, agrupamos de nuevo las consultas realizadas y mediante un map comprobamos \n",
    "# si están todas las consultas representadas (13 consultas en total)\n",
    "\n",
    "tda = impresion.groupby(by = [\"system\",\"qid\"])[\"qid\"].count()\n",
    "num_consultas = max(click_log[\"qid\"])+1 #de la 0 a la 12\n",
    "# print(np.shape(tda))\n",
    "\n",
    "tda.map(lambda e: 1)\n",
    "tda = 1-tda.groupby([\"system\"]).count()/num_consultas"
   ]
  },
  {
   "cell_type": "code",
   "execution_count": 13,
   "id": "ce9b2591",
   "metadata": {},
   "outputs": [
    {
     "data": {
      "image/png": "[encoded data removed]",
      "text/plain": [
       "<Figure size 432x288 with 1 Axes>"
      ]
     },
     "metadata": {
      "needs_background": "light"
     },
     "output_type": "display_data"
    }
   ],
   "source": [
    "plt.bar(buscadores,tda)\n",
    "plt.title(\"Tasa de abandono\")\n",
    "plt.show()"
   ]
  },
  {
   "cell_type": "markdown",
   "id": "e60c1da2",
   "metadata": {},
   "source": [
    "## Max RR\n",
    "\n",
    "Esta métrica está definida como el valor medio de $\\frac{1}{r}$ siendo $r$ el rango del resultado visitado con mayor rango. Matemáticamente: $$Max RR = \\frac{1}{|Q|}\\sum_{q_i}^{Q} \\frac{1}{max(rank_{q_i})}$$"
   ]
  },
  {
   "cell_type": "code",
   "execution_count": 14,
   "id": "0d4693e9",
   "metadata": {},
   "outputs": [],
   "source": [
    "# Para ello, calculamos los rangos máximos y mediante una función map calculamos el inverso. \n",
    "\n",
    "maxrr = click_log.groupby(by = [\"system\",\"qid\"])[\"pos\"].min()\n",
    "maxrr = maxrr.map(lambda e: 1/e)\n",
    "\n",
    "maxrr = maxrr.groupby([\"system\"]).mean()"
   ]
  },
  {
   "cell_type": "code",
   "execution_count": 15,
   "id": "f503aad4",
   "metadata": {},
   "outputs": [
    {
     "data": {
      "image/png": "[encoded data removed]",
      "text/plain": [
       "<Figure size 432x288 with 1 Axes>"
      ]
     },
     "metadata": {
      "needs_background": "light"
     },
     "output_type": "display_data"
    }
   ],
   "source": [
    "plt.bar(buscadores,maxrr)\n",
    "plt.title(\"Maximum Reciprocal Rank\")\n",
    "plt.show()"
   ]
  },
  {
   "cell_type": "markdown",
   "id": "fa239b51",
   "metadata": {},
   "source": [
    "## Mean RR\n",
    "\n",
    "Siguiendo un razonamiento similar al $MaxRR$, el $MeanRR$ está definido como el valor medio de la media del inverso de las posiciones de cada URL por búsqueda y por buscador. En otras palabras:\n",
    "$$Mean RR = \\frac{1}{|Q|}\\sum_{q_i}^{Q} \\frac{1}{|Clk_{q_i}|}\\sum_{j}^{q_i}\\frac{1}{rank(j)_{q_i}}$$"
   ]
  },
  {
   "cell_type": "code",
   "execution_count": 16,
   "id": "456b0161",
   "metadata": {},
   "outputs": [],
   "source": [
    "# Para ello, como ya hemos hecho con el maxRR, calculamos la media en vez del máximo y \n",
    "# mediante la función map obtenemos los inversos de los rangos\n",
    "\n",
    "meanrr = click_log.groupby(by = [\"system\",\"qid\"])[\"pos\"].mean()\n",
    "meanrr = meanrr.map(lambda e: 1/e)\n",
    "meanrr = meanrr.groupby([\"system\"]).mean()"
   ]
  },
  {
   "cell_type": "code",
   "execution_count": 17,
   "id": "58b5b271",
   "metadata": {},
   "outputs": [
    {
     "data": {
      "image/png": "[encoded data removed]",
      "text/plain": [
       "<Figure size 432x288 with 1 Axes>"
      ]
     },
     "metadata": {
      "needs_background": "light"
     },
     "output_type": "display_data"
    }
   ],
   "source": [
    "plt.bar(buscadores,meanrr)\n",
    "plt.title(\"Mean Reciprocal Rank\")\n",
    "plt.show()"
   ]
  },
  {
   "cell_type": "markdown",
   "id": "9d3003a8",
   "metadata": {},
   "source": [
    "## Unidades vendidas\n",
    "\n",
    "Finalmente, como su propio nombre indica, sumamos las unidades vendidas por cada buscador."
   ]
  },
  {
   "cell_type": "code",
   "execution_count": 18,
   "id": "adf2b8d7",
   "metadata": {},
   "outputs": [],
   "source": [
    "# Para ello, con una simple agrupación por buscador podemos sumar las compras (\"purchase\") realizadas.\n",
    "\n",
    "uv = click_log.groupby(by = [\"system\"])[\"purchase\"].count()"
   ]
  },
  {
   "cell_type": "code",
   "execution_count": 19,
   "id": "ee76856c",
   "metadata": {},
   "outputs": [
    {
     "data": {
      "image/png": "[encoded data removed]",
      "text/plain": [
       "<Figure size 432x288 with 1 Axes>"
      ]
     },
     "metadata": {
      "needs_background": "light"
     },
     "output_type": "display_data"
    }
   ],
   "source": [
    "plt.bar(buscadores,uv)\n",
    "plt.title(\"Mean Reciprocal Rank\")\n",
    "plt.show()"
   ]
  },
  {
   "cell_type": "markdown",
   "id": "efdc2b1f",
   "metadata": {},
   "source": [
    "Por último, guardaremos en un dataframe cada una de las métricas estudiadas para hacer una valoración global de cada buscador. "
   ]
  },
  {
   "cell_type": "code",
   "execution_count": 20,
   "id": "c4f890b5",
   "metadata": {},
   "outputs": [
    {
     "data": {
      "text/html": [
       "<div>\n",
       "<style scoped>\n",
       "    .dataframe tbody tr th:only-of-type {\n",
       "        vertical-align: middle;\n",
       "    }\n",
       "\n",
       "    .dataframe tbody tr th {\n",
       "        vertical-align: top;\n",
       "    }\n",
       "\n",
       "    .dataframe thead th {\n",
       "        text-align: right;\n",
       "    }\n",
       "</style>\n",
       "<table border=\"1\" class=\"dataframe\">\n",
       "  <thead>\n",
       "    <tr style=\"text-align: right;\">\n",
       "      <th></th>\n",
       "      <th>Click/consulta</th>\n",
       "      <th>Tasa de abandono</th>\n",
       "      <th>Max RR</th>\n",
       "      <th>Mean RR</th>\n",
       "      <th>Unidades vendidas</th>\n",
       "    </tr>\n",
       "    <tr>\n",
       "      <th>system</th>\n",
       "      <th></th>\n",
       "      <th></th>\n",
       "      <th></th>\n",
       "      <th></th>\n",
       "      <th></th>\n",
       "    </tr>\n",
       "  </thead>\n",
       "  <tbody>\n",
       "    <tr>\n",
       "      <th>bing</th>\n",
       "      <td>1.916666667</td>\n",
       "      <td>0.000000000</td>\n",
       "      <td>0.800000000</td>\n",
       "      <td>0.511111111</td>\n",
       "      <td>23</td>\n",
       "    </tr>\n",
       "    <tr>\n",
       "      <th>duckduckgo</th>\n",
       "      <td>2.083333333</td>\n",
       "      <td>0.000000000</td>\n",
       "      <td>0.812500000</td>\n",
       "      <td>0.588392857</td>\n",
       "      <td>25</td>\n",
       "    </tr>\n",
       "    <tr>\n",
       "      <th>google</th>\n",
       "      <td>2.333333333</td>\n",
       "      <td>0.076923077</td>\n",
       "      <td>0.757275132</td>\n",
       "      <td>0.510059184</td>\n",
       "      <td>28</td>\n",
       "    </tr>\n",
       "    <tr>\n",
       "      <th>yandex</th>\n",
       "      <td>3.000000000</td>\n",
       "      <td>0.000000000</td>\n",
       "      <td>0.791666667</td>\n",
       "      <td>0.334762612</td>\n",
       "      <td>39</td>\n",
       "    </tr>\n",
       "  </tbody>\n",
       "</table>\n",
       "</div>"
      ],
      "text/plain": [
       "            Click/consulta  Tasa de abandono       Max RR      Mean RR  \\\n",
       "system                                                                   \n",
       "bing           1.916666667       0.000000000  0.800000000  0.511111111   \n",
       "duckduckgo     2.083333333       0.000000000  0.812500000  0.588392857   \n",
       "google         2.333333333       0.076923077  0.757275132  0.510059184   \n",
       "yandex         3.000000000       0.000000000  0.791666667  0.334762612   \n",
       "\n",
       "            Unidades vendidas  \n",
       "system                         \n",
       "bing                       23  \n",
       "duckduckgo                 25  \n",
       "google                     28  \n",
       "yandex                     39  "
      ]
     },
     "execution_count": 20,
     "metadata": {},
     "output_type": "execute_result"
    }
   ],
   "source": [
    "# Dataframe conjunto\n",
    "\n",
    "d = {'Click/consulta': cpc, 'Tasa de abandono': tda,'Max RR': maxrr,'Mean RR':meanrr,'Unidades vendidas': uv}\n",
    "df = pd.DataFrame(data=d)\n",
    "df"
   ]
  },
  {
   "cell_type": "markdown",
   "id": "6f1c48b0",
   "metadata": {},
   "source": [
    "## CONCLUSIONES \n",
    "Por último, destacaremos los buscadores que mejores métricas han tenido: \n",
    "\n",
    "Por ejemplo, Yandex ha sido el que más clicks por consulta ha recibido y además, lógicamente, el que más unidades ha vendido. \n",
    "\n",
    "Por otro lado, las métricas de Max RR y Mean RR han sido dominadas por duckduckgo. Aunque no ha habido mucha diferencia entre esta y los dos siguientes buscadores, en el caso de Mean RR Yandex ha sido la clara perdedora.\n",
    "\n",
    "Con respecto a la tasa de abandono hemos comprobado que google ha sido el único buscador con alguna búsqueda sin click. "
   ]
  }
 ],
 "metadata": {
  "kernelspec": {
   "display_name": "Python 3 (ipykernel)",
   "language": "python",
   "name": "python3"
  },
  "language_info": {
   "codemirror_mode": {
    "name": "ipython",
    "version": 3
   },
   "file_extension": ".py",
   "mimetype": "text/x-python",
   "name": "python",
   "nbconvert_exporter": "python",
   "pygments_lexer": "ipython3",
   "version": "3.8.5"
  }
 },
 "nbformat": 4,
 "nbformat_minor": 5
}
